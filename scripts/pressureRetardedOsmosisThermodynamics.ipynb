{
 "cells": [
  {
   "cell_type": "markdown",
   "id": "759a9f77-d460-49e2-b64a-f2bf2e594ee9",
   "metadata": {},
   "source": [
    "### Thermodynamic optimizing of pressure-retarded osmosis power generation systems\n",
    "\n",
    "The following comes from this article: https://doi.org/10.1016/S0376-7388(99)00108-8"
   ]
  },
  {
   "cell_type": "markdown",
   "id": "5975815e-e73f-4d08-9fd5-34e840006583",
   "metadata": {},
   "source": [
    "The pressure-retarded osmosis power generation\n",
    "system contains:\n",
    "\n",
    "- 1. a pump which pumps the needed brine flow at the needed hydrostatic pressure\n",
    "- 2. an osmotic unit which consists of numerous thin hollow cylindrical fibres. The walls of the fibres are considered as semi-permeable membranes. The brine is directed to flow inside the hollow fibres and the freshwater outside the fibres. Due to the lower chemical potential inside a hollow fibre than on the outside, the fresh water permeates through\n",
    "the semi-permeable surface to the brine. So, the brine flow increases and dilutes. In pressure retarded osmosis the brine is pressurized, retarding the permeating flow. The hydrostatic pressure\n",
    "drops in the unit. The membrane has to be highly\n",
    "selective i.e. the flow of solute through the mem-\n",
    "brane should be minimal. If the hydrostatic pres-\n",
    "sure of the brine exceeds or the osmotic pressure\n",
    "drops below a certain value, the water will flow\n",
    "from the brine to the fresh water side (reverse\n",
    "osmosis) and if the hydrostatic pressure is equal\n",
    "on both sides, the fresh water will permeate\n",
    "through the semi-permeable walls to the brine\n",
    "due only to the osmotic pressure (direct osmosis)."
   ]
  },
  {
   "cell_type": "code",
   "execution_count": 7,
   "id": "15c5d863-cd86-4314-a568-1a3dd358ea7b",
   "metadata": {},
   "outputs": [
    {
     "name": "stdout",
     "output_type": "stream",
     "text": [
      "1000\n"
     ]
    }
   ],
   "source": [
    "# entering the mass exchanger\n",
    "p0_Pa = 101325\n",
    "Vdot_FW_M3perS = 1\n",
    "rho_FW_kgPerM3 = 1000\n",
    "\n",
    "mdot_FW_kgPerS = Vdot_FW_M3perS*rho_FW_kgPerM3; print(mdot_FW_kgPerS)"
   ]
  },
  {
   "cell_type": "code",
   "execution_count": 8,
   "id": "de077c35-d865-4761-9a5b-a1c32ea34b60",
   "metadata": {},
   "outputs": [
    {
     "name": "stdout",
     "output_type": "stream",
     "text": [
      "100.0\n"
     ]
    }
   ],
   "source": [
    "# mass transferred from the freshwater to the salt water\n",
    "V02_m3PerS = 0.1*Vdot_FW_M3perS\n",
    "mdot_02_kgPerS = V02_m3PerS*rho_FW_kgPerM3; print(mdot_02_kgPerS)"
   ]
  },
  {
   "cell_type": "code",
   "execution_count": 11,
   "id": "c3baef6e-988f-4c04-b945-bb284f4cef1b",
   "metadata": {},
   "outputs": [
    {
     "name": "stdout",
     "output_type": "stream",
     "text": [
      "900.0\n",
      "0.9\n"
     ]
    }
   ],
   "source": [
    "# freshwater exiting the mass exchanger \n",
    "mdot_1_kgPerS = mdot_FW_kgPerS - mdot_02_kgPerS; print(mdot_1_kgPerS)\n",
    "V1_m3PerS = mdot_1_kgPerS/rho_FW_kgPerM3; print(V1_m3PerS)"
   ]
  },
  {
   "cell_type": "code",
   "execution_count": 14,
   "id": "ddd10604-2464-476c-a2cf-093bdb0243ce",
   "metadata": {},
   "outputs": [
    {
     "name": "stdout",
     "output_type": "stream",
     "text": [
      "1025\n"
     ]
    }
   ],
   "source": [
    "# salt water entering the pump\n",
    "p1_Pa = 101325\n",
    "\n",
    "# salt water exiting the pump\n",
    "p2_Pa = 10e5 # why this choice? What if the pressure was higher than this? \n",
    "\n",
    "# salt water mass flow rate entering the mass exchanger\n",
    "Vdot_2_M3PerS = 1\n",
    "rho_SW_kgPerM3 = 1025\n",
    "mdot_2_kgPerS = rho_SW_kgPerM3*Vdot_2_M3PerS; print(mdot_2_kgPerS)"
   ]
  },
  {
   "cell_type": "code",
   "execution_count": 18,
   "id": "fd8290b1-b498-4de8-8602-85687ad97c7e",
   "metadata": {},
   "outputs": [
    {
     "name": "stdout",
     "output_type": "stream",
     "text": [
      "1125.0\n",
      "1.0975609756097562\n"
     ]
    }
   ],
   "source": [
    "# mass flow rate exiting the mass exchanger\n",
    "mdot_3_kgPerS = mdot_2_kgPerS + mdot_02_kgPerS; print(mdot_3_kgPerS)\n",
    "Vdot_3_m3PerS = mdot_3_kgPerS/rho_SW_kgPerM3; print(Vdot_3_m3PerS)"
   ]
  },
  {
   "cell_type": "code",
   "execution_count": 22,
   "id": "74a3d0ed-9592-4013-9e92-8ca8145072bc",
   "metadata": {},
   "outputs": [
    {
     "name": "stdout",
     "output_type": "stream",
     "text": [
      "50000.0\n",
      "950000.0\n"
     ]
    }
   ],
   "source": [
    "# pressure drop across the mass exchanger on the salt water side\n",
    "dp_23_Pa = p2_Pa*0.05; print(dp_23_Pa)\n",
    "\n",
    "# salt water exiting the mass exchanger\n",
    "p3_Pa = p2_Pa - dp_23_Pa; print(p3_Pa)"
   ]
  },
  {
   "cell_type": "code",
   "execution_count": 23,
   "id": "1c0c7040-98c3-4147-90f2-83b7770d67b3",
   "metadata": {},
   "outputs": [
    {
     "name": "stdout",
     "output_type": "stream",
     "text": [
      "931472.5609756098\n"
     ]
    }
   ],
   "source": [
    "# turbine\n",
    "p4_Pa = p3_Pa\n",
    "\n",
    "Wdot_34_W = Vdot_3_m3PerS*(p3_Pa - p0_Pa); print(Wdot_34_W)"
   ]
  },
  {
   "cell_type": "code",
   "execution_count": 24,
   "id": "91579c24-474b-4426-a7c1-6d9a5b0e3a3b",
   "metadata": {},
   "outputs": [
    {
     "name": "stdout",
     "output_type": "stream",
     "text": [
      "898675.0\n"
     ]
    }
   ],
   "source": [
    "Wdot_12_W = Vdot_2_M3PerS*(p2_Pa-p1_Pa); print(Wdot_12_W)"
   ]
  },
  {
   "cell_type": "code",
   "execution_count": 25,
   "id": "eec26162-5cb1-483a-8d1b-0c94c4b13732",
   "metadata": {},
   "outputs": [
    {
     "name": "stdout",
     "output_type": "stream",
     "text": [
      "32797.56097560981\n"
     ]
    }
   ],
   "source": [
    "Wnet_W = Wdot_34_W - Wdot_12_W; print(Wnet_W)"
   ]
  },
  {
   "cell_type": "code",
   "execution_count": null,
   "id": "6e7d012e-b3a7-4754-bca6-77d8a86df973",
   "metadata": {},
   "outputs": [],
   "source": []
  }
 ],
 "metadata": {
  "kernelspec": {
   "display_name": "Python 3 (ipykernel)",
   "language": "python",
   "name": "python3"
  },
  "language_info": {
   "codemirror_mode": {
    "name": "ipython",
    "version": 3
   },
   "file_extension": ".py",
   "mimetype": "text/x-python",
   "name": "python",
   "nbconvert_exporter": "python",
   "pygments_lexer": "ipython3",
   "version": "3.11.11"
  }
 },
 "nbformat": 4,
 "nbformat_minor": 5
}
