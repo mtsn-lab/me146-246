{
 "cells": [
  {
   "cell_type": "markdown",
   "id": "5344d1d8-0a24-4114-9d35-dabe85173c54",
   "metadata": {},
   "source": [
    "The total resistance to radiation exchange between two diffuse gray surfaces (1 and 2) that form an enclosure, is comprised of two surface resistances and the geometrical resistance. Therefore, the net radiation exchange between surfaces ($P_{12} [=]$ W m$^{-2}$) may be expressed as:\n",
    "\n",
    "$$P_{12} = \\frac{\\sigma \\left(T_1^4 - T_2^4 \\right)}{\\frac{1 - \\epsilon_1}{\\epsilon_1 A_1} + \\frac{1}{A_1 F_{12}} + \\frac{1 - \\epsilon_2}{\\epsilon_2 A_2}} $$\n",
    "\n",
    "where $\\epsilon_1$ and $\\epsilon_2$ are the emissivity values of surface 1 and 2, respectively; $A_1$ and $A_2$ are the surface areas of surface 1 and 2, respectively; and $F_{12}$ is the view factor. \n",
    "\n",
    "Consider now two metallic plates with linear dimensions much larger than their separation distance from one another, so that they can be treated as infinite planes, resulting in $F_{12}$ = 1. What is the effecive emissivity on the sides that face one another? "
   ]
  },
  {
   "cell_type": "code",
   "execution_count": null,
   "id": "6da67876-da9b-433f-a1b3-15fabc8feb86",
   "metadata": {},
   "outputs": [],
   "source": []
  }
 ],
 "metadata": {
  "kernelspec": {
   "display_name": "Python 3 (ipykernel)",
   "language": "python",
   "name": "python3"
  },
  "language_info": {
   "codemirror_mode": {
    "name": "ipython",
    "version": 3
   },
   "file_extension": ".py",
   "mimetype": "text/x-python",
   "name": "python",
   "nbconvert_exporter": "python",
   "pygments_lexer": "ipython3",
   "version": "3.11.11"
  }
 },
 "nbformat": 4,
 "nbformat_minor": 5
}
