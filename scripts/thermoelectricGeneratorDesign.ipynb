{
 "cells": [
  {
   "cell_type": "markdown",
   "id": "50590752-30f5-4ebe-929b-d992587ae9fe",
   "metadata": {},
   "source": [
    "We want the following:"
   ]
  },
  {
   "cell_type": "code",
   "execution_count": 1,
   "id": "24be5587-dfe2-4b42-9d3a-163e70cb1b3a",
   "metadata": {},
   "outputs": [],
   "source": [
    "WdotOut_kW = 100\n",
    "Vout_V = 115\n",
    "\n",
    "Tin_K = 1500\n",
    "Tout_K = 1000"
   ]
  },
  {
   "cell_type": "code",
   "execution_count": 11,
   "id": "e846632e-9e89-48af-87a0-077f5ab7c6c8",
   "metadata": {},
   "outputs": [],
   "source": [
    "# Seebeck coefficient\n",
    "S_VperK = 0.0005\n",
    "\n",
    "# Arm A\n",
    "rho_A_OhmCm = 0.002\n",
    "rho_B_OhmCm = 0.003\n",
    "\n",
    "lambda_A_WperCmPerK = 0.032\n",
    "lambda_B_WperCmPerK = 0.021\n",
    "\n",
    "IMax_AperCm2 = 100"
   ]
  },
  {
   "cell_type": "markdown",
   "id": "1d174ddc-c6f6-400b-b24e-49a9e3f8b3b5",
   "metadata": {},
   "source": [
    "Determine:\n",
    "- The open-circuit voltage\n",
    "- Number of thermocouples in series\n",
    "- The heat input and heat rejected at full load and no load\n",
    "- Max thermal efficiency\n"
   ]
  },
  {
   "cell_type": "code",
   "execution_count": 8,
   "id": "4622a40c-c256-4b1a-9920-8d1208fbd19c",
   "metadata": {},
   "outputs": [
    {
     "name": "stdout",
     "output_type": "stream",
     "text": [
      "(i) The open circuit voltage per thermocouple is: 0.25 V\n"
     ]
    }
   ],
   "source": [
    "Voc_V = S_VperK*(Tin_K - Tout_K)#; print(Voc_V)\n",
    "\n",
    "print('(i) The open circuit voltage per thermocouple is: {0:1.2f} V'.format(Voc_V))"
   ]
  },
  {
   "cell_type": "markdown",
   "id": "06cfa601-6b2b-427b-9373-21d8d0c0e91c",
   "metadata": {},
   "source": [
    "The current through each thermocouple is:"
   ]
  },
  {
   "cell_type": "code",
   "execution_count": 9,
   "id": "dfc31e82-fce7-4331-b0e6-3dc4b6de8b2e",
   "metadata": {},
   "outputs": [
    {
     "name": "stdout",
     "output_type": "stream",
     "text": [
      "869.5652173913044\n"
     ]
    }
   ],
   "source": [
    "I_A = (WdotOut_kW*1000)/Vout_V; print(I_A)"
   ]
  },
  {
   "cell_type": "markdown",
   "id": "75b32fda-6733-41c2-86cf-7aa6959b5e1a",
   "metadata": {},
   "source": [
    "There are $n$ thermocouples each with its own resistance, $R$:\n",
    "\n",
    "$$n V_{oc} - nRI = 115 \\text{V} $$\n",
    "\n",
    "The load resistance can be determined as:"
   ]
  },
  {
   "cell_type": "code",
   "execution_count": 10,
   "id": "0f896e0a-feb9-4d14-9014-970cc7ebc342",
   "metadata": {},
   "outputs": [
    {
     "name": "stdout",
     "output_type": "stream",
     "text": [
      "0.13225\n"
     ]
    }
   ],
   "source": [
    "RL_Ohm = Vout_V/I_A; print(RL_Ohm)"
   ]
  },
  {
   "cell_type": "markdown",
   "id": "277f6a4e-36bf-407c-8512-bda72f0bc738",
   "metadata": {},
   "source": [
    "Recall our figure of merit:\n",
    "\n",
    "$$Z = \\frac{\\alpha^2}{\\Lambda R} $$"
   ]
  },
  {
   "cell_type": "code",
   "execution_count": 15,
   "id": "837ab8fd-306a-40d3-810d-49e41f63949f",
   "metadata": {},
   "outputs": [
    {
     "name": "stdout",
     "output_type": "stream",
     "text": [
      "0.0002539960629311003\n"
     ]
    }
   ],
   "source": [
    "A_OhmWperK = rho_A_OhmCm*lambda_A_WperCmPerK\n",
    "B_OhmWperK = rho_B_OhmCm*lambda_B_WperCmPerK\n",
    "\n",
    "LambdaR_V2perK = ((A_OhmWperK)**.5 + (B_OhmWperK)**.5)**2; print(LambdaR_V2perK)"
   ]
  },
  {
   "cell_type": "code",
   "execution_count": 16,
   "id": "f9cc0b09-9bcd-45ee-8fe8-1aa4f3c0f8af",
   "metadata": {},
   "outputs": [
    {
     "name": "stdout",
     "output_type": "stream",
     "text": [
      "0.000984267224912914\n"
     ]
    }
   ],
   "source": [
    "Z = (S_VperK**2)/LambdaR_V2perK; print(Z)"
   ]
  },
  {
   "cell_type": "code",
   "execution_count": 17,
   "id": "c73cb51b-5abf-44bc-a307-9436503f5eb6",
   "metadata": {},
   "outputs": [
    {
     "name": "stdout",
     "output_type": "stream",
     "text": [
      "1250.0\n"
     ]
    }
   ],
   "source": [
    "Tbar_K = (Tin_K + Tout_K)/2; print(Tbar_K)"
   ]
  },
  {
   "cell_type": "markdown",
   "id": "edf6864e-ee06-45ce-ab17-1c53934eac8f",
   "metadata": {},
   "source": [
    "For maximum efficiency the load resistance, $R_L$ must match $m R_{batt}$, i.e.\n",
    "\n",
    "$$R_L = m n R $$\n",
    "\n",
    "where\n",
    "\n",
    "$$m = \\sqrt{1 + \\bar{T}Z} $$"
   ]
  },
  {
   "cell_type": "code",
   "execution_count": 18,
   "id": "5fb5766d-2639-45f7-959e-33cdccb1b07f",
   "metadata": {},
   "outputs": [
    {
     "name": "stdout",
     "output_type": "stream",
     "text": [
      "1.4934302900172953\n"
     ]
    }
   ],
   "source": [
    "m = (1 + Tbar_K*Z)**.5; print(m)"
   ]
  },
  {
   "cell_type": "code",
   "execution_count": 19,
   "id": "6e106a6f-cafd-4feb-a892-e48000186909",
   "metadata": {},
   "outputs": [
    {
     "name": "stdout",
     "output_type": "stream",
     "text": [
      "0.08855451833541453\n"
     ]
    }
   ],
   "source": [
    "nR_Ohm = RL_Ohm/m; print(nR_Ohm)"
   ]
  },
  {
   "cell_type": "markdown",
   "id": "558ad69c-a3cc-4d1a-a62c-106bf81ad50a",
   "metadata": {},
   "source": [
    "Recall: \n",
    "\n",
    "$$n V_{oc} - nRI = 115 \\text{V} $$\n",
    "\n",
    "which we can re-write as:\n",
    "\n",
    "$$n = \\frac{115 \\text{V} + nRI}{V_{oc}} $$"
   ]
  },
  {
   "cell_type": "code",
   "execution_count": 21,
   "id": "2057a831-882e-45c6-82a5-b2b980c79c72",
   "metadata": {},
   "outputs": [
    {
     "name": "stdout",
     "output_type": "stream",
     "text": [
      "(ii) The number of thermocouples we need in series is: 768.02\n"
     ]
    }
   ],
   "source": [
    "n = (Vout_V + nR_Ohm*I_A)/(Voc_V)\n",
    "\n",
    "print('(ii) The number of thermocouples we need in series is: {0:1.2f}'.format(n))"
   ]
  },
  {
   "cell_type": "markdown",
   "id": "0c11622f-4c18-4eab-bab5-68ac5643811b",
   "metadata": {},
   "source": [
    "The open circuit voltage of the battery is $V_{OC} = nV_{oc}$:"
   ]
  },
  {
   "cell_type": "code",
   "execution_count": 22,
   "id": "fa42ba09-1958-4161-b277-36e1769acd1a",
   "metadata": {},
   "outputs": [
    {
     "name": "stdout",
     "output_type": "stream",
     "text": [
      "192.00392898731698\n"
     ]
    }
   ],
   "source": [
    "V_OC_V = n*Voc_V; print(V_OC_V)"
   ]
  },
  {
   "cell_type": "markdown",
   "id": "31150e8c-9c66-4c0e-93e3-a453828893c7",
   "metadata": {},
   "source": [
    "The thermal conductivity of the battery is $n \\Lambda$ since the thermocouples are all in parallel. We can write:\n",
    "\n",
    "$$\\Lambda = \\frac{\\Lambda R}{R} $$"
   ]
  },
  {
   "cell_type": "code",
   "execution_count": 23,
   "id": "e79daaad-aff6-41c3-a676-fd84e36b4b36",
   "metadata": {},
   "outputs": [
    {
     "name": "stdout",
     "output_type": "stream",
     "text": [
      "0.00011530300291571649\n"
     ]
    }
   ],
   "source": [
    "R_Ohm = (nR_Ohm)/(n); print(R_Ohm)"
   ]
  },
  {
   "cell_type": "code",
   "execution_count": 24,
   "id": "8772bed1-026c-4085-8607-b7b14b45c5a0",
   "metadata": {},
   "outputs": [
    {
     "name": "stdout",
     "output_type": "stream",
     "text": [
      "2.202857310808851\n"
     ]
    }
   ],
   "source": [
    "Lambda_WperK = LambdaR_V2perK/R_Ohm; print(Lambda_WperK)"
   ]
  },
  {
   "cell_type": "code",
   "execution_count": 25,
   "id": "2097a7ad-1f38-42ff-8319-36b94595dd66",
   "metadata": {},
   "outputs": [
    {
     "name": "stdout",
     "output_type": "stream",
     "text": [
      "1691.8290346949386\n"
     ]
    }
   ],
   "source": [
    "LambdaBattery_WperK = Lambda_WperK*n ;print(LambdaBattery_WperK)"
   ]
  },
  {
   "cell_type": "code",
   "execution_count": 33,
   "id": "2f4d037c-8191-4a15-9e53-25943a3c5754",
   "metadata": {},
   "outputs": [
    {
     "name": "stdout",
     "output_type": "stream",
     "text": [
      "(iii) The heat input at no load is: 845.91 kW\n",
      "(iii) The heat rejected at no load is: 845.91 kW\n"
     ]
    }
   ],
   "source": [
    "QdotHotNoLoad_kW = (LambdaBattery_WperK*(Tin_K - Tout_K))/1e3\n",
    "\n",
    "print('(iii) The heat input at no load is: {0:1.2f} kW'.format(QdotHotNoLoad_kW))\n",
    "print('(iii) The heat rejected at no load is: {0:1.2f} kW'.format(QdotHotNoLoad_kW))"
   ]
  },
  {
   "cell_type": "code",
   "execution_count": 34,
   "id": "41609694-7c38-4eca-b46e-02e0ab295e41",
   "metadata": {},
   "outputs": [
    {
     "name": "stdout",
     "output_type": "stream",
     "text": [
      "(iii) The heat input at full load is: 1313.31 kW\n"
     ]
    }
   ],
   "source": [
    "QdotHotFullLOad_W = (QdotHotNoLoad_kW*1e3) + n*S_VperK*Tin_K*I_A - (1/2)*(I_A**2)*n*R_Ohm\n",
    "\n",
    "QdotHotFullLOad_kW = QdotHotFullLOad_W/1e3\n",
    "print('(iii) The heat input at full load is: {0:1.2f} kW'.format(QdotHotFullLOad_kW))"
   ]
  },
  {
   "cell_type": "code",
   "execution_count": 35,
   "id": "9a9f53ef-7883-46be-831c-43211fd0245b",
   "metadata": {},
   "outputs": [
    {
     "name": "stdout",
     "output_type": "stream",
     "text": [
      "(iii) The heat rejected at full load is: 1213.31 kW\n"
     ]
    }
   ],
   "source": [
    "QdotColdFullLoad_kW = QdotHotFullLOad_kW - WdotOut_kW\n",
    "print('(iii) The heat rejected at full load is: {0:1.2f} kW'.format(QdotColdFullLoad_kW))"
   ]
  },
  {
   "cell_type": "code",
   "execution_count": 36,
   "id": "83b326a6-191a-45a1-8695-4867f80d3988",
   "metadata": {},
   "outputs": [
    {
     "name": "stdout",
     "output_type": "stream",
     "text": [
      "(iv) The efficiency is: 7.61%\n"
     ]
    }
   ],
   "source": [
    "eta = WdotOut_kW/QdotHotFullLOad_kW#; print(eta)\n",
    "print('(iv) The efficiency is: {0:1.2f}%'.format(eta*100))"
   ]
  },
  {
   "cell_type": "code",
   "execution_count": null,
   "id": "a57fd023-c507-4870-a7c2-0c75b51690f2",
   "metadata": {},
   "outputs": [],
   "source": []
  }
 ],
 "metadata": {
  "kernelspec": {
   "display_name": "Python 3 (ipykernel)",
   "language": "python",
   "name": "python3"
  },
  "language_info": {
   "codemirror_mode": {
    "name": "ipython",
    "version": 3
   },
   "file_extension": ".py",
   "mimetype": "text/x-python",
   "name": "python",
   "nbconvert_exporter": "python",
   "pygments_lexer": "ipython3",
   "version": "3.11.11"
  }
 },
 "nbformat": 4,
 "nbformat_minor": 5
}
