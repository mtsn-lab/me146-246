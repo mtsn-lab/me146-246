{
 "cells": [
  {
   "cell_type": "markdown",
   "id": "25986d49-e26a-4c40-a164-7940ba2c420a",
   "metadata": {},
   "source": [
    "#### Thermionic emission\n",
    "\n",
    "Let us define $\\phi$ as the energy required by an electron to escape from a given metal. In order for electrons to escape from a surface, they must have excess kinetic energy associated with the velocity component normal to the emitting interface. The electron current density, $J_0$, depends exponentially on $\\phi$:\n",
    "\n",
    "$$J_0 = q \\frac{4 \\pi}{h^3} m k_B^2 T^2 \\exp \\left(-\\frac{q \\phi}{k_B T}\\right)$$\n",
    "\n",
    "which is also called the Richardson's equation (1928 Nobel Prize in Physics)."
   ]
  },
  {
   "cell_type": "markdown",
   "id": "a7f633f2-6526-4bd0-842a-add4d7a002b8",
   "metadata": {},
   "source": [
    "variables:\n",
    "- $q$: elementary charge\n",
    "- $h$: Planck's constant\n",
    "- $k_B$: Boltzmann's constant\n",
    "- $m$: electron mass (9.1e-31 kg)\n",
    "- $T$: temperature\n",
    "\n",
    "Recall: 1 Coulomb x 1 Volt = 1 Joule.\n",
    "\n",
    "We can form a constant from the prefactor:\n",
    "\n",
    "$$A_\\text{th} = q \\frac{4 \\pi}{h^3} m k_B^2  $$\n"
   ]
  },
  {
   "cell_type": "code",
   "execution_count": 1,
   "id": "ca5b4d26-93bc-4942-9022-74f8e95d7dd7",
   "metadata": {},
   "outputs": [
    {
     "name": "stdout",
     "output_type": "stream",
     "text": [
      "The theoretical emission constant, Ath is: 1199236.50 A/m2.\n"
     ]
    }
   ],
   "source": [
    "import math\n",
    "\n",
    "m_kg = 9.1e-31\n",
    "q_C = 1.602e-19\n",
    "kB_JperK = 1.380e-23\n",
    "h_Js = 6.626e-34\n",
    "\n",
    "Ath_AperM2 = (4*3.1415*m_kg*q_C*(kB_JperK**2))/(h_Js**3)\n",
    "\n",
    "print('The theoretical emission constant, Ath is: {0:1.2f} A/m2.'.format(Ath_AperM2))"
   ]
  },
  {
   "cell_type": "markdown",
   "id": "88de93a2-15ca-42a7-acdf-acb1430a4f0c",
   "metadata": {},
   "source": [
    "The work function depends on the emitting surface and depends on temperature. Suppose:\n",
    "\n",
    "$$\\phi = \\phi_0 + a_1T + a_2T^2 + ... [=] \\text{ eV} $$\n",
    "\n",
    "If we assume that the higher order terms are small, then:\n",
    "\n",
    "$$J_0 = A_\\text{th} T^2 \\exp \\left[-\\frac{q}{k_B T} \\left(\\phi_0 + a_1T\\right)\\right]$$\n",
    "\n",
    "or\n",
    "\n",
    "$$J_0 = A_\\text{th} T^2 \\exp \\left[-\\frac{q}{k_B T} \\left(\\phi_0\\right)\\right] \\exp \\left[-\\frac{q}{k_B T} \\left(a_1T\\right)\\right]$$\n",
    "\n",
    "$$ \\implies J_0 = A T^2 \\exp \\left[-\\frac{q \\phi_0}{k_B T} \\right] $$\n",
    "\n",
    "where \n",
    "\n",
    "$$A = A_\\text{th} \\exp \\left(-\\frac{q}{k_B} a_1 \\right) [=] \\text{ A / m2 / K2} $$"
   ]
  },
  {
   "cell_type": "markdown",
   "id": "4c475a5a-8f82-449c-a34f-dcdc96851cc9",
   "metadata": {},
   "source": [
    "The values of $\\phi_0$ and $A$ are published. \n",
    "\n",
    "Thermioinic energy converters need the work function of the mitter to be larger than that of the collector."
   ]
  },
  {
   "cell_type": "markdown",
   "id": "7276e8cd-8826-4bab-aba9-0da5e254efbb",
   "metadata": {},
   "source": [
    "Remember that an electron volt is the kinetic energy gained by an electron accelerated through an electric potential difference of one volt in a vacuum. We can convert from electron volts (eV) to joules (J) by multiplying by $q$ (1.602e-19). "
   ]
  },
  {
   "cell_type": "code",
   "execution_count": 5,
   "id": "8f118803-ff37-403b-82e6-f7e2343d2340",
   "metadata": {},
   "outputs": [
    {
     "name": "stdout",
     "output_type": "stream",
     "text": [
      "4035.361353795418\n",
      "1.2130998569122245e-08\n"
     ]
    }
   ],
   "source": [
    "# BaO + SrO emitter\n",
    "T_K = 1150\n",
    "A_BaOSrO_AperM2 = 100\n",
    "phi_0_eV = 1.03\n",
    "\n",
    "J_BaOSrO_AperM2 = A_BaOSrO_AperM2*(T_K**2)*math.exp(-(phi_0_eV*q_C)/(kB_JperK*T_K)); print(J_BaOSrO_AperM2)\n",
    "\n",
    "# Compare with tungsten\n",
    "\n",
    "A_W_AperM2 = 600000\n",
    "phi_W_0_eV = 4.52\n",
    "J_W_AperM2 = A_W_AperM2*(T_K**2)*math.exp(-(phi_W_0_eV*q_C)/(kB_JperK*T_K)); print(J_W_AperM2)\n",
    "\n",
    "# need to operate tungsten emitters at high temperatures!"
   ]
  },
  {
   "cell_type": "markdown",
   "id": "68375328-42c7-4acb-a26d-c693cfe098ed",
   "metadata": {},
   "source": [
    "#### Simple thermionic generator\n",
    "\n",
    "The simplest device consists of an emitting surface, heated to a sufficiently high temperature, $T_H$, in the vicinity of a collecting surface, which is at a lower temperature, $T_C$. The space between the surfaces is a vacuum. The plates are placed parallel to each other. We assume there are no space charges.\n",
    "\n",
    "If there are no losses, then the electrons will slowly come out of the emitter. In reality, the electrons leave with some kinetic energy. If we assume that the kinetic energy of the electrons is zero, then the heat input to the generator would be:\n",
    "\n",
    "$$P_\\text{in} = J \\phi_\\text{E} $$\n",
    "\n",
    "where $\\phi_\\text{E}$ (volts) is the work function of the emitter and $\\phi_\\text{C}$ (volts) is the work function of the collector. The maximum power output is then:\n",
    "\n",
    "$$J_0 \\left(\\phi_\\text{E} - \\phi_\\text{C} \\right) $$\n",
    "\n",
    "The efficiency is then:\n",
    "\n",
    "$$\\eta = \\frac{P_\\text{out}}{P_\\text{in}} = \\frac{J_0 \\left(\\phi_\\text{E} - \\phi_\\text{C} \\right)}{J_0 \\phi_\\text{E}} $$"
   ]
  },
  {
   "cell_type": "markdown",
   "id": "7789a713-4c1f-46f0-97f4-6109d4414316",
   "metadata": {},
   "source": [
    "If the emitter is made of tungsten (W) and the collector of cesium (Cs), then: $\\phi_\\text{E} = 4.52$ eV and $\\phi_\\text{C} = 1.81$ eV. We can determine the voltage associated with this energy by dividing by $q$. Because it's in eV, what we have is 4.52 V and 1.81 V."
   ]
  },
  {
   "cell_type": "code",
   "execution_count": 3,
   "id": "e50793c7-9d3e-42c3-b50f-86580ffd1d4e",
   "metadata": {},
   "outputs": [
    {
     "name": "stdout",
     "output_type": "stream",
     "text": [
      "0.5995575221238938\n"
     ]
    }
   ],
   "source": [
    "phiE_eV = 4.52\n",
    "phiC_eV = 1.81\n",
    "\n",
    "eta = 1 - (phiC_eV/phiE_eV); print(eta)"
   ]
  },
  {
   "cell_type": "code",
   "execution_count": null,
   "id": "a02685f5-2212-4003-8559-fb6b4fe610e3",
   "metadata": {},
   "outputs": [],
   "source": []
  }
 ],
 "metadata": {
  "kernelspec": {
   "display_name": "Python 3 (ipykernel)",
   "language": "python",
   "name": "python3"
  },
  "language_info": {
   "codemirror_mode": {
    "name": "ipython",
    "version": 3
   },
   "file_extension": ".py",
   "mimetype": "text/x-python",
   "name": "python",
   "nbconvert_exporter": "python",
   "pygments_lexer": "ipython3",
   "version": "3.11.11"
  }
 },
 "nbformat": 4,
 "nbformat_minor": 5
}
