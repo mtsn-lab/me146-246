{
 "cells": [
  {
   "cell_type": "markdown",
   "id": "02fed42f-f516-4234-80ea-3a22276ef801",
   "metadata": {},
   "source": [
    "#### Efficiency of a thermoelectric device: Mars Curiosity Rover\n",
    "\n",
    "Curiosity carries a radioisotope power system that generates electricity from the heat of plutonium's radioactive decay. The power it produces is slightly over 100 W.\n",
    "\n",
    "A thermoelectric module is a circuit containing thermoelectric materials that can generate electricity directly from heat. The module contains two different thermoelectric materials joined at their ends with positive and negative charge carriers, respectively. Assume that there is a temperature gradient, $\\nabla T$, along the vertical direction of a conductor. Direct electrical current will flow in the circuit when there is a temperature gradient:\n",
    "\n",
    "$$J = \\sigma S \\nabla T $$\n",
    "\n",
    "where $J$ is the current density (A m$^{-2}$), $\\sigma$ is electrical conductivity (S m$^{-1}$ or $\\Omega^{-1}$ m$^{-1}$), and $S$ is the Seebeck coefficient (V K$^{-1}$), which is a property of the material. $S \\nabla T$ $[=]$ V m$^{-1}$ and therefore represents an “electric field” and the above equation then resembles Ohm's law. \n",
    "\n",
    "i.\tBased on the equation above, to be good thermoelectric materials, should they have have high or low electrical conductivity? How about high or low thermal conductivity ($k$)? \n",
    "\n",
    "ii. The Seebeck coefficient is a measure of the magnitude of an induced thermoelectric voltage in response to a temperature gradient across the thermoelectric material. Its values can vary between -100 $\\mu$V K$^{-1}$ to 1000 $\\mu$V K$^{-1}$. Given the following equation, which accounts for the Seebeck, Peltier, and Thomson effects: \n",
    "\n",
    "$$J = \\sigma \\left(-\\nabla V - S \\nabla T \\right) $$\n",
    "\n",
    "How would you determine $S$ experimentally?\n",
    "\n",
    "iii. The usefulness of a thermoelectric material is determined by the overall device efficiency, defined as:\n",
    "\n",
    "$$ \\eta = \\frac{\\text{energy provided to the load}}{\\text{heat energy absorbed at hot junction}}$$\n",
    "\n",
    "The theoretical maximum efficiency of the device can be defined as:\n",
    "\n",
    "$$\\eta_\\text{max}= \\left(\\frac{T_H - T_C}{T_H} \\right)\\left(\\frac{\\sqrt{1 + Z\\bar{T}} - 1}{\\sqrt{1 + Z\\bar{T}} + T_C/T_H} \\right) $$\n",
    "\n",
    "where $T_H$ is the temperature at the hot junction and $T_C$ is the temperature of the surface being cooled. The first factor on the right-hand side of the equation is the Carnot efficiency. The second factor on the right-hand side of the equation we will look at in part (iv). \n",
    "\n",
    "Plutonium has a power density of 540 W kg$^{-1}$, a density of 19,816 kg m$^{-3}$, and a half life of 88 years. Say you have 1 kg of plutonium, that the temperature of Martian air is 210 K, the thickness of your thermoelectric materials is $L$ = 0.010 m, and that their average value of $k$ = 10 W/(m K). define $T_H$ and $T_C$. Hint: Assume that plutonium is a sphere to estimate the heat flux.\n",
    "\n",
    "iv. \tFigure of Merit. Assuming that the magnitude of $S$ is the same in the two materials, and that $\\sigma$ and $k$ are also the same, we can estimate $Z\\bar{T}$ as\n",
    "\n",
    "$$Z\\bar{T} \\approx \\frac{\\sigma S^2\\bar{T}}{k} [=] \\text{dimensionless}$$\n",
    "\n",
    "where $\\bar{T}$ is the average temperature between the hot and cold surfaces. A common value of $Z\\bar{T}$ is of the order of 1. Using this value calculate the efficiency of your device.\n",
    "\n",
    "v. How much electricity can your device make?"
   ]
  },
  {
   "cell_type": "code",
   "execution_count": null,
   "id": "a30ba998-6c90-4e9d-b9eb-0deb7eb93d8e",
   "metadata": {},
   "outputs": [],
   "source": []
  }
 ],
 "metadata": {
  "kernelspec": {
   "display_name": "Python 3 (ipykernel)",
   "language": "python",
   "name": "python3"
  },
  "language_info": {
   "codemirror_mode": {
    "name": "ipython",
    "version": 3
   },
   "file_extension": ".py",
   "mimetype": "text/x-python",
   "name": "python",
   "nbconvert_exporter": "python",
   "pygments_lexer": "ipython3",
   "version": "3.11.11"
  }
 },
 "nbformat": 4,
 "nbformat_minor": 5
}
