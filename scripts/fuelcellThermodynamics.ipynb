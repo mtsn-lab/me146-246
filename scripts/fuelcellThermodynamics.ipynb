{
 "cells": [
  {
   "cell_type": "markdown",
   "id": "28852d8e-426e-4124-a722-06fee13082a3",
   "metadata": {},
   "source": [
    "Consider the reaction:\n",
    "\n",
    "$$2H_2 + O_2 \\rightarrow  2H_2O$$\n",
    "\n",
    "Assume that a measured amount, N, of hydrogen is introduced into a constant-pressure calorimeter and is made to react with suﬃcient oxygen. A certain amount of heat, $Q$, is released. \n",
    "\n",
    "$$Q/n = \\bar{h}_\\text{comb} $$\n",
    "\n",
    "which is the heat of combustion of hydrogen in an atmosphere of oxygen (kJ/kmol). If the water produced is liquid, the heat of combustion is larger than when water is in the form of gas because the heat released includes the heat of condensation of water. As explained in Chapter 3, all fuels containing hydrogen have two diﬀerent heats of combustion: the higher heat of combustion in case of liquid water and the lower heat of combustion in case of water vapor.\n",
    "\n",
    "Since the reaction occurs at constant pressure, the heat released is the change in enthalpy of the system: \n",
    "\n",
    "$$ Q = \\Delta H $$\n",
    "\n",
    "The difference between the enthalpy of the product and those of its elements is the enthalpy of formation, $h_f$. \n",
    "\n"
   ]
  },
  {
   "cell_type": "markdown",
   "id": "503251b0-6c25-403c-9245-a4569ac82c19",
   "metadata": {},
   "source": [
    "If the reaction under consideration occurs not in a calorimeter but in an\n",
    "ideal fuel cell, part (but not all) of the energy will be released in the form\n",
    "of electricity. It is important to investigate how much of the ΔH of the\n",
    "reaction will be converted into electric energy and to understand why some\n",
    "of the energy must take the form of heat even in the ideal case."
   ]
  },
  {
   "cell_type": "markdown",
   "id": "d0b55ed9-ace7-4241-a1b4-61b0062b711a",
   "metadata": {},
   "source": [
    "Let $V_\\text{rev}$ be the voltage produced by the cell. Each kmol of water contains $N_0$ molecules (avogradro's constant). The cathode reaction is:\n",
    "\n",
    "$$4e^- + 4H^+ + O_2 \\rightarrow 2H_2O $$\n",
    "\n",
    "we see that for each molecule of water, 2 electrons (charge $q$) circulate in the load. The energy delivered to the load is the product of the charge, $ 2 q N_0$, times the voltage $V_\\text{rev}$. The electric energy produced per kmol of product in a reversible fuel cell is:\n",
    "\n",
    "$$W_e =2.718 n_e q N_0 V_\\text{rev} = n_e F V_\\text{rev} $$\n",
    "\n",
    "where $n_e$ is number of kmoles of electrons released per kilomole of products; $q$ is the charge of the electron (1.602 × 10e−19 coulombs); $N_0$ is Avogradro's constant; $F = q N_0$ is the Faraday constant (96.47 × 10$^6$ Coulombs/kmole). "
   ]
  },
  {
   "cell_type": "markdown",
   "id": "ad02b99c-2533-4b0d-9ca7-9a6a8cab26fd",
   "metadata": {},
   "source": [
    "Consider a hypothetical experiment in which the open-circuit voltage\n",
    "of a reversible fuel cell is accurately measured. The voltage at RTP would\n",
    "be 1.185 V (can we calculate this theoretically?). "
   ]
  },
  {
   "cell_type": "code",
   "execution_count": 4,
   "id": "d8d57eac-a199-444d-8e9b-cfb83adc45dc",
   "metadata": {},
   "outputs": [
    {
     "name": "stdout",
     "output_type": "stream",
     "text": [
      "228633900.0\n"
     ]
    }
   ],
   "source": [
    "ne = 2\n",
    "F_CperKmol = 96.47e6\n",
    "Vrev_V = 1.185\n",
    "\n",
    "w_e_JperKmol = ne*F_CperKmol*Vrev_V; print(w_e_JperKmol)"
   ]
  },
  {
   "cell_type": "markdown",
   "id": "0580c807-0aa1-4272-8ad0-9cb5769b1d5a",
   "metadata": {},
   "source": [
    "Recall the definition of the Gibbs free energy:\n",
    "\n",
    "$$ G = H - TS$$\n",
    "\n",
    "For isothermal cases:\n",
    "\n",
    "$$\\Delta G = \\Delta H - T \\Delta S $$\n",
    "\n",
    "The electric energy, $W_e$ delivered to the reversible fuel cell is:\n",
    "\n",
    "$$\\Delta G = - n_e q N_0 N |V_\\text{rev}| $$\n",
    "\n",
    "per kilomole of water it is:\n",
    "\n",
    "$$\\bar{g}_f = - n_e q N_0 |V_\\text{rev}| $$\n",
    "\n"
   ]
  },
  {
   "cell_type": "markdown",
   "id": "392151e5-a99f-41cd-aee1-aeb829c1b042",
   "metadata": {},
   "source": [
    "#### The efficeincy of a reversible fuel cell\n",
    "\n",
    "The eﬃciency of a fuel cell is the ratio of the electric energy generated to\n",
    "the enthalpy change of the chemical reaction involved:\n",
    "\n",
    "$$ \\eta_\\text{rev} = \\frac{\\Delta G}{\\Delta H}  $$"
   ]
  },
  {
   "cell_type": "code",
   "execution_count": null,
   "id": "2420acdc-8606-4948-8297-4e4ceb485a4a",
   "metadata": {},
   "outputs": [],
   "source": []
  }
 ],
 "metadata": {
  "kernelspec": {
   "display_name": "Python 3 (ipykernel)",
   "language": "python",
   "name": "python3"
  },
  "language_info": {
   "codemirror_mode": {
    "name": "ipython",
    "version": 3
   },
   "file_extension": ".py",
   "mimetype": "text/x-python",
   "name": "python",
   "nbconvert_exporter": "python",
   "pygments_lexer": "ipython3",
   "version": "3.11.11"
  }
 },
 "nbformat": 4,
 "nbformat_minor": 5
}
