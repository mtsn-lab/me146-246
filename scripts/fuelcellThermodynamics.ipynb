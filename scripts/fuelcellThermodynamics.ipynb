{
 "cells": [
  {
   "cell_type": "markdown",
   "id": "28852d8e-426e-4124-a722-06fee13082a3",
   "metadata": {},
   "source": [
    "Consider the reaction:\n",
    "\n",
    "$$2H_2 + O_2 \\rightarrow  2H_2O$$\n",
    "\n",
    "Assume that a measured amount, $n$, of hydrogen is introduced into a constant-pressure calorimeter and is made to react with suﬃcient oxygen. A certain amount of heat, $Q$, is released. \n",
    "\n",
    "$$Q/n = \\bar{h}_\\text{comb} $$\n",
    "\n",
    "which is the heat of combustion of hydrogen in an atmosphere of oxygen (kJ/kmol). If the water produced is liquid, the heat of combustion is larger than when water is in the form of gas because the heat released includes the heat of condensation of water. All fuels containing hydrogen have two diﬀerent heats of combustion: the higher heat of combustion in case of liquid water and the lower heat of combustion in case of water vapor.\n",
    "\n",
    "Since the reaction occurs at constant pressure, the heat released is the change in enthalpy of the system: \n",
    "\n",
    "$$ Q = \\Delta H $$\n",
    "\n",
    "The difference between the enthalpy of the product and those of its elements is the enthalpy of formation, $h_f$. \n",
    "\n"
   ]
  },
  {
   "cell_type": "markdown",
   "id": "503251b0-6c25-403c-9245-a4569ac82c19",
   "metadata": {},
   "source": [
    "If the reaction under consideration occurs not in a calorimeter but in an\n",
    "ideal fuel cell, part (but not all) of the energy will be released in the form\n",
    "of electricity. It is important to investigate how much of the ΔH of the\n",
    "reaction will be converted into electric energy and to understand why some\n",
    "of the energy must take the form of heat even in the ideal case."
   ]
  },
  {
   "cell_type": "markdown",
   "id": "d0b55ed9-ace7-4241-a1b4-61b0062b711a",
   "metadata": {},
   "source": [
    "Let $V_\\text{rev}$ be the voltage produced by the cell. Each kmol of water contains $N_0$ molecules (avogradro's constant). The cathode reaction is:\n",
    "\n",
    "$$4e^- + 4H^+ + O_2 \\rightarrow 2H_2O $$\n",
    "\n",
    "we see that for each molecule of water, 2 electrons (charge $q$) circulate in the load. The energy delivered to the load is the product of the charge, $ 2 q N_0$, times the voltage $V_\\text{rev}$. The electric energy produced per kmol of product in a reversible fuel cell is:\n",
    "\n",
    "$$W_e = n_e q N_0 V_\\text{rev} = n_e F V_\\text{rev} $$\n",
    "\n",
    "where $n_e$ is number of kmoles of electrons released per kilomole of products; $q$ is the charge of the electron (1.602 × 10e−19 coulombs); $N_0$ is Avogradro's constant; $F = q N_0$ is the Faraday constant (96.47 × 10$^6$ Coulombs/kmole). "
   ]
  },
  {
   "cell_type": "markdown",
   "id": "ad02b99c-2533-4b0d-9ca7-9a6a8cab26fd",
   "metadata": {},
   "source": [
    "Consider a hypothetical experiment in which the open-circuit voltage\n",
    "of a reversible fuel cell is accurately measured. The voltage at RTP would\n",
    "be 1.185 V. "
   ]
  },
  {
   "cell_type": "code",
   "execution_count": 4,
   "id": "d8d57eac-a199-444d-8e9b-cfb83adc45dc",
   "metadata": {},
   "outputs": [
    {
     "name": "stdout",
     "output_type": "stream",
     "text": [
      "228633900.0\n"
     ]
    }
   ],
   "source": [
    "ne = 2\n",
    "F_CperKmol = 96.47e6\n",
    "Vrev_V = 1.185\n",
    "\n",
    "w_e_JperKmol = ne*F_CperKmol*Vrev_V; print(w_e_JperKmol)"
   ]
  },
  {
   "cell_type": "markdown",
   "id": "0580c807-0aa1-4272-8ad0-9cb5769b1d5a",
   "metadata": {},
   "source": [
    "We can analyze the change in entropy of the reaction. The absolute entropies at standard temperature pressure (STP) conditions are:"
   ]
  },
  {
   "cell_type": "code",
   "execution_count": 7,
   "id": "c6c15163-5bcf-44f3-98b3-53c94025da26",
   "metadata": {},
   "outputs": [
    {
     "name": "stdout",
     "output_type": "stream",
     "text": [
      "-44.400000000000006\n"
     ]
    }
   ],
   "source": [
    "n_O2_kmol = 0.5\n",
    "n_H2_kmol = 1\n",
    "n_H2O_kmol = 1\n",
    "\n",
    "so_H2_kJperKperKmol = 130.6\n",
    "so_O2_kJperKperKmol = 205.0\n",
    "so_H2O_kJperKperKmol = 188.7\n",
    "\n",
    "# the difference between the entropy of the products and reactants is:\n",
    "dS_kJperK = n_H2O_kmol*so_H2O_kJperKperKmol - (so_O2_kJperKperKmol*n_O2_kmol+so_H2_kJperKperKmol*n_H2_kmol); print(ds_kJperKperKmol)"
   ]
  },
  {
   "cell_type": "markdown",
   "id": "18b33251-2089-4160-b248-16d8c72d2bb7",
   "metadata": {},
   "source": [
    "Since the entropy of a closed system can only remain constant or increase, this reduction in entropy must be compensated by heat: \n",
    "\n",
    "$$\\Delta S = \\int \\frac{\\delta Q}{T} $$\n",
    "\n",
    "If the heat is transferred to surroundings that act as a reservoir, we have:\n",
    "\n",
    "$$\\Delta S = \\frac{Q}{T} $$"
   ]
  },
  {
   "cell_type": "code",
   "execution_count": 13,
   "id": "a2d4f279-7127-4f69-bb59-52d07a7fc94e",
   "metadata": {},
   "outputs": [
    {
     "name": "stdout",
     "output_type": "stream",
     "text": [
      "-13231.200000000003\n"
     ]
    }
   ],
   "source": [
    "T_K = 298\n",
    "Q_kJperKmolH2 = dS_kJperK * T_K; print(Q_kJperKmolH2)"
   ]
  },
  {
   "cell_type": "markdown",
   "id": "432a2a38-c00c-4b3c-a0a9-1cc17a314935",
   "metadata": {},
   "source": [
    "That heat must come from the enthalpy of the reaction. Therefore, if we know the enthalpy of formation of gaseous water, then we can determine the amount of energy remaining for electricity. "
   ]
  },
  {
   "cell_type": "code",
   "execution_count": 12,
   "id": "b7d97166-1f95-42ce-a67c-217191cc2123",
   "metadata": {},
   "outputs": [
    {
     "name": "stdout",
     "output_type": "stream",
     "text": [
      "-241820.0\n"
     ]
    }
   ],
   "source": [
    "hfo_H2_kJperKmol = 0\n",
    "hfo_O2_kJperKmol = 0\n",
    "\n",
    "hfo_H2O_gas_kJperKmol = -241820\n",
    "\n",
    "# enthalpy of the reaction per kmol of H2\n",
    "h_C_HHV_kJperKmolH2 = hfo_H2O_gas_kJperKmol - (hfo_O2_kJperKmol/2) - hfo_H2_kJperKmol; print(h_C_HHV_kJperKmolH2)"
   ]
  },
  {
   "cell_type": "markdown",
   "id": "a4c364d8-ed89-4a97-b871-de515372efa7",
   "metadata": {},
   "source": [
    "The remaning energy for electricity is then:\n",
    "\n",
    "$$h_\\text{c} - Q $$"
   ]
  },
  {
   "cell_type": "code",
   "execution_count": 16,
   "id": "2dccb075-b244-4ec3-983b-aa7e618cd3a8",
   "metadata": {},
   "outputs": [
    {
     "name": "stdout",
     "output_type": "stream",
     "text": [
      "-228588.8\n"
     ]
    }
   ],
   "source": [
    "dG_kJperKmolH2 = h_C_HHV_kJperKmolH2 - Q_kJperKmolH2; print(dG_kJperKmolH2)"
   ]
  },
  {
   "cell_type": "markdown",
   "id": "392151e5-a99f-41cd-aee1-aeb829c1b042",
   "metadata": {},
   "source": [
    "#### The efficiency of a reversible fuel cell\n",
    "\n",
    "Recall the definition of the Gibbs free energy:\n",
    "\n",
    "$$ G = H - TS$$\n",
    "\n",
    "For isothermal cases:\n",
    "\n",
    "$$\\Delta G = \\Delta H - T \\Delta S $$\n",
    "\n",
    "The maximum amount of work that can be done by a fuel cell is equal to the Gibbs free energy. This allows us to calculate the electrical energy produced during a chemical reaction at constant temperature and pressure. Therefore, the electric energy, $W_e$, delivered to the reversible fuel cell is:\n",
    "\n",
    "$$\\Delta G = - n_e q N_0 N |V_\\text{rev}| $$\n",
    "\n",
    "per kilomole of water it is:\n",
    "\n",
    "$$\\bar{g}_f = - n_e q N_0 |V_\\text{rev}| $$\n",
    "\n",
    "Since the cell delivers free energy, the free energy change is negative conforming to the convention of the sign of the change in enthalpy of the reaction. \n",
    "\n",
    "The eﬃciency of a fuel cell is the ratio of the electric energy generated to\n",
    "the enthalpy change of the chemical reaction involved:\n",
    "\n",
    "$$ \\eta_\\text{rev} = \\frac{\\Delta G}{\\Delta H}  $$"
   ]
  },
  {
   "cell_type": "code",
   "execution_count": null,
   "id": "2420acdc-8606-4948-8297-4e4ceb485a4a",
   "metadata": {},
   "outputs": [],
   "source": []
  }
 ],
 "metadata": {
  "kernelspec": {
   "display_name": "Python 3 (ipykernel)",
   "language": "python",
   "name": "python3"
  },
  "language_info": {
   "codemirror_mode": {
    "name": "ipython",
    "version": 3
   },
   "file_extension": ".py",
   "mimetype": "text/x-python",
   "name": "python",
   "nbconvert_exporter": "python",
   "pygments_lexer": "ipython3",
   "version": "3.11.11"
  }
 },
 "nbformat": 4,
 "nbformat_minor": 5
}
