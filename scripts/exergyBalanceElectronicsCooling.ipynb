{
 "cells": [
  {
   "cell_type": "markdown",
   "id": "07340ef3",
   "metadata": {},
   "source": [
    "## Analyzing: Hot water cooled electronics: Exergy analysis and waste heat reuse feasibility\n",
    "\n",
    "This article was published in the International Journal of Heat and Mass Transfer in 2012: https://www.sciencedirect.com/science/article/pii/S0017931012004553?via%3Dihub\n",
    "\n",
    "They use a flow loop to cool a heat sink that is attached to a computer chip:\n",
    "\n",
    "<!-- ![title](figure1.png) -->\n",
    "\n",
    "They perform first law (energy based) and second law (exergy based) analysis to understand how much waste heat they can recover and the quality of that recovered heat for potential reuse in building heating. They state that data centers require significant cooling, which is currently achieved with air. That air cooling requires a significant amount of energy. They state that liquid cooling should provide better heat transfer efficiency, and they hypothesize that if they use \"hot water\" to cool the chips, that this would keep the waste heat output from computers at higher exergy. This means it may have better potential for resuse, for example, in building heating. Instead of requiring extra energy for cooling, the cooling process itself can actulally bring a benefit by reducing the building heating energy requirements.\n",
    "\n",
    "### Analysis\n",
    "- define second law efficiency\n",
    "- determine exergy terms\n",
    "- calculate second law efficiency for different conditions"
   ]
  },
  {
   "cell_type": "markdown",
   "id": "bd6ff237",
   "metadata": {},
   "source": [
    "Second law efficiency can be defined as:\n",
    "$$\\eta_\\text{II} = \\frac{\\text{Exergy recovered}}{\\text{Exergy expended}} $$"
   ]
  },
  {
   "cell_type": "markdown",
   "id": "3d6b18c1",
   "metadata": {},
   "source": [
    "It is instructive to first look at the second law efficiency of a simple electric heater:\n",
    "$$\\eta_\\text{II,electric heater} = \\frac{\\dot{X}_\\text{recovered}}{\\dot{X}_\\text{expended}} = \\frac{\\dot{X}_\\text{heat}}{\\dot{W}_\\text{e}} = \\frac{\\dot{Q}_\\text{e} \\left(1 - T_0/T_\\text{H} \\right)}{\\dot{W}_\\text{e}} = 1 - \\frac{T_0}{T_\\text{H}} $$"
   ]
  },
  {
   "cell_type": "markdown",
   "id": "99d768c0",
   "metadata": {},
   "source": [
    "In the case of electronics cooling, there is exergy expended on running the computer and pump and the recovered exergy is heat exergy:\n",
    "\n",
    "$$\\eta_\\text{II} = \\frac{\\dot{X}_\\text{recovered}}{\\dot{X}_\\text{expended}} = \\frac{\\dot{X}_\\text{outlet}}{\\dot{X}_\\text{inlet} + \\dot{X}_\\text{el} + \\dot{P}_\\text{pump}} $$\n"
   ]
  },
  {
   "cell_type": "markdown",
   "id": "d997b550",
   "metadata": {},
   "source": [
    "We can write the inlet and outlet exergy terms using this equation:\n",
    "\n",
    "$$ \\dot{X}_\\text{flow} = \\dot{m}\\left[ \n",
    "\\left(h - h_0\\right) - T_0 \\left( s - s_0 \\right) \\right]$$"
   ]
  },
  {
   "cell_type": "markdown",
   "id": "9ee5c0d1",
   "metadata": {},
   "source": [
    "In the study, they say that 100 W of electrical power is used for the processor chip, which is pure exergy. "
   ]
  },
  {
   "cell_type": "code",
   "execution_count": 38,
   "id": "fa03edef",
   "metadata": {},
   "outputs": [],
   "source": [
    "Xel_W = 100"
   ]
  },
  {
   "cell_type": "markdown",
   "id": "7221196f",
   "metadata": {},
   "source": [
    "The maximum upper temperature where the chip can operate safely is this temperature:"
   ]
  },
  {
   "cell_type": "code",
   "execution_count": 39,
   "id": "b3aabd6e",
   "metadata": {},
   "outputs": [],
   "source": [
    "Tmax_K = 85+273"
   ]
  },
  {
   "cell_type": "markdown",
   "id": "f82c95d2",
   "metadata": {},
   "source": [
    "They say that the pump has a flow rate of 1 L/min and that that the pump requires 0.24 W of power. The power for a pump can be estimated as $$\\dot{P} = \\Delta p \\dot{V} $$, which implies that the pressure drop was:"
   ]
  },
  {
   "cell_type": "code",
   "execution_count": 40,
   "id": "10b30ca5",
   "metadata": {},
   "outputs": [
    {
     "name": "stdout",
     "output_type": "stream",
     "text": [
      "The pressure drop along the flow path is: 14400.0000 Pa\n"
     ]
    }
   ],
   "source": [
    "V_m3perS = (1/1000)/60\n",
    "P_W = 0.24\n",
    "\n",
    "dP_Pa = P_W/V_m3perS\n",
    "print('The pressure drop along the flow path is: {0:1.4f} Pa'.format(dP_Pa))"
   ]
  },
  {
   "cell_type": "markdown",
   "id": "e5e4bd80",
   "metadata": {},
   "source": [
    "To calculate the inlet and outlet exergies, we have to define the water properties."
   ]
  },
  {
   "cell_type": "code",
   "execution_count": 41,
   "id": "1430fee8",
   "metadata": {},
   "outputs": [
    {
     "name": "stdout",
     "output_type": "stream",
     "text": [
      "Requirement already satisfied: iapws in /opt/conda/lib/python3.9/site-packages (1.5.3)\r\n",
      "Requirement already satisfied: scipy>=1.2 in /opt/conda/lib/python3.9/site-packages (from iapws) (1.10.0)\r\n",
      "Requirement already satisfied: numpy<1.27.0,>=1.19.5 in /opt/conda/lib/python3.9/site-packages (from scipy>=1.2->iapws) (1.25.2)\r\n"
     ]
    }
   ],
   "source": [
    "!pip install iapws"
   ]
  },
  {
   "cell_type": "code",
   "execution_count": 42,
   "id": "c6eba32a",
   "metadata": {},
   "outputs": [],
   "source": [
    "from iapws import IAPWS97"
   ]
  },
  {
   "cell_type": "markdown",
   "id": "ed0945fc",
   "metadata": {},
   "source": [
    "The dead state temperature is:"
   ]
  },
  {
   "cell_type": "code",
   "execution_count": 43,
   "id": "1614eaee",
   "metadata": {},
   "outputs": [],
   "source": [
    "T0_K = 273+20\n",
    "p0_MPa = 1e5/1e6"
   ]
  },
  {
   "cell_type": "code",
   "execution_count": 44,
   "id": "eac4072f",
   "metadata": {},
   "outputs": [],
   "source": [
    "water0 = IAPWS97(T=T0_K,P=p0_MPa)"
   ]
  },
  {
   "cell_type": "code",
   "execution_count": 45,
   "id": "a919150e",
   "metadata": {},
   "outputs": [],
   "source": [
    "v0_m3Perkg = water0.v\n",
    "h0_kJperKg = water0.h\n",
    "s0_kJperKgperK = water0.s"
   ]
  },
  {
   "cell_type": "code",
   "execution_count": 46,
   "id": "8ca929c7",
   "metadata": {},
   "outputs": [],
   "source": [
    "rho0 = 1/v0_m3Perkg"
   ]
  },
  {
   "cell_type": "code",
   "execution_count": 47,
   "id": "35242a65",
   "metadata": {},
   "outputs": [
    {
     "name": "stdout",
     "output_type": "stream",
     "text": [
      "0.016637271728760793\n"
     ]
    }
   ],
   "source": [
    "mdot_kgPers = V_m3perS*rho0\n",
    "print(mdot_kgPers)"
   ]
  },
  {
   "cell_type": "markdown",
   "id": "c5e8adf4",
   "metadata": {},
   "source": [
    "We would like to study the effect of inlet water temperature on second law efficiency. Therefore, that will be an independent variable. What we need to know though is the outlet temperature from the device. For this, we will assume that the flow rate is kept constant. Therefore, from Newton's cooling law, we can estimate what the outlet temperature increase will be relative to the inlet temperature. \n",
    "\n",
    "We can estimate the mean temperature increase by assuming a constant value of specific heat, $c_p$."
   ]
  },
  {
   "cell_type": "code",
   "execution_count": 48,
   "id": "10d51956",
   "metadata": {},
   "outputs": [],
   "source": [
    "cp_JperKg = 4.18*1e3"
   ]
  },
  {
   "cell_type": "markdown",
   "id": "3efd4eac",
   "metadata": {},
   "source": [
    "All of the electrical exergy will become heat. Therefore, the heat transferred from the chip to the water is:"
   ]
  },
  {
   "cell_type": "code",
   "execution_count": 49,
   "id": "5c948b79",
   "metadata": {},
   "outputs": [],
   "source": [
    "Q_W = Xel_W"
   ]
  },
  {
   "cell_type": "markdown",
   "id": "4c33a755",
   "metadata": {},
   "source": [
    "Therefore, \n",
    "$$T_\\text{out} - T_\\text{in} = \\frac{\\dot{Q}}{\\dot{m}c_p} $$"
   ]
  },
  {
   "cell_type": "code",
   "execution_count": 50,
   "id": "9a023f86",
   "metadata": {},
   "outputs": [
    {
     "name": "stdout",
     "output_type": "stream",
     "text": [
      "The temperature increase is: 1.4379 K\n"
     ]
    }
   ],
   "source": [
    "dT_K = Q_W / (mdot_kgPers*cp_JperKg )\n",
    "print('The temperature increase is: {0:1.4f} K'.format(dT_K))"
   ]
  },
  {
   "cell_type": "markdown",
   "id": "8677fc67",
   "metadata": {},
   "source": [
    "So with this we can:\n",
    "- define the inlet temperature, which defines the properties.\n",
    "- the electrical exergy defines the heat transferred to the fluid, which determines the outlet temperature and properties. \n",
    "- calculate the flow exergy terms. \n",
    "- calculate the second law efficiency."
   ]
  },
  {
   "cell_type": "markdown",
   "id": "2ea03978",
   "metadata": {},
   "source": [
    "Recall:\n",
    "$$ \\dot{X}_\\text{flow} = \\dot{m}\\left[ \n",
    "\\left(h - h_0\\right) - T_0 \\left( s - s_0 \\right) \\right]$$\n",
    "\n",
    "$$\\eta_\\text{II} = \\frac{\\dot{X}_\\text{recovered}}{\\dot{X}_\\text{expended}} = \\frac{\\dot{X}_\\text{outlet}}{\\dot{X}_\\text{inlet} + \\dot{X}_\\text{el} + \\dot{P}_\\text{pump}} $$"
   ]
  },
  {
   "cell_type": "code",
   "execution_count": 51,
   "id": "e6315e34",
   "metadata": {},
   "outputs": [],
   "source": [
    "import numpy as np\n",
    "import matplotlib.pyplot as plt"
   ]
  },
  {
   "cell_type": "code",
   "execution_count": 52,
   "id": "d47ad516",
   "metadata": {},
   "outputs": [
    {
     "data": {
      "image/png": "[encoded data removed]",
      "text/plain": [
       "<Figure size 640x480 with 1 Axes>"
      ]
     },
     "metadata": {},
     "output_type": "display_data"
    }
   ],
   "source": [
    "plt.figure()\n",
    "plt.clf()\n",
    "steps = 100\n",
    "\n",
    "T = np.linspace(300, Tmax_K, steps) # range of temperatures\n",
    "h0 = np.linspace(h0_kJperKg, h0_kJperKg, steps) # range of temperatures\n",
    "T0 = np.linspace(T0_K, T0_K, steps)\n",
    "s0 = np.linspace(s0_kJperKgperK, s0_kJperKgperK, steps)\n",
    "Xel = np.linspace(Xel_W, Xel_W, steps)\n",
    "P = np.linspace(P_W, P_W, steps)\n",
    "\n",
    "sin = [s.s for s in [IAPWS97(T=t, P=p0_MPa) for t in T]]\n",
    "hin = [s.h for s in [IAPWS97(T=t, P=p0_MPa) for t in T]]\n",
    "\n",
    "sout = [s.s for s in [IAPWS97(T=t+dT_K, P=p0_MPa) for t in T]]\n",
    "hout = [s.h for s in [IAPWS97(T=t+dT_K, P=p0_MPa) for t in T]]\n",
    "\n",
    "Xdot_in = mdot_kgPers*(hin - h0 - T0*(sin - s0))\n",
    "Xdot_out = mdot_kgPers*(hout - h0 - T0*(sout - s0))\n",
    "\n",
    "eta = Xdot_out/(Xdot_in + (Xel/1000) + (P/1000))\n",
    "\n",
    "plt.plot(T, eta, 'k-')\n",
    "\n",
    "plt.xlabel('$T_{in}$ (K))')\n",
    "plt.ylabel('$\\eta_{II}$ (-)')\n",
    "plt.savefig('eta-Tin.png')"
   ]
  },
  {
   "cell_type": "markdown",
   "id": "5a5f0dd4",
   "metadata": {},
   "source": [
    "This is simplified analysis, but it shows the plausibility of using hot water to cool electronics in order to facilitate heat reuse. This can minimize the overall system carbon footprint because the recovered heat can replace significant amounts of fossil fuels used in secondary applications such as building heating."
   ]
  },
  {
   "cell_type": "code",
   "execution_count": null,
   "id": "d73da77a",
   "metadata": {},
   "outputs": [],
   "source": []
  }
 ],
 "metadata": {
  "kernelspec": {
   "display_name": "Python 3 (ipykernel)",
   "language": "python",
   "name": "python3"
  },
  "language_info": {
   "codemirror_mode": {
    "name": "ipython",
    "version": 3
   },
   "file_extension": ".py",
   "mimetype": "text/x-python",
   "name": "python",
   "nbconvert_exporter": "python",
   "pygments_lexer": "ipython3",
   "version": "3.11.11"
  }
 },
 "nbformat": 4,
 "nbformat_minor": 5
}
