{
 "cells": [
  {
   "attachments": {},
   "cell_type": "markdown",
   "id": "56fdc98d-8ce5-42f2-ad6a-676e655f4d39",
   "metadata": {},
   "source": [
    "#### Seebeck effect\n",
    "\n",
    "Consider a length of pipe with an ideal gas that initially has a uniform temperature. If the pressure is also uniform, then so is the concentration. However, if we heat one end of the pipe, some gas will now flow towards the colder end and the gas concentration will be higher at the colder end than the hotter end. Conduction electrons also exhibit similar behavior. \n",
    "\n",
    "If there is a temperature gradient in an electrically conducting rod, the electron concentration will be higher in the cold side, which as a result, becomes negatively charged relative to the hot side creating an electric potential, which we call the Seebeck voltage:\n",
    "\n",
    "$$-V = \\alpha \\left(T_2 - T_1 \\right) $$\n",
    "\n",
    "where $V$ is the voltage measured from point 2 (hot side) to point 1 (cold side) and $\\alpha$ is the Seebeck coefficient (sometimes written $S$). If the carriers inside the rod are holes then the cold side will become positive relative to the hot side. In order to use this voltage, we can connect a wire, which will be submitted to the same temperature difference and develop a Seebeck voltage. If this wire is made of the same material as the rod, then the two voltages will cancel each other out. If on the other hand the wire is made of a different material, then a net voltage is possible. \n",
    "\n",
    "In order to create electricity from such a mechanism, we can connect hole conductors and electron conductors in series while those individual components are connected thermally in parallel. This device is called a thermocouple battery. If $\\Lambda$ is the heat conductance of one ``cell'', then $n \\Lambda$ is the heat conductance of the battery consisting of $n$ cells. The electrical resistance of the battery is then $nR$ where $R$ is the resitance of a single cell. The figure of merit for a battery of identical cells is then:\n",
    "\n",
    "$$Z = \\frac{\\left(n \\alpha \\right)^2}{\\left(n \\Lambda\\right) \\left(n R \\right) } = \\frac{\\alpha^2}{\\Lambda R}$$\n",
    "\n",
    "where $\\alpha$ is defined as the voltage created for a single cell. It is preferrable to define a figure of merit for each material, which we can do here:\n",
    "\n",
    "$$Z = \\alpha^2\\frac{\\sigma}{\\lambda}$$\n",
    "\n",
    "where $\\sigma$ is electrical conductivity and $\\lambda$ is thermal conductivity (also written $k$) and the other properties refer to a specific material. It's clear that to maximize $Z$, one should select a material with the highest value of $\\alpha$ and smallest ratio of $\\frac{\\sigma}{\\lambda}$. However, for metals this ratio is approximately the same for all of them. To understand why please read the Wiedemann-Franz-Lorenz law."
   ]
  },
  {
   "cell_type": "code",
   "execution_count": null,
   "id": "a2d3122b-02ea-4b6b-b86a-5b112f61d6da",
   "metadata": {},
   "outputs": [],
   "source": []
  }
 ],
 "metadata": {
  "kernelspec": {
   "display_name": "Python 3 (ipykernel)",
   "language": "python",
   "name": "python3"
  },
  "language_info": {
   "codemirror_mode": {
    "name": "ipython",
    "version": 3
   },
   "file_extension": ".py",
   "mimetype": "text/x-python",
   "name": "python",
   "nbconvert_exporter": "python",
   "pygments_lexer": "ipython3",
   "version": "3.11.11"
  }
 },
 "nbformat": 4,
 "nbformat_minor": 5
}
