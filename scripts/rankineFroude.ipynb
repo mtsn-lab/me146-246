{
 "cells": [
  {
   "cell_type": "markdown",
   "id": "f1d48416-9a6c-4f2a-ae79-d6e89a2d42fd",
   "metadata": {},
   "source": [
    "As wind blows through the wind turbine, it exerts a drag force, $F$, on the machine. A force that is proportional to the pressure difference, $\\Delta p$. \n",
    "\n",
    "The turbine is surrounded by air at atmospheric pressure, $p_1$. The pressure is elevated on the upstream side of the disk, $p_{2,1}$, and is reduced on the downwind side, $p_{2,2}$. The drag force is then:\n",
    "\n",
    "$$F = \\left(p_{2,1} - p_{2,2} \\right)A = \\Delta p A $$"
   ]
  },
  {
   "cell_type": "markdown",
   "id": "d8ecc9d1-9bde-4979-a8fd-bd472c0f2c15",
   "metadata": {},
   "source": [
    "The wind velocity is continuous across the disk and has a value $v_2$, which is less than $v_1$ due to drag but greater than the far slipstream value $v_3$. We would like to determine the relationship between $v_2$ and $v_1$ and $v_2$ and $v_3$. \n",
    "\n",
    "For this we can use Bernoulli's principle (isentropic flow). \n",
    "\n",
    "Far upstream, the pressure is $p_1$ and the velocity is $v_1$ while at the disk the pressure is $p_{2,1}$ and the velocity is $v_2$. "
   ]
  },
  {
   "cell_type": "markdown",
   "id": "c06564f3-0f5f-4e7e-8631-24baa200bdd2",
   "metadata": {},
   "source": [
    "From Bernoulli's principle on the upstream side we have:\n",
    "\n",
    "$$p_1 + \\frac{1}{2} \\rho v_1^2 = p_{2,1} + \\frac{1}{2} \\rho v_2^2 $$\n",
    "\n",
    "$$p_{2,1}  = p_1 + \\frac{1}{2} \\rho v_1^2 - \\frac{1}{2} \\rho v_2^2 $$\n",
    "\n",
    "On the downstream side we have:\n",
    "\n",
    "$$p_1 + \\frac{1}{2} \\rho v_3^2 = p_{2,2} + \\frac{1}{2} \\rho v_2^2 $$\n",
    "\n",
    "$$p_{2,2} = p_1 + \\frac{1}{2} \\rho v_3^2 - \\frac{1}{2} \\rho v_2^2 $$"
   ]
  },
  {
   "cell_type": "markdown",
   "id": "89f57014-3a9b-4726-8ccc-b98167071965",
   "metadata": {},
   "source": [
    "Taking the pressure difference:\n",
    "\n",
    "$$\\Delta p = p_{2,1} - p_{2,2} = \\left[ p_1 + \\frac{1}{2} \\rho v_1^2 - \\frac{1}{2} \\rho v_2^2\\right] - \\left[ p_1 + \\frac{1}{2} \\rho v_3^2 - \\frac{1}{2} \\rho v_2^2 \\right] $$\n",
    "\n",
    "$$\\Delta p = p_{2,1} - p_{2,2} = \\left[ \\frac{1}{2} \\rho v_1^2 \\right] - \\left[ \\frac{1}{2} \\rho v_3^2 \\right] $$\n",
    "\n",
    "$$\\Delta p = p_{2,1} - p_{2,2} = \\frac{1}{2} \\rho \\left[  v_1^2 - v_3^2 \\right] $$\n",
    "\n",
    "Recalling that:\n",
    "\n",
    "$$F = \\left(p_{2,1} - p_{2,2} \\right)A = \\Delta p A $$\n",
    "\n",
    "Substituting yields:\n",
    "\n",
    "$$F = \\left(p_{2,1} - p_{2,2} \\right)A = \\frac{1}{2} \\rho \\left[  v_1^2 - v_3^2 \\right] A $$"
   ]
  },
  {
   "cell_type": "markdown",
   "id": "a1b20d73-9575-4ef6-8329-861e5c38fc3e",
   "metadata": {},
   "source": [
    "We would like to express $F$ as a function of $v_2$. The mass flow rate upstream is:\n",
    "\n",
    "$$\\rho A v_1 $$ \n",
    "\n",
    "and downstream it is:\n",
    "\n",
    "$$ \\rho A v_3 $$\n",
    "\n",
    "This means that $\\rho A (v_1 - v_3)$ interacted with the disk where its flow is $v_2$. That is, we can write the drag force as: \n",
    "\n",
    "$$F = \\left[ \\rho A (v_1 - v_3) \\right] \\left[ v_2\\right]  $$\n",
    "\n",
    "If we set the drag forces equal to each other we have:\n",
    "\n",
    "$$\\left[ \\rho A (v_1 - v_3) \\right] \\left[ v_2\\right]  =  \\frac{1}{2} \\rho \\left[  v_1^2 - v_3^2 \\right] A$$\n",
    "\n",
    "From this we see that: \n",
    "\n",
    "$$ v_2 = \\frac{v_1 + v_3}{2}$$\n",
    "\n",
    "See derivation in the Betz Limit."
   ]
  },
  {
   "cell_type": "code",
   "execution_count": null,
   "id": "381be69a-6cd2-4e0c-936b-336aa5bb32b6",
   "metadata": {},
   "outputs": [],
   "source": []
  }
 ],
 "metadata": {
  "kernelspec": {
   "display_name": "Python 3 (ipykernel)",
   "language": "python",
   "name": "python3"
  },
  "language_info": {
   "codemirror_mode": {
    "name": "ipython",
    "version": 3
   },
   "file_extension": ".py",
   "mimetype": "text/x-python",
   "name": "python",
   "nbconvert_exporter": "python",
   "pygments_lexer": "ipython3",
   "version": "3.11.11"
  }
 },
 "nbformat": 4,
 "nbformat_minor": 5
}
