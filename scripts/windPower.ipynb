{
 "cells": [
  {
   "cell_type": "markdown",
   "id": "81466813-b894-4998-8c38-bfa90d193ba9",
   "metadata": {},
   "source": [
    "The power that a wind turbine delivers is proportional to the cube of the wind velocity.\n",
    "\n",
    "$$P_D = \\frac{1}{2}\\dot{m}v^2 $$\n",
    "\n",
    "where $\\dot{m}$ is the mass flow rate of the air and $v$ is the velocity of the air. We can re-write this equation by recalling that $\\dot{m} = \\rho \\dot{V} = \\rho A v $:\n",
    "\n",
    "$$P_D = \\frac{1}{2}(\\rho A v)v^2 $$\n",
    "\n",
    "$$P_D = \\frac{1}{2}\\rho A v^3 $$"
   ]
  },
  {
   "cell_type": "code",
   "execution_count": null,
   "id": "7222271d-4cbf-4f78-9013-3ed65a4fe468",
   "metadata": {},
   "outputs": [],
   "source": []
  }
 ],
 "metadata": {
  "kernelspec": {
   "display_name": "Python 3 (ipykernel)",
   "language": "python",
   "name": "python3"
  },
  "language_info": {
   "codemirror_mode": {
    "name": "ipython",
    "version": 3
   },
   "file_extension": ".py",
   "mimetype": "text/x-python",
   "name": "python",
   "nbconvert_exporter": "python",
   "pygments_lexer": "ipython3",
   "version": "3.11.11"
  }
 },
 "nbformat": 4,
 "nbformat_minor": 5
}
