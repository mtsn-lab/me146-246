{
 "cells": [
  {
   "cell_type": "markdown",
   "id": "81466813-b894-4998-8c38-bfa90d193ba9",
   "metadata": {},
   "source": [
    "The power that a wind turbine delivers is proportional to the cube of the wind velocity.\n",
    "\n",
    "$$P_D = \\frac{1}{2}\\dot{m}v^2 $$\n",
    "\n",
    "where $\\dot{m}$ is the mass flow rate of the air and $v$ is the velocity of the air. We can re-write this equation by recalling that \n",
    "\n",
    "$$\\dot{m} = \\rho \\dot{V} = \\rho A v $$\n",
    "\n",
    "Then:\n",
    "\n",
    "$$P_D = \\frac{1}{2}(\\rho A v)v^2 $$\n",
    "\n",
    "$$P_D = \\frac{1}{2}\\rho A v^3 $$"
   ]
  },
  {
   "cell_type": "markdown",
   "id": "0331c00b-ffc1-47d4-93d6-4704a5203c53",
   "metadata": {},
   "source": [
    "The actual power density from the wind is the product of the pressure on the surface, $p$, and the velocity, $w$, with which the surface drifts downwind. The wind pressure is:\n",
    "\n",
    "$$p = \\frac{1}{2} \\rho C_D  (v - w)^2 $$\n",
    "\n",
    "where $C_D$ is the drag coefficient and the power density, $P_D$, is then:\n",
    "\n",
    "$$P_D = p w = \\frac{1}{2} \\rho C_D  (v - w)^2 w $$\n",
    "\n",
    "We can maximize this value by taking the partial derivative and setting it to zero:\n",
    "\n",
    "$$P_D = \\frac{1}{2} \\rho C_D (v^2w + w^3 - 2vw^2 ) $$\n",
    "\n",
    "$$\\frac{\\partial P_D}{\\partial w} = \\frac{1}{2} \\rho C_D (v^2 + 3w^2 - 4vw ) $$\n",
    "\n",
    "$$\\frac{\\partial P_D}{\\partial w} = \\frac{1}{2} \\rho C_D (v^2 + 3w^2 - 4vw ) = 0$$\n",
    "\n",
    "$$\\frac{\\partial P_D}{\\partial w} = (v^2 + 3w^2 - 4vw ) = 0$$\n",
    "\n",
    "If $w = v/3$, we see that:\n",
    "\n",
    "$$(v^2 + 3(v/3)^2 - 4v(v/3) ) = 0$$\n",
    "\n",
    "$$v^2 + (1/3)(v^2) - v^2(4/3)  = 0$$\n",
    "\n",
    "$$v^2  - v^2(3/3)  = 0$$\n",
    "\n",
    "$$0 = 0$$\n",
    "\n",
    "So, the maximum value of $P_D$ is then:\n",
    "\n",
    "$$P_\\text{max} = \\frac{1}{2} \\rho C_D  (v - (v/3))^2 (v/3) $$\n",
    "\n",
    "$$P_\\text{max} = \\frac{1}{2} \\rho C_D  ((2/3)^2v^2) (v/3) $$\n",
    "\n",
    "$$P_\\text{max} = \\frac{1}{2} \\rho C_D  ((4/27)v^3) $$\n",
    "\n",
    "$$P_\\text{max} = \\frac{2}{27}\\rho C_D  v^3 $$\n",
    "\n",
    "The ratio of $P_\\text{max}$ to the wind power, $P_w$, is:\n",
    "\n",
    "$$ \\frac{P_\\text{max}}{P_w} = \\frac{\\frac{2}{27}\\rho C_D  v^3}{\\frac{1}{2}\\rho v^3 } = \\frac{4}{27} C_D $$\n",
    "\n",
    "The drag coefficient of a large flat plate at low subsonic velocities is \n",
    "\n",
    "$$C_D = 1.28 $$\n",
    "\n",
    "So in this case at best it would be possible to extract this amount of energy from the wind:"
   ]
  },
  {
   "cell_type": "code",
   "execution_count": 1,
   "id": "a8e2bc6a-5905-42e7-97b0-71514cb99a0c",
   "metadata": {},
   "outputs": [
    {
     "name": "stdout",
     "output_type": "stream",
     "text": [
      "0.18962962962962962\n"
     ]
    }
   ],
   "source": [
    "CD = 1.28\n",
    "Pratio = (4/27)*CD; print(Pratio)"
   ]
  },
  {
   "cell_type": "markdown",
   "id": "bd03c36c-9457-45b8-a2a3-211f6e2a7e47",
   "metadata": {},
   "source": [
    "If we have the situation where any molecule that strikes a surface is reflected back against the wind without interfering with the incoming molecules, we can achieve:\n",
    "\n",
    "$$p = 2 \\rho v^2 $$\n",
    "\n",
    "Recalling our definition of the real pressure being equal to the dynamic pressure multiplied by the drag coefficient:\n",
    "\n",
    "$$p = \\frac{1}{2}\\rho v^2 C_D $$\n",
    "\n",
    "Substituting yields:\n",
    "\n",
    "$$ 2 \\rho v^2 = \\frac{1}{2}\\rho v^2 C_D $$\n",
    "\n",
    "$$ 4 =  C_D $$"
   ]
  },
  {
   "cell_type": "code",
   "execution_count": 2,
   "id": "f2ec8c9e-a832-463f-b925-9f9d3ce26aa7",
   "metadata": {},
   "outputs": [
    {
     "name": "stdout",
     "output_type": "stream",
     "text": [
      "0.5925925925925926\n"
     ]
    }
   ],
   "source": [
    "CD_max = 4\n",
    "Pratio_max = (4/27)*CD_max; print(Pratio_max)"
   ]
  },
  {
   "cell_type": "markdown",
   "id": "c8630593-4ad4-461f-893f-9d657d9618e5",
   "metadata": {},
   "source": [
    "If $C_D = 4$, this means that $p = 2 \\rho v^2$. Recalling that:\n",
    "\n",
    "$$P_\\text{max} = \\frac{2}{27}\\rho C_D  v^3 $$\n",
    "\n",
    "$$P_\\text{max} = \\frac{2}{27}\\rho 4  v^3 $$\n",
    "\n",
    "$$P_\\text{max} = \\frac{8}{27}\\rho v^3 $$\n",
    "\n",
    "$$P_\\text{max} = \\frac{16}{27} \\frac{1}{2} \\rho v^3 $$\n",
    "\n",
    "The factor of $\\frac{16}{27}$ is known as the Betz limit or Betz efficiency. That is, it is only possible to extract up to 59.3 \\% of the ``power in the wind''."
   ]
  },
  {
   "cell_type": "code",
   "execution_count": null,
   "id": "d4b36c1c-a9a6-4400-a5d8-6a9f7e5355b1",
   "metadata": {},
   "outputs": [],
   "source": []
  }
 ],
 "metadata": {
  "kernelspec": {
   "display_name": "Python 3 (ipykernel)",
   "language": "python",
   "name": "python3"
  },
  "language_info": {
   "codemirror_mode": {
    "name": "ipython",
    "version": 3
   },
   "file_extension": ".py",
   "mimetype": "text/x-python",
   "name": "python",
   "nbconvert_exporter": "python",
   "pygments_lexer": "ipython3",
   "version": "3.11.11"
  }
 },
 "nbformat": 4,
 "nbformat_minor": 5
}
