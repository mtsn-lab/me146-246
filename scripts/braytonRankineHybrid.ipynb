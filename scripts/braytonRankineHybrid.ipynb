{
 "cells": [
  {
   "cell_type": "markdown",
   "id": "b5d1e2fd-86f2-48ab-9d1b-89a406dc6b07",
   "metadata": {},
   "source": [
    "Reference: Renewable Energy 147 (2020) 2913--2931\n",
    "\n",
    "This paper presents a thermodynamic analysis and techno-economic assessment of a novel hybrid solar-biomass power-generation system con guration composed of an externally red gas-turbine (EFGT) fuelled by biomass (wood chips) and a bottoming organic Rankine cycle (ORC) plant. \n",
    "\n",
    "![figure-1](figure-1.png \"Power plant\")"
   ]
  },
  {
   "cell_type": "code",
   "execution_count": 1,
   "id": "f11dbe2a-066e-4934-a28b-756078a31694",
   "metadata": {},
   "outputs": [
    {
     "name": "stdout",
     "output_type": "stream",
     "text": [
      "Collecting CoolProp\n",
      "  Using cached CoolProp-6.7.0-cp311-cp311-manylinux_2_17_x86_64.manylinux2014_x86_64.whl.metadata (555 bytes)\n",
      "Using cached CoolProp-6.7.0-cp311-cp311-manylinux_2_17_x86_64.manylinux2014_x86_64.whl (7.3 MB)\n",
      "Installing collected packages: CoolProp\n",
      "Successfully installed CoolProp-6.7.0\n"
     ]
    }
   ],
   "source": [
    "!pip install CoolProp"
   ]
  },
  {
   "cell_type": "code",
   "execution_count": 2,
   "id": "d180e6fb-e767-450f-9451-bad76fe96bb7",
   "metadata": {},
   "outputs": [],
   "source": [
    "from CoolProp.CoolProp import PropsSI"
   ]
  },
  {
   "cell_type": "code",
   "execution_count": 14,
   "id": "c62333af-4b1c-46cf-b36b-e1246796e1af",
   "metadata": {},
   "outputs": [],
   "source": [
    "TA_K = 25+273.15\n",
    "pA_Pa = 101325\n",
    "\n",
    "pressureRatio = (10)**0.5\n",
    "\n",
    "fluid = 'air'\n",
    "\n",
    "mdot_Air_kgPerS = 10"
   ]
  },
  {
   "cell_type": "code",
   "execution_count": 15,
   "id": "e9efe030-b619-486b-8ad9-8adcfa9bbdb6",
   "metadata": {},
   "outputs": [],
   "source": [
    "hA = PropsSI('H','T',TA_K,'P',pA_Pa,fluid)\n",
    "sA = PropsSI('S','T',TA_K,'P',pA_Pa,fluid)\n",
    "vA = 1/PropsSI('D','T',TA_K,'P',pA_Pa,fluid)"
   ]
  },
  {
   "cell_type": "code",
   "execution_count": 24,
   "id": "ff833ee9-9258-4f2b-a5c0-da766254671b",
   "metadata": {},
   "outputs": [],
   "source": [
    "pB_Pa = pA_Pa*pressureRatio\n",
    "sB = sA\n",
    "\n",
    "hB = PropsSI('H','S',sB,'P',pB_Pa,fluid)\n",
    "vB = 1/PropsSI('D','S',sB,'P',pB_Pa,fluid)\n",
    "TB_K = PropsSI('T','S',sB,'P',pB_Pa,fluid)"
   ]
  },
  {
   "cell_type": "code",
   "execution_count": 17,
   "id": "5a475ed6-160c-4195-a0a8-6c85e4b8cb89",
   "metadata": {},
   "outputs": [
    {
     "name": "stdout",
     "output_type": "stream",
     "text": [
      "1171534.414495686\n"
     ]
    }
   ],
   "source": [
    "pC_Pa = pB_Pa\n",
    "TC_K = TA_K\n",
    "\n",
    "hC = PropsSI('H','T',TC_K,'P',pC_Pa,fluid)\n",
    "sC = PropsSI('S','T',TC_K,'P',pC_Pa,fluid)\n",
    "vC = 1/PropsSI('D','T',TC_K,'P',pC_Pa,fluid)\n",
    "\n",
    "QBC_J = mdot_Air_kgPerS*(hB - hC); print(QBC_J)"
   ]
  },
  {
   "cell_type": "code",
   "execution_count": 21,
   "id": "c58b1204-71ed-4f30-a70b-7fb09fb0cbdc",
   "metadata": {},
   "outputs": [],
   "source": [
    "pD_Pa = pC_Pa*pressureRatio\n",
    "sD = sC\n",
    "\n",
    "hD = PropsSI('H','S',sD,'P',pD_Pa,fluid)\n",
    "vD = 1/PropsSI('D','S',sD,'P',pD_Pa,fluid)\n",
    "TD_K = PropsSI('T','S',sD,'P',pD_Pa,fluid)"
   ]
  },
  {
   "cell_type": "code",
   "execution_count": 22,
   "id": "5fb49d67-f469-4e8e-bf43-76e85dec81c6",
   "metadata": {},
   "outputs": [],
   "source": [
    "import numpy as np\n",
    "import matplotlib.pyplot as plt"
   ]
  },
  {
   "cell_type": "code",
   "execution_count": 27,
   "id": "8aab9381-66a9-46bb-a61c-47cb336f513c",
   "metadata": {},
   "outputs": [
    {
     "data": {
      "text/plain": [
       "Text(0, 0.5, 'T (K)')"
      ]
     },
     "execution_count": 27,
     "metadata": {},
     "output_type": "execute_result"
    },
    {
     "data": {
      "image/png": "[encoded data removed]",
      "text/plain": [
       "<Figure size 640x480 with 1 Axes>"
      ]
     },
     "metadata": {},
     "output_type": "display_data"
    }
   ],
   "source": [
    "plt.figure()\n",
    "plt.clf()\n",
    "\n",
    "# plot for the ideal cycle\n",
    "plt.plot([sA, sB], [TA_K, TB_K], 'g-', lw=4) \n",
    "plt.plot([sB, sC], [TB_K, TC_K], 'g-', lw=4) \n",
    "plt.plot([sC, sD], [TC_K, TD_K], 'g-', lw=4) \n",
    "\n",
    "plt.xlabel('s (J/(kg K))')\n",
    "plt.ylabel('T (K)')\n",
    "\n",
    "# plt.savefig('cryogenic-cycle-T-s.png')\n",
    "\n",
    "#Tsat2 = np.linspace(200, 400, 1000) # range of temperatures\n",
    "#plt.plot(svap, Tsat2, 'r-')\n",
    "#plt.plot(sliq, Tsat2, 'r-')"
   ]
  },
  {
   "cell_type": "code",
   "execution_count": 55,
   "id": "ff7c1469-ae58-4a32-9f6d-9656259d5e6c",
   "metadata": {},
   "outputs": [],
   "source": [
    "# For now we can assume a Qdot_in = Qdot_DE that comes from the furnace. \n",
    "# Later on we can compute the biomass input\n",
    "\n",
    "Qdot_DE_W = 8e6"
   ]
  },
  {
   "cell_type": "code",
   "execution_count": 63,
   "id": "2d532c2e-0837-445c-8cc1-62880f5521c5",
   "metadata": {},
   "outputs": [
    {
     "name": "stdout",
     "output_type": "stream",
     "text": [
      "1340658.0456939496\n",
      "1145.1652705365952\n"
     ]
    }
   ],
   "source": [
    "hE = hD + Qdot_DE_W/mdot_Air_kgPerS; print(hE)\n",
    "pE_Pa = pD_Pa\n",
    "\n",
    "# The max temp that a Brayton cycle can run at is 1500 K\n",
    "TE_K = PropsSI('T','H',hE,'P',pE_Pa,fluid); print(TE_K)\n",
    "sE = PropsSI('S','H',hE,'P',pE_Pa,fluid)\n",
    "vE = 1/PropsSI('D','H',hE,'P',pE_Pa,fluid)"
   ]
  },
  {
   "cell_type": "code",
   "execution_count": 64,
   "id": "fe72b32f-ceac-4763-93aa-775821d468fd",
   "metadata": {},
   "outputs": [
    {
     "name": "stdout",
     "output_type": "stream",
     "text": [
      "631.5239141964252\n"
     ]
    }
   ],
   "source": [
    "sF = sE\n",
    "pF_Pa = pA_Pa # pE_Pa*.4\n",
    "\n",
    "hF = PropsSI('H','S',sF,'P',pF_Pa,fluid)\n",
    "TF_K = PropsSI('T','S',sF,'P',pF_Pa,fluid); print(TF_K)\n",
    "vF = 1/PropsSI('D','S',sF,'P',pF_Pa,fluid)"
   ]
  },
  {
   "cell_type": "code",
   "execution_count": null,
   "id": "b12fa905-4a8d-4482-97c2-995a4d6eae82",
   "metadata": {},
   "outputs": [],
   "source": []
  },
  {
   "cell_type": "code",
   "execution_count": 95,
   "id": "ce42c84b-db12-4a7d-96de-91f5bfff03e1",
   "metadata": {},
   "outputs": [
    {
     "name": "stdout",
     "output_type": "stream",
     "text": [
      "487.6291895029021\n"
     ]
    }
   ],
   "source": [
    "QdotFG_W = 1.5e6\n",
    "\n",
    "pG_Pa = pF_Pa\n",
    "\n",
    "hG = hF - (QdotFG_W/mdot_Air_kgPerS)\n",
    "# TG_K = 200 + 273.15\n",
    "# hG = PropsSI('H','P',pG_Pa,'T',TG_K,fluid)\n",
    "sG = PropsSI('S','P',pG_Pa,'H',hG,fluid)\n",
    "vG = 1/PropsSI('D','P',pG_Pa,'H',hG,fluid)\n",
    "TG_K = PropsSI('T','P',pG_Pa,'H',hG,fluid); print(TG_K)"
   ]
  },
  {
   "cell_type": "code",
   "execution_count": 96,
   "id": "adc0f121-914f-44ca-bc82-fdf2ff699c04",
   "metadata": {},
   "outputs": [
    {
     "data": {
      "image/png": "[encoded data removed]",
      "text/plain": [
       "<Figure size 640x480 with 1 Axes>"
      ]
     },
     "metadata": {},
     "output_type": "display_data"
    }
   ],
   "source": [
    "plt.figure()\n",
    "plt.clf()\n",
    "\n",
    "# plot for the ideal cycle\n",
    "plt.plot([sA, sB], [TA_K, TB_K], 'g-', lw=4) \n",
    "plt.plot([sB, sC], [TB_K, TC_K], 'g-', lw=4) \n",
    "plt.plot([sC, sD], [TC_K, TD_K], 'g-', lw=4) \n",
    "plt.plot([sD, sE], [TD_K, TE_K], 'g-', lw=4) \n",
    "plt.plot([sE, sF], [TE_K, TF_K], 'g-', lw=4) \n",
    "plt.plot([sF, sG], [TF_K, TG_K], 'g-', lw=4) \n",
    "plt.plot([sG, sA], [TG_K, TA_K], 'g--', lw=4) \n",
    "\n",
    "plt.xlabel('s (J/(kg K))')\n",
    "plt.ylabel('T (K)')\n",
    "\n",
    "plt.savefig('brayton-T-s.png')\n",
    "\n",
    "#Tsat2 = np.linspace(200, 400, 1000) # range of temperatures\n",
    "#plt.plot(svap, Tsat2, 'r-')\n",
    "#plt.plot(sliq, Tsat2, 'r-')"
   ]
  },
  {
   "cell_type": "code",
   "execution_count": 108,
   "id": "72f8ada6-662d-4fa8-928c-8f41fe65c396",
   "metadata": {},
   "outputs": [
    {
     "name": "stdout",
     "output_type": "stream",
     "text": [
      "-14.479189502902102\n"
     ]
    }
   ],
   "source": [
    "# thermal storage\n",
    "\n",
    "# here you have to write INCOMP:: before the fluid name, in this case\n",
    "# DowQ in order to call the fluid. It is an incompressible fluid. \n",
    "fluidHeatTransfer = 'INCOMP::DowQ'\n",
    "\n",
    "TH_K = 200+273.15\n",
    "\n",
    "# State H, exiting the tank and entering the heat exchanger\n",
    "pH = 5e5\n",
    "\n",
    "hH = PropsSI('H','T',TH_K,'P',pH,fluidHeatTransfer)\n",
    "sH = PropsSI('S','T',TH_K,'P',pH,fluidHeatTransfer)\n",
    "\n",
    "print(TH_K - TG_K)"
   ]
  },
  {
   "cell_type": "code",
   "execution_count": 109,
   "id": "b180f9dd-a9c3-4d30-9cec-cc7241b5014f",
   "metadata": {},
   "outputs": [
    {
     "name": "stdout",
     "output_type": "stream",
     "text": [
      "-18.373914196425176\n"
     ]
    }
   ],
   "source": [
    "TI_K = 340+273.15\n",
    "pI = pH\n",
    "\n",
    "print(TI_K - TF_K)"
   ]
  },
  {
   "cell_type": "code",
   "execution_count": 110,
   "id": "f9929376-b208-4550-a3d5-c5cad47394e7",
   "metadata": {},
   "outputs": [],
   "source": [
    "hI = PropsSI('H','T',TI_K,'P',pI,fluidHeatTransfer)\n",
    "sI = PropsSI('S','T',TI_K,'P',pI,fluidHeatTransfer)"
   ]
  },
  {
   "cell_type": "code",
   "execution_count": 111,
   "id": "c6544793-f00c-4a1a-b51c-56d49214c87c",
   "metadata": {},
   "outputs": [
    {
     "name": "stdout",
     "output_type": "stream",
     "text": [
      "4.439935475853545\n"
     ]
    }
   ],
   "source": [
    "mdot_HI_kgPerS = QdotFG_W/(hI - hH); print(mdot_HI_kgPerS)"
   ]
  },
  {
   "cell_type": "code",
   "execution_count": 140,
   "id": "a4c98e33-4540-4fc1-ba48-1fce761b9d4e",
   "metadata": {},
   "outputs": [
    {
     "name": "stdout",
     "output_type": "stream",
     "text": [
      "295.127900991809\n"
     ]
    }
   ],
   "source": [
    "# organic Rankine cycle, let's try CO2 as a working fluid\n",
    "\n",
    "fluid_ORC = 'CO2'\n",
    "\n",
    "Q1 = 0 # quality\n",
    "P1 = 60e5 # Pa\n",
    "h1 = PropsSI('H','P',P1,'Q',Q1,fluid_ORC)\n",
    "s1 = PropsSI('S','P',P1,'Q',Q1,fluid_ORC)\n",
    "T1 = PropsSI('T','P',P1,'Q',Q1,fluid_ORC); print(T1)"
   ]
  },
  {
   "cell_type": "code",
   "execution_count": 141,
   "id": "89cc8413-20f4-49ad-aec1-30263d6c3d1a",
   "metadata": {},
   "outputs": [
    {
     "name": "stdout",
     "output_type": "stream",
     "text": [
      "324.3179543289205\n"
     ]
    }
   ],
   "source": [
    "P2 = 5*P1 # Pa\n",
    "s2 = s1\n",
    "\n",
    "h2 = PropsSI('H','P',P2,'S',s2,fluid_ORC)\n",
    "s2 = PropsSI('S','P',P2,'S',s2,fluid_ORC)\n",
    "T2 = PropsSI('T','P',P2,'S',s2,fluid_ORC); print(T2)"
   ]
  },
  {
   "cell_type": "code",
   "execution_count": 170,
   "id": "7401d23e-614f-496a-bad9-29ef289ec003",
   "metadata": {},
   "outputs": [
    {
     "name": "stdout",
     "output_type": "stream",
     "text": [
      "-213.0609881236793\n"
     ]
    }
   ],
   "source": [
    "mdot_23_kgPerS = 8\n",
    "\n",
    "h3 = h2 + (QdotFG_W/mdot_23_kgPerS)\n",
    "P3 = P2\n",
    "\n",
    "T3 = PropsSI('T','H',h3,'P',P3,fluid_ORC)\n",
    "s3 = PropsSI('S','H',h3,'P',P3,fluid_ORC)\n",
    "\n",
    "print(T3 - TF_K)"
   ]
  },
  {
   "cell_type": "code",
   "execution_count": null,
   "id": "f53b1d64-c0dd-424e-91ac-6b065258a13a",
   "metadata": {},
   "outputs": [],
   "source": []
  },
  {
   "cell_type": "code",
   "execution_count": 176,
   "id": "694e817e-ac4b-4c56-ae69-6861b27eddfb",
   "metadata": {},
   "outputs": [],
   "source": [
    "Q4 = 1\n",
    "P4 = P1\n",
    "\n",
    "T4 = PropsSI('T','Q',Q4,'P',P4,fluid_ORC)\n",
    "h4 = PropsSI('H','Q',Q4,'P',P4,fluid_ORC)\n",
    "s4 = PropsSI('S','Q',Q4,'P',P4,fluid_ORC)"
   ]
  },
  {
   "cell_type": "code",
   "execution_count": 177,
   "id": "a68d3e15-efad-4fd7-80a2-76fc632ad178",
   "metadata": {},
   "outputs": [
    {
     "data": {
      "image/png": "[encoded data removed]",
      "text/plain": [
       "<Figure size 640x480 with 1 Axes>"
      ]
     },
     "metadata": {},
     "output_type": "display_data"
    }
   ],
   "source": [
    "plt.figure()\n",
    "plt.clf()\n",
    "T = np.linspace(220, 400, 500) # range of temperatures\n",
    "for P in [P1,P2]: #MPa\n",
    "    S = [PropsSI('S','P',P,'T',t,fluid_ORC) for t in T]\n",
    "    plt.plot(S, T, 'k--')\n",
    "    \n",
    "# saturated vapor and liquid entropy lines\n",
    "Tsat = np.linspace(220, 304, 1000) # range of temperatures\n",
    "svap = [PropsSI('S','T',t,'Q',1,fluid_ORC) for t in Tsat]\n",
    "sliq = [PropsSI('S','T',t,'Q',0,fluid_ORC) for t in Tsat]\n",
    "\n",
    "plt.plot(svap, Tsat, 'k-')\n",
    "plt.plot(sliq, Tsat, 'k-')\n",
    "\n",
    "plt.xlabel('s (J/(kg K))')\n",
    "plt.ylabel('T (K)')\n",
    "\n",
    "plt.plot([s1, s2], [T1, T2], 'g-', lw=4) # Path 1 to 2\n",
    "\n",
    "S23 = np.linspace(s2, s3)\n",
    "T23 = [PropsSI('T','P',P2,'S',s,fluid_ORC) for s in S23]\n",
    "plt.plot(S23,T23, 'g-', lw=4)\n",
    "\n",
    "plt.plot([s3, s4], [T3, T4], 'g-', lw=4) # path from 3 to 4 \n",
    "\n",
    "T41 = np.linspace(T4, T1) \n",
    "Q41 = np.linspace(Q4, Q1)\n",
    "S41 = [PropsSI('S','P',P4,'Q',q,fluid_ORC) for q in Q41]\n",
    "plt.plot(S41, T41, 'g-', lw=4) # and from 4 to 1 is isobaric\n",
    "\n",
    "plt.savefig('carbonDioxide-rankine-TS.png')\n",
    "\n",
    "#Tsat2 = np.linspace(200, 400, 1000) # range of temperatures\n",
    "#plt.plot(svap, Tsat2, 'r-')\n",
    "#plt.plot(sliq, Tsat2, 'r-')"
   ]
  },
  {
   "cell_type": "code",
   "execution_count": 188,
   "id": "a5668263-2cf9-44c4-be35-6d48ee3080dd",
   "metadata": {},
   "outputs": [
    {
     "name": "stdout",
     "output_type": "stream",
     "text": [
      "610956.6358541474\n",
      "234747.00097259926\n",
      "1123790.3651184519\n"
     ]
    }
   ],
   "source": [
    "W34_W = mdot_23_kgPerS*(h3 - h4); print(W34_W)\n",
    "Q23_W = mdot_23_kgPerS*(h3 - h2)\n",
    "\n",
    "W12_W = mdot_23_kgPerS*(h2 - h1); print(W12_W)\n",
    "\n",
    "Q41_W = mdot_23_kgPerS*(h4 - h1); print(Q41_W)"
   ]
  },
  {
   "cell_type": "code",
   "execution_count": 189,
   "id": "2872cf85-5595-4be7-b0b3-8b6d8f41955d",
   "metadata": {},
   "outputs": [
    {
     "name": "stdout",
     "output_type": "stream",
     "text": [
      "0.2508064232543654\n",
      "0.2508064232543654\n"
     ]
    }
   ],
   "source": [
    "eta_ORC = (Q23_W - Q41_W)/Q23_W; print(eta_ORC)\n",
    "eta_ORC_ = (W34_W - W12_W)/Q23_W; print(eta_ORC_)"
   ]
  },
  {
   "cell_type": "code",
   "execution_count": 190,
   "id": "ce5fdb7e-01ae-4c9a-8526-8ccc2af32fa5",
   "metadata": {},
   "outputs": [
    {
     "name": "stdout",
     "output_type": "stream",
     "text": [
      "5739889.217447695\n"
     ]
    }
   ],
   "source": [
    "W_EF_W = mdot_Air_kgPerS*(hE - hF); print(W_EF_W)"
   ]
  },
  {
   "cell_type": "code",
   "execution_count": 191,
   "id": "aa8f6baa-df45-4ff5-84bf-5647be16e927",
   "metadata": {},
   "outputs": [
    {
     "name": "stdout",
     "output_type": "stream",
     "text": [
      "1166518.1737059914\n",
      "1167236.2585641688\n"
     ]
    }
   ],
   "source": [
    "W_AB = mdot_Air_kgPerS*(hB - hA); print(W_AB)\n",
    "W_CD = mdot_Air_kgPerS*(hD - hC); print(W_CD)"
   ]
  },
  {
   "cell_type": "code",
   "execution_count": 192,
   "id": "e98c8ac8-fd79-4729-b4e9-ca6bb3bb0459",
   "metadata": {},
   "outputs": [
    {
     "name": "stdout",
     "output_type": "stream",
     "text": [
      "0.4257668481471919\n"
     ]
    }
   ],
   "source": [
    "eta_Brayton = (W_EF_W - (W_AB + W_CD))/Qdot_DE_W; print(eta_Brayton)"
   ]
  },
  {
   "cell_type": "code",
   "execution_count": 193,
   "id": "f732e3ab-8b99-4cf7-b4b0-4b77aa0c304b",
   "metadata": {},
   "outputs": [
    {
     "name": "stdout",
     "output_type": "stream",
     "text": [
      "0.47279305250738546\n"
     ]
    }
   ],
   "source": [
    "Wout_W = W_EF_W + W34_W\n",
    "\n",
    "Win_W = W_AB + W_CD + W12_W\n",
    "\n",
    "Qin_W = Qdot_DE_W\n",
    "\n",
    "eta_total = (Wout_W - Win_W)/Qin_W; print(eta_total)"
   ]
  },
  {
   "cell_type": "code",
   "execution_count": null,
   "id": "5ddeff58-5af6-4aa0-a0c6-ebef290b9d7f",
   "metadata": {},
   "outputs": [],
   "source": []
  }
 ],
 "metadata": {
  "kernelspec": {
   "display_name": "Python 3 (ipykernel)",
   "language": "python",
   "name": "python3"
  },
  "language_info": {
   "codemirror_mode": {
    "name": "ipython",
    "version": 3
   },
   "file_extension": ".py",
   "mimetype": "text/x-python",
   "name": "python",
   "nbconvert_exporter": "python",
   "pygments_lexer": "ipython3",
   "version": "3.11.11"
  }
 },
 "nbformat": 4,
 "nbformat_minor": 5
}
