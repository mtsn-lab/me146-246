{
 "cells": [
  {
   "cell_type": "markdown",
   "id": "d16a131a-15b3-459a-9311-cee204568929",
   "metadata": {},
   "source": [
    "As an example of an electrochemical cell, consider a membrane capable\n",
    "of acting as an electrolyte. Put hydrogen in contact with one side of this\n",
    "membrane. At ambient conditions, most of the gas will be in the form of\n",
    "H2 molecules; however, a small amount will dissociate:\n",
    "\n",
    "$$H_2 \\rightarrow 2H $$\n",
    "\n",
    "and some of the resulting H will oxidize (ionize)—that is, lose an electron:\n",
    "\n",
    "$$H \\rightarrow H^+ + e^- $$\n",
    "\n",
    "Since the membrane does not conduct electrons, the electrons will\n",
    "remain on its surface, while the positive ions will diﬀuse through it and\n",
    "arrive at the other side. \n",
    "    \n",
    "Because the ions carry a positive charge, the hydrogen side becomes negative owing to the excess electrons that remain on it, and the opposite side becomes positive owing to the positive ions that arrived there. \n",
    "\n",
    "The resulting electric field causes some of the positive ions to drift back to the hydrogen side. A dynamic equilibrium is established when the diﬀusion exactly equals the returning drift. It is easy to calculate the potential developed (Chapter 7, Section 7.1)."
   ]
  },
  {
   "cell_type": "markdown",
   "id": "4c359f00-4d0f-4d2a-a7a1-1f24bd32d55a",
   "metadata": {},
   "source": [
    "If the concentration of hydrogen ions on one side is higher on the anode than the cathode, the ions will diffuse. Such an accummulation of ions will result in an electric field that drives the ions back towards the anode. In equilibrium, the diffusion flux equals the drift flux. \n",
    "\n",
    "What is the voltage developed by this cell? Let $N$ be the concentration of migrating ions ($H^+$) and let $x$ be the distance into membrane with the positive direction being from the anode to the cathode. The flux, $\\phi_D$ owing to the diffusion of ions is:\n",
    "\n",
    "$$\\phi_D = -D \\frac{d N}{d x} $$\n",
    "\n",
    "where $D$ is the diffusion constant. An electric field appears driving a drift flux:\n",
    "\n",
    "$$\\phi_E = N \\mu E $$\n",
    "\n",
    "where $\\mu$ is the mobility of the ions and $E = - dV/dx$ is the electric field. In equilibrium the two fluxes are equal:\n",
    "\n",
    "$$ -D \\frac{d N}{d x}  = N \\mu E $$\n",
    "\n",
    "$$ -D \\frac{d N}{d x}  = N \\mu (- dV/dx) $$\n",
    "\n",
    "$$ D \\frac{d N}{d x}  = N \\mu \\frac{dV}{dx} $$\n",
    "\n",
    "$$ \\frac{D}{\\mu} \\frac{d N}{N}  =  dV$$\n",
    "\n",
    "Integrating: \n",
    "$$ \\int ^{N_A}_{N_C}\\frac{D}{\\mu} \\frac{d N}{N}  =  \\int^{V_A}_{V_C} dV$$\n",
    "\n",
    "$$\\frac{D}{\\mu} \\left(\\ln N_A - \\ln N_C \\right) = \\Delta V$$\n",
    "\n",
    "where the subscript A and C denote the anode and cathode. From Einstein's relation we have: \n",
    "\n",
    "$$\\frac{D}{\\mu} = \\frac{k_B T}{q} $$\n",
    "\n",
    "where $k_B$ is Boltzmann's constant, $T$ is temperature, and $q$ is elementary charge. Usually the temperature of the anode and cathode are the same, therefore we have:\n",
    "\n",
    "$$\\frac{k_B T}{q} \\left(\\ln N_A - \\ln N_C \\right) = V_A - V_C$$\n",
    "\n",
    "If we can treat the ions as an ideal gas (recall thermodynamics on entropy of mixing of ion solutions), we can write:\n",
    "\n",
    "$$p = N k T $$\n",
    "\n",
    "Therefore,\n",
    "\n",
    "$$\\frac{k_B T}{q} \\ln \\frac{p_A}{p_C} = V_A - V_C$$\n",
    "\n",
    "This is the open circuit voltage of this simple electrochemical cell."
   ]
  },
  {
   "cell_type": "markdown",
   "id": "2cd09e00-c952-494a-9d94-b5312086f469",
   "metadata": {},
   "source": [
    "In the case of an ideal (reversible) electrochemical cell, the load voltage $V_L$ is equal to the open circuit voltage $V_A -  V_C$ since the internal resistance of the device is zero. Therefore, when $n$ moles of hydrogen ions (singly ionized and carry a positive charge equal in magnitude to that of an electron) pass through the membrane the electrical energy delivered to the load is:\n",
    "$$W_e = n N_0 q V_L = n N_0 q \\frac{k_B T}{q} \\ln \\frac{p_A}{p_C} $$\n",
    "\n",
    "$$W_e = n R T \\ln \\frac{p_A}{p_C} $$\n",
    "\n",
    "which is the energy delivered by the isothermal expansion of $n$ moles of gas from $p_A$ to $p_C$ and where $k_B N_0 = R$"
   ]
  },
  {
   "cell_type": "code",
   "execution_count": null,
   "id": "2bd27c80-2076-49ce-8106-2d369101079d",
   "metadata": {},
   "outputs": [],
   "source": []
  }
 ],
 "metadata": {
  "kernelspec": {
   "display_name": "Python 3 (ipykernel)",
   "language": "python",
   "name": "python3"
  },
  "language_info": {
   "codemirror_mode": {
    "name": "ipython",
    "version": 3
   },
   "file_extension": ".py",
   "mimetype": "text/x-python",
   "name": "python",
   "nbconvert_exporter": "python",
   "pygments_lexer": "ipython3",
   "version": "3.11.11"
  }
 },
 "nbformat": 4,
 "nbformat_minor": 5
}
