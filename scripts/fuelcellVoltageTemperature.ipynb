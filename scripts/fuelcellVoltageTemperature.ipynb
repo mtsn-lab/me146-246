{
 "cells": [
  {
   "cell_type": "markdown",
   "id": "4a24e89e-0960-4819-895c-f04c180c5e60",
   "metadata": {},
   "source": [
    "Let us determine how voltage, $V_\\text{rev}$, depends on temperature, $T$. \n",
    "\n",
    "By definition:\n",
    "\n",
    "$$ G = H - T S $$\n",
    "\n",
    "and \n",
    "\n",
    "$$ H = U + p V\\llap{-} $$\n",
    "\n",
    "where $H$ is enthalpy, $U$ is internal energy, $p$ is pressure, and $V\\llap{-}$ is volume. Therefore,\n",
    "\n",
    "$$ G = U + p V\\llap{-} - T S $$\n",
    "\n",
    "Taking the differential of this formula:\n",
    "\n",
    "$$ dG = dU +  V\\llap{-}dp + p dV\\llap{-} - SdT  - T dS $$\n",
    "\n",
    "Combining the first and second laws of thermodynamics:\n",
    "\n",
    "$$ dU = T dS - p dV\\llap{-} $$\n",
    "\n",
    "Therefore, \n",
    "$$ dG = (T dS - p dV\\llap{-}) +  V\\llap{-}dp + p dV\\llap{-} - SdT  - T dS $$\n",
    "\n",
    "$$ dG =   V\\llap{-}dp - SdT  $$\n",
    "\n",
    "For a single component system, if $U = U(S,V\\llap{-})$ then this implies that $G = G(T,p)$. The Gibbs potential is the Legendre transormation of $U$ where $S$ is swapped for $T$ and $V\\llap{-}$ is swapped for $p$. Therefore, if we take the complete differential of $G$ we have:\n",
    "\n",
    "$$dG = \\left(\\frac{\\partial G}{\\partial p}\\right)_T dp + \\left(\\frac{\\partial G}{\\partial T}\\right)_p dT $$\n",
    "\n",
    "From the last two equations we see that:\n",
    "\n",
    "$$\\left(\\frac{\\partial G}{\\partial T}\\right)_p = - S $$\n",
    "\n",
    "Previously we showed that the electric energy, $W_e$, delivered to the reversible fuel cell is:\n",
    "\n",
    "$$\\Delta G = - n_e q N_0 n_\\text{H2O} |V_\\text{rev}| $$\n",
    "\n",
    "and per kilomole of water it is:\n",
    "\n",
    "$$\\bar{g}_f = - n_e q N_0 |V_\\text{rev}| $$\n",
    "\n",
    "We can generalize this as:\n",
    "\n",
    "$$- \\Delta G = \\sum_i n_\\text{p,i} n_e q N_0 V $$\n",
    "\n",
    "where $V$ is voltage."
   ]
  },
  {
   "cell_type": "markdown",
   "id": "304896a7-b4fc-435d-a53e-00b59b02e0d8",
   "metadata": {},
   "source": [
    "Recall that reaction enthalpy and Gibbs free energy are:\n",
    "\n",
    "$$\\Delta H = H_\\text{prod} - H_\\text{react} = \\sum n_p \\bar{h}_{f,\\text{p}}^\\circ - \\sum n_r \\bar{h}_{f,r}^\\circ $$\n",
    "\n",
    "$$\\Delta G = G_\\text{prod} - G_\\text{react} = \\sum n_p \\bar{g}_{f,\\text{p}}^\\circ - \\sum n_r \\bar{g}_{f,r}^\\circ $$\n",
    "\n",
    "Combining the above yields:\n",
    "\n",
    "$$\\sum_i n_{\\text{p},i} n_e q N_0 V = -\\left( \\sum_i n_{\\text{p},i} \\bar{g}_{f,\\text{p},i}^\\circ - \\sum_i n_{r,i} \\bar{g}_{f,r,i}^\\circ \\right) $$\n",
    "\n",
    "Taking the partial derivative of both sides with respect to temperature for constant pressure:\n",
    "\n",
    "$$\\sum_i n_{\\text{p},i} n_e q N_0 \\left( \\frac{\\partial V}{\\partial T}\\right)_p = -\\left( \\sum_i n_{\\text{p},i} \\frac{\\partial \\bar{g}_{f,\\text{p},i}^\\circ}{\\partial T} - \\sum_i n_{r,i} \\frac{\\partial \\bar{g}_{f,r,i}^\\circ}{\\partial T} \\right) $$"
   ]
  },
  {
   "cell_type": "markdown",
   "id": "c5dff9d4-53fd-4330-a2ad-2c2ed5adc3d1",
   "metadata": {},
   "source": [
    "Recalling that \n",
    "\n",
    "$$\\left(\\frac{\\partial \\bar{g}}{\\partial T}\\right)_p = - \\bar{s} $$\n",
    "\n",
    "and\n",
    "\n",
    "$$T \\bar{s} = \\bar{h} - \\bar{g} $$\n",
    "\n",
    "yields:\n",
    "\n",
    "$$\\sum_i n_{\\text{p},i} n_e q N_0 \\left( \\frac{\\partial V}{\\partial T}\\right)_p = \\frac{  \\sum_i n_{\\text{p},i} \\left(\\bar{h}_{f,\\text{p},i}^\\circ -\\bar{g}_{f,\\text{p},i}^\\circ\\right) - \\sum_i n_{r,i} \\left(\\bar{h}_{f,r,i}^\\circ - \\bar{g}_{f,r,i}^\\circ \\right) }{T} $$\n",
    "\n",
    "$$ \\left( \\frac{\\partial V}{\\partial T}\\right)_p = \\frac{  \\sum_i n_{\\text{p},i} \\left(\\bar{h}_{f,\\text{p},i}^\\circ -\\bar{g}_{f,\\text{p},i}^\\circ\\right) - \\sum_i n_{r,i} \\left(\\bar{h}_{f,r,i}^\\circ - \\bar{g}_{f,r,i}^\\circ \\right) }{\\sum_i n_{\\text{p},i} n_e q N_0 T} $$\n",
    "\n",
    "Recalling from the above that: \n",
    "\n",
    "$$V = \\frac{-\\left( \\sum_i n_{\\text{p},i} \\bar{g}_{f,\\text{p},i}^\\circ - \\sum_i n_{r,i} \\bar{g}_{f,r,i}^\\circ \\right)}{\\sum_i n_{\\text{p},i} n_e q N_0 } $$\n"
   ]
  },
  {
   "cell_type": "markdown",
   "id": "4d2bb777-d548-41be-a5ac-683b6ba3ed23",
   "metadata": {},
   "source": [
    "Rewriting the above yields:\n",
    "\n",
    "$$ \\left( \\frac{\\partial V}{\\partial T}\\right)_p = \\frac{V}{T} + \\frac{ \\sum_i n_{\\text{p},i} \\bar{h}_{f,\\text{p},i}^\\circ - \\sum_i n_{r,i} \\bar{h}_{f,r,i}^\\circ  }{\\sum_i n_{\\text{p},i} n_e q N_0 T} $$\n",
    "\n",
    "Recalling the definition for the enthalpy of combustion/reaction:\n",
    "\n",
    "$$ \\left( \\frac{\\partial V}{\\partial T}\\right)_p = \\frac{V}{T}+ \\frac{ \\Delta H  }{\\sum_i n_{\\text{p},i} n_e q N_0 T} $$\n",
    "\n",
    "Where $\\frac{ \\Delta H  }{\\sum_i n_{\\text{p},i} n_e q N_0 T} $ is the voltage the cell would have if all the enthalpy change of the reaction were transformed into electrical energy. This is called the enthalpy voltage. For a H2/O2 fuel cell producing water vapor:"
   ]
  },
  {
   "cell_type": "code",
   "execution_count": 1,
   "id": "74c012fb-78b2-423c-88d1-78e91b44809f",
   "metadata": {},
   "outputs": [
    {
     "name": "stdout",
     "output_type": "stream",
     "text": [
      "-241820.0\n"
     ]
    }
   ],
   "source": [
    "hfo_H2_kJperKmol = 0\n",
    "hfo_O2_kJperKmol = 0\n",
    "\n",
    "hfo_H2O_gas_kJperKmol = -241820\n",
    "\n",
    "# enthalpy of the reaction per kmol of H2\n",
    "h_C_HHV_kJperKmolH2 = hfo_H2O_gas_kJperKmol - (hfo_O2_kJperKmol/2) - hfo_H2_kJperKmol; print(h_C_HHV_kJperKmolH2)"
   ]
  },
  {
   "cell_type": "code",
   "execution_count": 3,
   "id": "40dc3c95-4746-464c-8bbb-2f6eb6fc4446",
   "metadata": {},
   "outputs": [
    {
     "name": "stdout",
     "output_type": "stream",
     "text": [
      "-1.254877947525739\n"
     ]
    }
   ],
   "source": [
    "h_C_HHV_JpermolH2 = h_C_HHV_kJperKmolH2\n",
    "\n",
    "n_p_H2O_vap_mol = 1\n",
    "ne = 2 \n",
    "N0_moleculesPermol = 6.022e23\n",
    "q_C = 1.6e-19\n",
    "\n",
    "hVoltage_V = (h_C_HHV_JpermolH2)/(n_p_H2O_vap_mol*ne*N0_moleculesPermol*q_C); print(hVoltage_V)"
   ]
  },
  {
   "cell_type": "markdown",
   "id": "4413f40f-060e-4886-a019-770050d7b818",
   "metadata": {},
   "source": [
    "It can be shown that the reversible voltage is $V = 1.185 $V. With this we can determine $ \\left( \\frac{\\partial V}{\\partial T}\\right)_p$:"
   ]
  },
  {
   "cell_type": "code",
   "execution_count": 4,
   "id": "7bd1bce9-da25-4d76-b567-b58f78b58f28",
   "metadata": {},
   "outputs": [
    {
     "name": "stdout",
     "output_type": "stream",
     "text": [
      "-0.00023437178442307213\n"
     ]
    }
   ],
   "source": [
    "Vrev_V = 1.185\n",
    "T0_K = 298.15\n",
    "\n",
    "dVdT_VperK = (Vrev_V + hVoltage_V)/T0_K; print(dVdT_VperK)"
   ]
  },
  {
   "cell_type": "code",
   "execution_count": null,
   "id": "a658b9b2-0864-4500-92ab-edf12f41e4e1",
   "metadata": {},
   "outputs": [],
   "source": []
  }
 ],
 "metadata": {
  "kernelspec": {
   "display_name": "Python 3 (ipykernel)",
   "language": "python",
   "name": "python3"
  },
  "language_info": {
   "codemirror_mode": {
    "name": "ipython",
    "version": 3
   },
   "file_extension": ".py",
   "mimetype": "text/x-python",
   "name": "python",
   "nbconvert_exporter": "python",
   "pygments_lexer": "ipython3",
   "version": "3.11.11"
  }
 },
 "nbformat": 4,
 "nbformat_minor": 5
}
