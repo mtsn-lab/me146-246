{
 "cells": [
  {
   "cell_type": "code",
   "execution_count": 7,
   "id": "ed9ccd38-2365-4601-8e34-d4bae6f86b9e",
   "metadata": {},
   "outputs": [
    {
     "name": "stdout",
     "output_type": "stream",
     "text": [
      "Collecting iapws\n",
      "  Using cached iapws-1.5.4-py3-none-any.whl\n",
      "Requirement already satisfied: scipy>=1.2 in /srv/conda/lib/python3.11/site-packages (from iapws) (1.14.1)\n",
      "Requirement already satisfied: numpy<2.3,>=1.23.5 in /srv/conda/lib/python3.11/site-packages (from scipy>=1.2->iapws) (2.2.2)\n",
      "Installing collected packages: iapws\n",
      "Successfully installed iapws-1.5.4\n"
     ]
    }
   ],
   "source": [
    "!pip install iapws"
   ]
  },
  {
   "cell_type": "code",
   "execution_count": 8,
   "id": "90798d2b-cc8b-4e11-8dc6-72eec6a82a6a",
   "metadata": {},
   "outputs": [],
   "source": [
    "from iapws import IAPWS97"
   ]
  },
  {
   "cell_type": "markdown",
   "id": "2e8dad87-de28-40b2-866e-e8fc7eb37bfc",
   "metadata": {},
   "source": [
    "You are told to design a concentrated solar power plant with a capacity of 10 MW. During daytime, the direct normal irradiance is 800 to 1000 W/m$^2$. The plant consists of the following components:\n",
    "\n",
    "- parabolic trough mirrors, arranged in rows to track the sun along a single axis. The mirrors have a motorized tracking system to maintain optimal orientation with the sun during daytime. The optical concentration is 70. \n",
    "- receiver tubes, which are positioned at the focal line of the troughs to absorb concentrated sunlight heating the heat transfer fluid. The fluid is a thermal oil, and the inlet and outlet temperatures are 200$^\\circ$C and 400$^\\circ$C, respectively.\n",
    "\n",
    "The heat transfer fluid is pumped through a boiler, which heated water to generate high-pressure steam. This steam drives a turbine, which is connected to a generator, that produces electricity. The steam that exits the turbine then enters a condenser, which is at a pressure of 75 kPa, and is cooled using water. A pump recirculates the condensed water back to the boiler. \n",
    "\n",
    "- The boiler produces steam with a temperature of 350 $^\\circ$C and 100 bar.\n",
    "- For this simple analysis, we will not consider a thermal storage system.\n",
    "\n",
    "Please answer the following questions:\n",
    "- (a) What is the mass flow rate of the heat transfer fluid?\n",
    "- (b) What is the thermal efficiency of the power plant? Assume that the cycle is an ideal Rankine cycle.\n",
    "\n",
    "Bonus:\n",
    "- What is the approximate land area required to install the parabolic trough mirrors?"
   ]
  },
  {
   "cell_type": "markdown",
   "id": "c9c7fd76-39a6-4a18-ad9f-8400c9e4ed89",
   "metadata": {},
   "source": [
    "#### Part (a)\n",
    "\n",
    "The optical concentration is 70:\n",
    "\n",
    "$$C_\\text{opt} = \\frac{\\text{Average flux over the receiver}}{\\text{Flux over the aperture (insolation)}} $$\n",
    "\n"
   ]
  },
  {
   "cell_type": "markdown",
   "id": "46d5c2fc-8fca-4593-b12a-3207316062b3",
   "metadata": {},
   "source": [
    "We are told that the insolation ranges from 800 to 1000 W/m$^{2}$. Let us take an average value of $P_\\text{in}=$900 W/m$^{2}$. With this we can determine the average flux over the receiver as $C_\\text{opt} P_\\text{in} = 900*70 = 63000$ W/m$^{2}$ ."
   ]
  },
  {
   "cell_type": "code",
   "execution_count": 12,
   "id": "f8416204-6917-45ea-9835-4c4846a0d74c",
   "metadata": {},
   "outputs": [],
   "source": [
    "Qin_WperM2 = 63000"
   ]
  },
  {
   "cell_type": "markdown",
   "id": "3d18c7b7-e8ca-4d33-9787-7a0a67289e9c",
   "metadata": {},
   "source": [
    "We can estimate the necessary heat required to produce 10 MW of power by assuming an initial value of thermal efficiency. Here we assume 35\\%."
   ]
  },
  {
   "cell_type": "code",
   "execution_count": 13,
   "id": "79830440-ebf1-4ef4-9887-364b47fb3769",
   "metadata": {},
   "outputs": [
    {
     "name": "stdout",
     "output_type": "stream",
     "text": [
      "453.514739229025\n"
     ]
    }
   ],
   "source": [
    "eta_guess = 0.35\n",
    "Wout_MW = 10\n",
    "Wout_W = Wout_MW*1e6\n",
    "\n",
    "Qin_W = Wout_W/eta_guess\n",
    "Areceiver_m2 = Qin_W/Qin_WperM2; print(Areceiver_m2)"
   ]
  },
  {
   "cell_type": "markdown",
   "id": "a81c3150-6e42-42e1-9f18-37558e114f19",
   "metadata": {},
   "source": [
    "For the heat transfer fluid, we would like to use one that is stable in the temperature range mentioned above. One option is silicone fluids, e.g., DOW Syltherm. The properties for this can be determined using [CoolProp](http://www.coolprop.org/fluid_properties/Incompressibles.html)."
   ]
  },
  {
   "cell_type": "code",
   "execution_count": 29,
   "id": "8b05527d-4888-4cb3-8074-5800842117c7",
   "metadata": {},
   "outputs": [
    {
     "name": "stdout",
     "output_type": "stream",
     "text": [
      "(a) The mass flow rate of the heat transfer fluid is: 94.61 kg/s.\n"
     ]
    }
   ],
   "source": [
    "# name for syltherm on CoolProp; this fluid is not installed as a default fluid though\n",
    "# fluid_htf = 'S800'\n",
    "\n",
    "T5_C = 200 # inlet temperature\n",
    "T6_C = 400 # outlet temperature\n",
    "\n",
    "# we assume that the heat transfer fluid is incompressible. \n",
    "# Therefore, assuming the fluid is a silicone oil, we can use its specific heat:\n",
    "cp_JperKgPerK = 1510\n",
    "\n",
    "q56_JperKg = cp_JperKgPerK*(T6_C - T5_C)#; print(q12_JperKg)\n",
    "\n",
    "mdot56_kgPerS = Qin_W/q56_JperKg\n",
    "\n",
    "print('(a) The mass flow rate of the heat transfer fluid is: {0:1.2f} kg/s.'.format(mdot56_kgPerS))"
   ]
  },
  {
   "cell_type": "markdown",
   "id": "f9fa3694-cca5-467f-a062-0c0a3f55d97f",
   "metadata": {},
   "source": [
    "#### Part (b)\n",
    "\n",
    "At steady state, and assuming no thermal storage, the heat transferred into the heat transfer fluid must be transferred out to the boiler. "
   ]
  },
  {
   "cell_type": "code",
   "execution_count": 44,
   "id": "689efe63-04a3-4f58-8b71-4eec2f58ba5f",
   "metadata": {},
   "outputs": [],
   "source": [
    "Q23_W = Qin_W"
   ]
  },
  {
   "cell_type": "code",
   "execution_count": 49,
   "id": "e66a18ca-cb52-4fa5-8d2d-8b411ba1fa69",
   "metadata": {},
   "outputs": [],
   "source": [
    "# State 3\n",
    "T3_C = 350\n",
    "T3_K = T3_C+273.15\n",
    "p3_bar = 100\n",
    "p3_MPa = p2_bar/10\n",
    "\n",
    "state3 = IAPWS97(P=p3_MPa, T=T3_K)\n",
    "\n",
    "# You can use \"dot\" notation to determine properties like specific enthalpy or specific entropy\n",
    "h3_kJperKg = state3.h\n",
    "s3_kJperKgperK = state3.s"
   ]
  },
  {
   "cell_type": "code",
   "execution_count": 57,
   "id": "84c5da4e-fe4c-4801-9104-3852b66a1a97",
   "metadata": {},
   "outputs": [
    {
     "name": "stdout",
     "output_type": "stream",
     "text": [
      "0.758139322565561\n"
     ]
    }
   ],
   "source": [
    "# State 4\n",
    "\n",
    "# given above\n",
    "p4_kPa = 75\n",
    "p4_MPa = p4_kPa/1000\n",
    "\n",
    "# assume isentropic turbine:\n",
    "s4_kJperKgperK = s3_kJperKgperK\n",
    "state4 = IAPWS97(P=p4_MPa, s=s4_kJperKgperK)\n",
    "\n",
    "T4_K = state4.T\n",
    "quality_4 = state4.x; print(quality_4)"
   ]
  },
  {
   "cell_type": "code",
   "execution_count": 53,
   "id": "c94fcda0-9706-4dab-9621-ea91e09abc09",
   "metadata": {},
   "outputs": [],
   "source": [
    "# State 1\n",
    "# for a heat exchanger, there is no pressure drop across it. Therefore:\n",
    "p1_MPa = p4_MPa\n",
    "\n",
    "# the water is condensed. Therefore, the quality is zero\n",
    "quality_1 = 0\n",
    "state1 = IAPWS97(P=p1_MPa, x=quality_1)\n",
    "\n",
    "s1_kJperKgperK = state1.s\n",
    "h1_kJperKg = state1.h\n",
    "T1_K = state1.T"
   ]
  },
  {
   "cell_type": "code",
   "execution_count": 51,
   "id": "45e558e9-3ad9-4f74-ae83-1a15005dac61",
   "metadata": {},
   "outputs": [],
   "source": [
    "# State 2\n",
    "# for a heat exchanger, there is no pressure drop across it. Therefore:\n",
    "p2_MPa = p3_MPa\n",
    "\n",
    "# assume that the pump is isentropic\n",
    "s2_kJperKgperK = s1_kJperKgperK\n",
    "\n",
    "state2 = IAPWS97(P=p2_MPa, s=s2_kJperKgperK)\n",
    "\n",
    "T2_K = state2.T"
   ]
  },
  {
   "cell_type": "code",
   "execution_count": 45,
   "id": "bb1e113f-d50f-4ecd-880a-f6089b958473",
   "metadata": {},
   "outputs": [
    {
     "name": "stdout",
     "output_type": "stream",
     "text": [
      "2529.319741807688\n",
      "11.296092027893938\n"
     ]
    }
   ],
   "source": [
    "q23_kJperKg = state3.h - state2.h; print(q23_kJperKg)\n",
    "Q23_kW = Q23_W/1000\n",
    "\n",
    "mdot_kgPerS = Q23_kW / q23_kJperKg; print(mdot_kgPerS)"
   ]
  },
  {
   "cell_type": "code",
   "execution_count": 46,
   "id": "2f47546b-af43-4f2d-824b-33f0f2434553",
   "metadata": {},
   "outputs": [
    {
     "name": "stdout",
     "output_type": "stream",
     "text": [
      "9178.482895470106\n"
     ]
    }
   ],
   "source": [
    "W34_kW = mdot_kgPerS*(state3.h - state4.h); print(W34_kW)"
   ]
  },
  {
   "cell_type": "code",
   "execution_count": 48,
   "id": "37b88ba3-8717-430d-8c1a-145b9fcf2d09",
   "metadata": {},
   "outputs": [
    {
     "name": "stdout",
     "output_type": "stream",
     "text": [
      "(b) The thermal efficiency of the power plant is: 32.12 %.\n"
     ]
    }
   ],
   "source": [
    "eta_th = W34_kW/Q23_kW\n",
    "\n",
    "print('(b) The thermal efficiency of the power plant is: {0:1.2f} %.'.format(eta_th*100))"
   ]
  },
  {
   "cell_type": "code",
   "execution_count": 50,
   "id": "ffeb6353-8649-4972-8f9c-4044d0727b52",
   "metadata": {},
   "outputs": [],
   "source": [
    "import numpy as np\n",
    "import matplotlib.pyplot as plt"
   ]
  },
  {
   "cell_type": "code",
   "execution_count": 62,
   "id": "9081c3c8-c7ad-403f-865e-118cb017cb81",
   "metadata": {},
   "outputs": [
    {
     "data": {
      "image/png": "[encoded data removed]",
      "text/plain": [
       "<Figure size 640x480 with 1 Axes>"
      ]
     },
     "metadata": {},
     "output_type": "display_data"
    }
   ],
   "source": [
    "linewidth = 3\n",
    "\n",
    "plt.figure()\n",
    "plt.clf()\n",
    "T = np.linspace(300, 372+273, 200) # range of temperatures\n",
    "for P in [p3_MPa, p4_MPa]: #MPa\n",
    "    steam = [IAPWS97(T=t, P=P) for t in T]\n",
    "    S = [s.s for s in steam]\n",
    "    plt.plot(S, T, 'k-')\n",
    "\n",
    "# saturated vapor and liquid entropy lines\n",
    "svap = [s.s for s in [IAPWS97(T=t, x=1) for t in T]]\n",
    "sliq = [s.s for s in [IAPWS97(T=t, x=0) for t in T]]\n",
    "\n",
    "plt.plot(svap, T, 'b-')\n",
    "plt.plot(sliq, T, 'b-')\n",
    "\n",
    "# plt.yscale('log')\n",
    "\n",
    "plt.xlabel('s (kJ/(kg K))')\n",
    "plt.ylabel('T (K)')\n",
    "\n",
    "T23 = np.linspace(T2_K, T3_K,200)\n",
    "S23 = [s.s for s in [IAPWS97(P=p2_MPa, T=t) for t in T23]]\n",
    "\n",
    "# process 4 to 1. isobaric. \n",
    "T41 = np.linspace(T4_K, T1_K, 200) \n",
    "x41 = np.linspace(quality_4, quality_1, 200) \n",
    "S41 = [s.s for s in [IAPWS97(P=p1_MPa, x=t) for t in x41]]\n",
    "\n",
    "plt.plot([state1.s, state2.s], [T1_K, T2_K], 'g--', lw=linewidth) # Path 1 to 2\n",
    "plt.plot(S23, T23, 'g--', lw=linewidth) # path from 2 to 3 is isobaric\n",
    "plt.plot([state3.s, state4.s], [T3_K, T4_K], 'g--', lw=linewidth) # path from 3 to 4 is isentropic\n",
    "plt.plot(S41, T41, 'g--', lw=linewidth) # and from 4 to 1 is isobaric\n",
    "\n",
    "plt.savefig('rankineCycle-T-s-diagram.png')"
   ]
  },
  {
   "cell_type": "code",
   "execution_count": null,
   "id": "11c94f62-523e-4988-81b5-ed3b2d042b97",
   "metadata": {},
   "outputs": [],
   "source": []
  }
 ],
 "metadata": {
  "kernelspec": {
   "display_name": "Python 3 (ipykernel)",
   "language": "python",
   "name": "python3"
  },
  "language_info": {
   "codemirror_mode": {
    "name": "ipython",
    "version": 3
   },
   "file_extension": ".py",
   "mimetype": "text/x-python",
   "name": "python",
   "nbconvert_exporter": "python",
   "pygments_lexer": "ipython3",
   "version": "3.11.11"
  }
 },
 "nbformat": 4,
 "nbformat_minor": 5
}
