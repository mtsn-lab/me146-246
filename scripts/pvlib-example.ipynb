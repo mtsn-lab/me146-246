{
 "cells": [
  {
   "cell_type": "code",
   "execution_count": 1,
   "id": "3d93e5ad-8df4-4b84-963a-c8f58baa7a44",
   "metadata": {},
   "outputs": [
    {
     "name": "stdout",
     "output_type": "stream",
     "text": [
      "Collecting pvlib\n",
      "  Downloading pvlib-0.12.0-py3-none-any.whl.metadata (2.9 kB)\n",
      "Requirement already satisfied: numpy>=1.19.3 in /srv/conda/lib/python3.11/site-packages (from pvlib) (2.2.3)\n",
      "Requirement already satisfied: pandas>=1.3.0 in /srv/conda/lib/python3.11/site-packages (from pvlib) (2.2.3)\n",
      "Requirement already satisfied: pytz in /srv/conda/lib/python3.11/site-packages (from pvlib) (2024.1)\n",
      "Requirement already satisfied: requests in /srv/conda/lib/python3.11/site-packages (from pvlib) (2.32.3)\n",
      "Requirement already satisfied: scipy>=1.6.0 in /srv/conda/lib/python3.11/site-packages (from pvlib) (1.14.1)\n",
      "Collecting h5py (from pvlib)\n",
      "  Downloading h5py-3.13.0-cp311-cp311-manylinux_2_17_x86_64.manylinux2014_x86_64.whl.metadata (2.5 kB)\n",
      "Requirement already satisfied: python-dateutil>=2.8.2 in /srv/conda/lib/python3.11/site-packages (from pandas>=1.3.0->pvlib) (2.9.0.post0)\n",
      "Requirement already satisfied: tzdata>=2022.7 in /srv/conda/lib/python3.11/site-packages (from pandas>=1.3.0->pvlib) (2025.1)\n",
      "Requirement already satisfied: charset_normalizer<4,>=2 in /srv/conda/lib/python3.11/site-packages (from requests->pvlib) (3.4.0)\n",
      "Requirement already satisfied: idna<4,>=2.5 in /srv/conda/lib/python3.11/site-packages (from requests->pvlib) (3.10)\n",
      "Requirement already satisfied: urllib3<3,>=1.21.1 in /srv/conda/lib/python3.11/site-packages (from requests->pvlib) (2.3.0)\n",
      "Requirement already satisfied: certifi>=2017.4.17 in /srv/conda/lib/python3.11/site-packages (from requests->pvlib) (2025.1.31)\n",
      "Requirement already satisfied: six>=1.5 in /srv/conda/lib/python3.11/site-packages (from python-dateutil>=2.8.2->pandas>=1.3.0->pvlib) (1.17.0)\n",
      "Downloading pvlib-0.12.0-py3-none-any.whl (19.3 MB)\n",
      "\u001b[2K   \u001b[90m━━━━━━━━━━━━━━━━━━━━━━━━━━━━━━━━━━━━━━━━\u001b[0m \u001b[32m19.3/19.3 MB\u001b[0m \u001b[31m74.7 MB/s\u001b[0m eta \u001b[36m0:00:00\u001b[0m:00:01\u001b[0m\n",
      "\u001b[?25hDownloading h5py-3.13.0-cp311-cp311-manylinux_2_17_x86_64.manylinux2014_x86_64.whl (4.5 MB)\n",
      "\u001b[2K   \u001b[90m━━━━━━━━━━━━━━━━━━━━━━━━━━━━━━━━━━━━━━━━\u001b[0m \u001b[32m4.5/4.5 MB\u001b[0m \u001b[31m50.4 MB/s\u001b[0m eta \u001b[36m0:00:00\u001b[0m\n",
      "Installing collected packages: h5py, pvlib\n",
      "Successfully installed h5py-3.13.0 pvlib-0.12.0\n"
     ]
    }
   ],
   "source": [
    "!pip install pvlib"
   ]
  },
  {
   "cell_type": "code",
   "execution_count": 2,
   "id": "775b0f5a-649b-48be-a3b7-0ebaffef9aa5",
   "metadata": {},
   "outputs": [],
   "source": [
    "import pvlib\n",
    "\n",
    "import pandas as pd\n",
    "\n",
    "import matplotlib.pyplot as plt\n",
    "\n",
    "\n",
    "coordinates = [\n",
    "    (32.2, -111.0, 'Tucson', 700, 'Etc/GMT+7'),\n",
    "    (35.1, -106.6, 'Albuquerque', 1500, 'Etc/GMT+7'),\n",
    "    (37.8, -122.4, 'San Francisco', 10, 'Etc/GMT+8'),\n",
    "    (52.5, 13.4, 'Berlin', 34, 'Etc/GMT-1'),\n",
    "]\n"
   ]
  },
  {
   "cell_type": "code",
   "execution_count": 3,
   "id": "2badbe6b-9730-422a-9178-51f42b3af9e3",
   "metadata": {},
   "outputs": [],
   "source": [
    "sandia_modules = pvlib.pvsystem.retrieve_sam('SandiaMod')\n",
    "\n",
    "sapm_inverters = pvlib.pvsystem.retrieve_sam('cecinverter')\n",
    "\n",
    "module = sandia_modules['Canadian_Solar_CS5P_220M___2009_']\n",
    "\n",
    "inverter = sapm_inverters['ABB__MICRO_0_25_I_OUTD_US_208__208V_']\n",
    "\n",
    "temperature_model_parameters = pvlib.temperature.TEMPERATURE_MODEL_PARAMETERS['sapm']['open_rack_glass_glass']"
   ]
  },
  {
   "cell_type": "code",
   "execution_count": 4,
   "id": "07add77e-7866-4cac-bd00-51c2c85afbe7",
   "metadata": {},
   "outputs": [],
   "source": [
    "tmys = []\n",
    "\n",
    "for location in coordinates:\n",
    "    latitude, longitude, name, altitude, timezone = location\n",
    "    weather = pvlib.iotools.get_pvgis_tmy(latitude, longitude)[0]\n",
    "    weather.index.name = \"utc_time\"\n",
    "    tmys.append(weather)"
   ]
  },
  {
   "cell_type": "code",
   "execution_count": 5,
   "id": "fecd6bc6-eb82-4bb6-a794-fafe37708a63",
   "metadata": {},
   "outputs": [
    {
     "name": "stdout",
     "output_type": "stream",
     "text": [
      "Tucson           445963.756390\n",
      "Albuquerque      456909.792159\n",
      "San Francisco    418052.825600\n",
      "Berlin           251239.467074\n",
      "dtype: float64\n"
     ]
    },
    {
     "data": {
      "text/plain": [
       "Text(0, 0.5, 'Yearly energy yield (W hr)')"
      ]
     },
     "execution_count": 5,
     "metadata": {},
     "output_type": "execute_result"
    },
    {
     "data": {
      "image/png": "[encoded data removed]",
      "text/plain": [
       "<Figure size 640x480 with 1 Axes>"
      ]
     },
     "metadata": {},
     "output_type": "display_data"
    }
   ],
   "source": [
    "system = {'module': module, 'inverter': inverter,\n",
    "          'surface_azimuth': 180}\n",
    "\n",
    "\n",
    "energies = {}\n",
    "\n",
    "for location, weather in zip(coordinates, tmys):\n",
    "    latitude, longitude, name, altitude, timezone = location\n",
    "    system['surface_tilt'] = latitude\n",
    "    solpos = pvlib.solarposition.get_solarposition(\n",
    "        time=weather.index,\n",
    "        latitude=latitude,\n",
    "        longitude=longitude,\n",
    "        altitude=altitude,\n",
    "        temperature=weather[\"temp_air\"],\n",
    "        pressure=weather[\"pressure\"],\n",
    "    )\n",
    "    dni_extra = pvlib.irradiance.get_extra_radiation(weather.index)\n",
    "    airmass = pvlib.atmosphere.get_relative_airmass(solpos['apparent_zenith'])\n",
    "    pressure = pvlib.atmosphere.alt2pres(altitude)\n",
    "    am_abs = pvlib.atmosphere.get_absolute_airmass(airmass, pressure)\n",
    "    aoi = pvlib.irradiance.aoi(\n",
    "        system['surface_tilt'],\n",
    "        system['surface_azimuth'],\n",
    "        solpos[\"apparent_zenith\"],\n",
    "        solpos[\"azimuth\"],\n",
    "    )\n",
    "    total_irradiance = pvlib.irradiance.get_total_irradiance(\n",
    "        system['surface_tilt'],\n",
    "        system['surface_azimuth'],\n",
    "        solpos['apparent_zenith'],\n",
    "        solpos['azimuth'],\n",
    "        weather['dni'],\n",
    "        weather['ghi'],\n",
    "        weather['dhi'],\n",
    "        dni_extra=dni_extra,\n",
    "        model='haydavies',\n",
    "    )\n",
    "    cell_temperature = pvlib.temperature.sapm_cell(\n",
    "        total_irradiance['poa_global'],\n",
    "        weather[\"temp_air\"],\n",
    "        weather[\"wind_speed\"],\n",
    "        **temperature_model_parameters,\n",
    "    )\n",
    "    effective_irradiance = pvlib.pvsystem.sapm_effective_irradiance(\n",
    "        total_irradiance['poa_direct'],\n",
    "        total_irradiance['poa_diffuse'],\n",
    "        am_abs,\n",
    "        aoi,\n",
    "        module,\n",
    "    )\n",
    "    dc = pvlib.pvsystem.sapm(effective_irradiance, cell_temperature, module)\n",
    "    ac = pvlib.inverter.sandia(dc['v_mp'], dc['p_mp'], inverter)\n",
    "    annual_energy = ac.sum()\n",
    "    energies[name] = annual_energy\n",
    "\n",
    "\n",
    "energies = pd.Series(energies)\n",
    "\n",
    "\n",
    "print(energies)\n",
    "\n",
    "\n",
    "\n",
    "\n",
    "\n",
    "\n",
    "energies.plot(kind='bar', rot=0)\n",
    "\n",
    "\n",
    "plt.ylabel('Yearly energy yield (W hr)')"
   ]
  },
  {
   "cell_type": "code",
   "execution_count": 6,
   "id": "14dc8a9a-bef9-4791-9e9e-724b1e1a711e",
   "metadata": {},
   "outputs": [
    {
     "name": "stdout",
     "output_type": "stream",
     "text": [
      "Tucson           446738.901001\n",
      "Albuquerque      458892.166379\n",
      "San Francisco    417077.163314\n",
      "Berlin           249043.142066\n",
      "dtype: float64\n"
     ]
    },
    {
     "data": {
      "text/plain": [
       "Text(0, 0.5, 'Yearly energy yield (W hr)')"
      ]
     },
     "execution_count": 6,
     "metadata": {},
     "output_type": "execute_result"
    },
    {
     "data": {
      "image/png": "[encoded data removed]",
      "text/plain": [
       "<Figure size 640x480 with 1 Axes>"
      ]
     },
     "metadata": {},
     "output_type": "display_data"
    }
   ],
   "source": [
    "from pvlib.pvsystem import PVSystem, Array, FixedMount\n",
    "\n",
    "from pvlib.location import Location\n",
    "\n",
    "from pvlib.modelchain import ModelChain\n",
    "\n",
    "energies = {}\n",
    "\n",
    "for location, weather in zip(coordinates, tmys):\n",
    "    latitude, longitude, name, altitude, timezone = location\n",
    "    location = Location(\n",
    "        latitude,\n",
    "        longitude,\n",
    "        name=name,\n",
    "        altitude=altitude,\n",
    "        tz=timezone,\n",
    "    )\n",
    "    mount = FixedMount(surface_tilt=latitude, surface_azimuth=180)\n",
    "    array = Array(\n",
    "        mount=mount,\n",
    "        module_parameters=module,\n",
    "        temperature_model_parameters=temperature_model_parameters,\n",
    "    )\n",
    "    system = PVSystem(arrays=[array], inverter_parameters=inverter)\n",
    "    mc = ModelChain(system, location)\n",
    "    mc.run_model(weather)\n",
    "    annual_energy = mc.results.ac.sum()\n",
    "    energies[name] = annual_energy\n",
    "\n",
    "\n",
    "energies = pd.Series(energies)\n",
    "\n",
    "\n",
    "print(energies)\n",
    "\n",
    "\n",
    "\n",
    "\n",
    "\n",
    "\n",
    "energies.plot(kind='bar', rot=0)\n",
    "\n",
    "\n",
    "plt.ylabel('Yearly energy yield (W hr)')"
   ]
  },
  {
   "cell_type": "code",
   "execution_count": null,
   "id": "f7266d05-1108-499e-a7ce-4037665eb1d6",
   "metadata": {},
   "outputs": [],
   "source": []
  }
 ],
 "metadata": {
  "kernelspec": {
   "display_name": "Python 3 (ipykernel)",
   "language": "python",
   "name": "python3"
  },
  "language_info": {
   "codemirror_mode": {
    "name": "ipython",
    "version": 3
   },
   "file_extension": ".py",
   "mimetype": "text/x-python",
   "name": "python",
   "nbconvert_exporter": "python",
   "pygments_lexer": "ipython3",
   "version": "3.11.11"
  }
 },
 "nbformat": 4,
 "nbformat_minor": 5
}
