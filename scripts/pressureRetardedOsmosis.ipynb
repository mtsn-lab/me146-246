{
 "cells": [
  {
   "cell_type": "markdown",
   "id": "3e84bb36-62b7-43cb-bf2b-aa3983a4c536",
   "metadata": {},
   "source": [
    "<img src=\"figure.png\" alt=\"fishy\" class=\"bg-primary\" width=\"800px\">"
   ]
  },
  {
   "cell_type": "code",
   "execution_count": 26,
   "id": "108d215d-faa7-478d-acda-fccc8b35ea8f",
   "metadata": {},
   "outputs": [
    {
     "name": "stdout",
     "output_type": "stream",
     "text": [
      "18.44415960194617\n"
     ]
    }
   ],
   "source": [
    "fs = 0.0348 # mass fraction salt\n",
    "fw = 1 - fs # mass fraction water\n",
    "\n",
    "Ms_kgPerKmol = 58.44\n",
    "Mw_kgPerKmol = 18\n",
    "\n",
    "M_mixture_kgPerKmol = 1/((fs/Ms_kgPerKmol) + (fw/Mw_kgPerKmol)); print(M_mixture_kgPerKmol)"
   ]
  },
  {
   "cell_type": "markdown",
   "id": "09946ce9-7d89-47d6-ac52-659a0d421724",
   "metadata": {},
   "source": [
    "$$\\text{mf}_i = y_i \\frac{M_i}{M_m} $$\n",
    "\n",
    "where $M_m$ is the molar mass of the mixture and $i$ is the \"i-th\" component. We can write the mole fraction as:\n",
    "\n",
    "$$y_i = \\text{mf}_i\\frac{M_m}{M_i}  $$"
   ]
  },
  {
   "cell_type": "code",
   "execution_count": 32,
   "id": "e21b325f-73c7-4034-88c7-dfba026b9238",
   "metadata": {},
   "outputs": [
    {
     "name": "stdout",
     "output_type": "stream",
     "text": [
      "0.9890168248776914\n",
      "0.01098317512230862\n"
     ]
    }
   ],
   "source": [
    "yw = fw*(M_mixture_kgPerKmol/Mw_kgPerKmol); print(yw)\n",
    "ys = 1 - yw; print(ys)"
   ]
  },
  {
   "cell_type": "code",
   "execution_count": 34,
   "id": "b86d8d67-cf46-490b-ae02-661671be608a",
   "metadata": {},
   "outputs": [
    {
     "name": "stdout",
     "output_type": "stream",
     "text": [
      "288.15\n"
     ]
    }
   ],
   "source": [
    "Ru_kJperKmolPerK = 8.314\n",
    "T0_K = 273.15+15; print(T0_K)"
   ]
  },
  {
   "cell_type": "code",
   "execution_count": 29,
   "id": "fccf8e1e-d077-4642-ae8e-20a6df9e3560",
   "metadata": {},
   "outputs": [],
   "source": [
    "import math"
   ]
  },
  {
   "cell_type": "code",
   "execution_count": 42,
   "id": "7c767eaf-4f99-4b19-88a8-48da2efa6414",
   "metadata": {},
   "outputs": [
    {
     "name": "stdout",
     "output_type": "stream",
     "text": [
      "26.457725445510874\n",
      "1.4698736358617153\n"
     ]
    }
   ],
   "source": [
    "wMinIn_kJperKmol_ = Ru_kJperKmolPerK*T0_K*(math.log(1/yw)); print(wMinIn_kJperKmol_)\n",
    "wMinIn_kJperKg = wMinIn_kJperKmol_/Mw_kgPerKmol; print(wMinIn_kJperKg)"
   ]
  },
  {
   "cell_type": "code",
   "execution_count": 43,
   "id": "0b6a7467-5d04-4f62-b7d7-cabeaf3bcf55",
   "metadata": {},
   "outputs": [
    {
     "name": "stdout",
     "output_type": "stream",
     "text": [
      "15.110300976658433\n"
     ]
    }
   ],
   "source": [
    "rho_s_kgPerM3 = 1028\n",
    "dp_Min_Pa = 1000*wMinIn_kJperKg*rho_s_kgPerM3\n",
    "dp_Min_Bar = dp_Min_Pa/1e5; print(dp_Min_Bar)"
   ]
  },
  {
   "cell_type": "code",
   "execution_count": 44,
   "id": "4e51a6c8-d2f3-4250-a12a-6677ec7b2ee7",
   "metadata": {},
   "outputs": [
    {
     "name": "stdout",
     "output_type": "stream",
     "text": [
      "0.4618888888888889\n"
     ]
    }
   ],
   "source": [
    "Rw_kJperKgPerK = Ru_kJperKmolPerK/Mw_kgPerKmol; print(Rw_kJperKgPerK)"
   ]
  },
  {
   "cell_type": "code",
   "execution_count": null,
   "id": "a11f29b5-fa5a-4179-9108-a9932d0b7c5d",
   "metadata": {},
   "outputs": [],
   "source": []
  }
 ],
 "metadata": {
  "kernelspec": {
   "display_name": "Python 3 (ipykernel)",
   "language": "python",
   "name": "python3"
  },
  "language_info": {
   "codemirror_mode": {
    "name": "ipython",
    "version": 3
   },
   "file_extension": ".py",
   "mimetype": "text/x-python",
   "name": "python",
   "nbconvert_exporter": "python",
   "pygments_lexer": "ipython3",
   "version": "3.11.11"
  }
 },
 "nbformat": 4,
 "nbformat_minor": 5
}
