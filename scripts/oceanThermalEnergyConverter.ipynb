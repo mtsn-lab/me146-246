{
 "cells": [
  {
   "cell_type": "code",
   "execution_count": 98,
   "id": "069ceb96-df09-4992-87f3-9aca37b8e554",
   "metadata": {},
   "outputs": [
    {
     "name": "stdout",
     "output_type": "stream",
     "text": [
      "Requirement already satisfied: CoolProp in /srv/conda/lib/python3.11/site-packages (6.7.0)\n"
     ]
    }
   ],
   "source": [
    "!pip install CoolProp"
   ]
  },
  {
   "cell_type": "code",
   "execution_count": 99,
   "id": "9dcc5971-dfe1-4250-a888-e5fb786a51c3",
   "metadata": {},
   "outputs": [],
   "source": [
    "from CoolProp.CoolProp import PropsSI"
   ]
  },
  {
   "cell_type": "markdown",
   "id": "9c04144e-6685-4f65-ad21-fa4a6cb5aab9",
   "metadata": {},
   "source": [
    "Design an ocean thermal energy conversion (OTEC) system. The high and low temperatures are $T_H$ and $T_C$, respectively. Optimize for minimum cost."
   ]
  },
  {
   "cell_type": "code",
   "execution_count": 100,
   "id": "a9bae6df-0f52-417e-ad09-fea91758901f",
   "metadata": {},
   "outputs": [],
   "source": [
    "fluid1 = 'water'\n",
    "fluid2 = 'ammonia'"
   ]
  },
  {
   "cell_type": "code",
   "execution_count": 101,
   "id": "7c6fc6a4-5663-41fd-8d63-38704e5e1349",
   "metadata": {},
   "outputs": [],
   "source": [
    "TH_C = 26.53\n",
    "TC_C = 8.07\n",
    "\n",
    "p0_Pa = 101325"
   ]
  },
  {
   "cell_type": "code",
   "execution_count": 102,
   "id": "0674a406-4acb-480a-9ca2-7fa6fc880fe8",
   "metadata": {},
   "outputs": [],
   "source": [
    "T1_K = TH_C+273.15 # warm water inlet\n",
    "T2_K = 25.17+273.15 # warm water outlet\n",
    "\n",
    "T3_K = TC_C+273.15 # cold water inlet\n",
    "T4_K = 9.06+273.15 # cold water outlet\n",
    "\n",
    "T5_K = 23.39+273.15 # turbine inlet\n",
    "T6_K = 11.11+273.15 # turbine outlet"
   ]
  },
  {
   "cell_type": "code",
   "execution_count": 103,
   "id": "e3d8e244-a44a-47ac-92a6-2b34e056db3b",
   "metadata": {},
   "outputs": [],
   "source": [
    "V12_m3PerS = 341.6"
   ]
  },
  {
   "cell_type": "code",
   "execution_count": 104,
   "id": "1188ae4b-0da8-4fc4-89a4-40c170b96243",
   "metadata": {},
   "outputs": [],
   "source": [
    "# state 1\n",
    "h1 = PropsSI('H','T',T1_K,'P',p0_Pa,fluid1)\n",
    "s1 = PropsSI('S','T',T1_K,'P',p0_Pa,fluid1)\n",
    "v1 = 1/PropsSI('D','T',T1_K,'P',p0_Pa,fluid1)"
   ]
  },
  {
   "cell_type": "code",
   "execution_count": 105,
   "id": "0af9a2e2-5088-4e29-a9e4-563a044e91ea",
   "metadata": {},
   "outputs": [],
   "source": [
    "# state 2\n",
    "h2 = PropsSI('H','T',T2_K,'P',p0_Pa,fluid1)\n",
    "s2 = PropsSI('S','T',T2_K,'P',p0_Pa,fluid1)\n",
    "v2 = 1/PropsSI('D','T',T2_K,'P',p0_Pa,fluid1)"
   ]
  },
  {
   "cell_type": "code",
   "execution_count": 106,
   "id": "49381543-3301-4a7a-a655-d44d4cfef2cd",
   "metadata": {},
   "outputs": [
    {
     "name": "stdout",
     "output_type": "stream",
     "text": [
      "340453.62379665766\n"
     ]
    }
   ],
   "source": [
    "mdot12_kgPerS = V12_m3PerS/v1; print(mdot12_kgPerS)"
   ]
  },
  {
   "cell_type": "code",
   "execution_count": 107,
   "id": "483295d3-12b0-4335-ac13-17bd7d2a9ffb",
   "metadata": {},
   "outputs": [
    {
     "name": "stdout",
     "output_type": "stream",
     "text": [
      "1935.8676078434546\n"
     ]
    }
   ],
   "source": [
    "Qdot12_W = mdot12_kgPerS*(h1-h2)\n",
    "Qdot12_MW = Qdot12_W/1e6; print(Qdot12_MW)"
   ]
  },
  {
   "cell_type": "code",
   "execution_count": 108,
   "id": "fa0e9975-2f49-4827-8d29-4faea6b75add",
   "metadata": {},
   "outputs": [],
   "source": [
    "# state 5\n",
    "p5_Pa = 0.8*953876\n",
    "p5 = p5_Pa\n",
    "\n",
    "h5 = PropsSI('H','T',T5_K,'P',p5_Pa,fluid2)\n",
    "s5 = PropsSI('S','T',T5_K,'P',p5_Pa,fluid2)\n",
    "v5 = 1/PropsSI('D','T',T5_K,'P',p5_Pa,fluid2)"
   ]
  },
  {
   "cell_type": "code",
   "execution_count": 109,
   "id": "125533a1-785e-47bd-a0f3-d6826fc15679",
   "metadata": {},
   "outputs": [],
   "source": [
    "# state 6\n",
    "s6 = s5\n",
    "\n",
    "h6 = PropsSI('H','T',T6_K,'S',s6,fluid2)\n",
    "p6 = PropsSI('P','T',T6_K,'S',s6,fluid2)\n",
    "v6 = 1/PropsSI('D','T',T6_K,'S',s6,fluid2)"
   ]
  },
  {
   "cell_type": "code",
   "execution_count": 110,
   "id": "4e92bc99-a14b-482b-8baf-f7fd45a14c98",
   "metadata": {},
   "outputs": [
    {
     "name": "stdout",
     "output_type": "stream",
     "text": [
      "283.99165518644486\n"
     ]
    }
   ],
   "source": [
    "# state 7\n",
    "q7 = 0\n",
    "p7 = p6\n",
    "\n",
    "h7 = PropsSI('H','Q',q7,'P',p7,fluid2)\n",
    "s7 = PropsSI('S','Q',q7,'P',p7,fluid2)\n",
    "v7 = 1/PropsSI('D','Q',q7,'P',p7,fluid2)\n",
    "T7 = PropsSI('T','Q',q7,'P',p7,fluid2); print(T7)"
   ]
  },
  {
   "cell_type": "code",
   "execution_count": 111,
   "id": "cf658070-2b38-4a19-9213-c4f004bbfd67",
   "metadata": {},
   "outputs": [
    {
     "name": "stdout",
     "output_type": "stream",
     "text": [
      "284.02081838728117\n"
     ]
    }
   ],
   "source": [
    "# state 8\n",
    "s8 = s7\n",
    "p8 = p5\n",
    "\n",
    "h8 = PropsSI('H','S',s8,'P',p8,fluid2)\n",
    "T8 = PropsSI('T','S',s8,'P',p8,fluid2); print(T8)\n",
    "v8 = 1/PropsSI('D','S',s8,'P',p8,fluid2)"
   ]
  },
  {
   "cell_type": "code",
   "execution_count": 112,
   "id": "e586aeda-9d0f-4998-9c91-d4c12d1a9652",
   "metadata": {},
   "outputs": [
    {
     "name": "stdout",
     "output_type": "stream",
     "text": [
      "1552.6383084678755\n"
     ]
    }
   ],
   "source": [
    "mdot85_kgPerS = Qdot12_W/(h5-h8); print(mdot85_kgPerS)"
   ]
  },
  {
   "cell_type": "code",
   "execution_count": 113,
   "id": "d32c1b94-2755-4c32-9750-f9d1326b17b2",
   "metadata": {},
   "outputs": [
    {
     "name": "stdout",
     "output_type": "stream",
     "text": [
      "1898.609529880202\n"
     ]
    }
   ],
   "source": [
    "Q67_W = mdot85_kgPerS*(h6 - h7)\n",
    "Q67_MW = Q67_W/1e6; print(Q67_MW)"
   ]
  },
  {
   "cell_type": "code",
   "execution_count": 114,
   "id": "46ae8dc0-dced-47be-b0c2-ddba812fccdf",
   "metadata": {},
   "outputs": [
    {
     "name": "stdout",
     "output_type": "stream",
     "text": [
      "0.019246191119834805\n"
     ]
    }
   ],
   "source": [
    "eta = (Qdot12_W-Q67_W)/Qdot12_W; print(eta)"
   ]
  },
  {
   "cell_type": "code",
   "execution_count": 115,
   "id": "2c02eb76-1bbe-4236-b741-f469ac38997d",
   "metadata": {},
   "outputs": [
    {
     "name": "stdout",
     "output_type": "stream",
     "text": [
      "37.58235795077047\n"
     ]
    }
   ],
   "source": [
    "W56_W = mdot85_kgPerS*(h5-h6)\n",
    "W56_MW = W56_W/1e6; print(W56_MW)"
   ]
  },
  {
   "cell_type": "code",
   "execution_count": 116,
   "id": "bc0150df-7531-42a1-8bea-08675aef1008",
   "metadata": {},
   "outputs": [
    {
     "name": "stdout",
     "output_type": "stream",
     "text": [
      "0.3242799875181267\n"
     ]
    }
   ],
   "source": [
    "W78_W = mdot85_kgPerS*(h8-h7)\n",
    "W78_MW = W78_W/1e6; print(W78_MW)"
   ]
  },
  {
   "cell_type": "code",
   "execution_count": 117,
   "id": "49a9edf2-e366-4a7d-8644-8e0fe1ada8d5",
   "metadata": {},
   "outputs": [
    {
     "name": "stdout",
     "output_type": "stream",
     "text": [
      "0.019246191119834707\n"
     ]
    }
   ],
   "source": [
    "eta_ = (W56_W-W78_W)/Qdot12_W; print(eta_)"
   ]
  },
  {
   "cell_type": "code",
   "execution_count": 118,
   "id": "d21ba449-6b3a-4e8e-a346-81801233ade7",
   "metadata": {},
   "outputs": [
    {
     "name": "stdout",
     "output_type": "stream",
     "text": [
      "0.061599038974906484\n"
     ]
    }
   ],
   "source": [
    "eta_carnot = 1 - ((8.07+273.15)/(26.53+273.15)); print(eta_carnot)"
   ]
  },
  {
   "cell_type": "code",
   "execution_count": 119,
   "id": "02ef85da-a174-43be-9424-2833a1b6a893",
   "metadata": {},
   "outputs": [],
   "source": [
    "import numpy as np\n",
    "import matplotlib.pyplot as plt"
   ]
  },
  {
   "cell_type": "code",
   "execution_count": 120,
   "id": "e9f2f801-188c-4cb4-a4d5-2841c820461d",
   "metadata": {},
   "outputs": [
    {
     "data": {
      "text/plain": [
       "[<matplotlib.lines.Line2D at 0x7c42f6760350>]"
      ]
     },
     "execution_count": 120,
     "metadata": {},
     "output_type": "execute_result"
    },
    {
     "data": {
      "image/png": "[encoded data removed]",
      "text/plain": [
       "<Figure size 640x480 with 1 Axes>"
      ]
     },
     "metadata": {},
     "output_type": "display_data"
    }
   ],
   "source": [
    "plt.figure()\n",
    "plt.clf()\n",
    "T2 = np.linspace(260, 400, 500) # range of temperatures\n",
    "for P in [p5_Pa,p6]: #MPa\n",
    "    S = [PropsSI('S','P',P,'T',t,fluid2) for t in T2]\n",
    "    plt.plot(S, T2, 'k--')\n",
    "    \n",
    "# saturated vapor and liquid entropy lines\n",
    "Tsat2 = np.linspace(220, 405, 1000) # range of temperatures\n",
    "svap2 = [PropsSI('S','T',t,'Q',1,fluid2) for t in Tsat2]\n",
    "sliq2 = [PropsSI('S','T',t,'Q',0,fluid2) for t in Tsat2]\n",
    "\n",
    "plt.plot(svap2, Tsat2, 'k-')\n",
    "plt.plot(sliq2, Tsat2, 'k-')\n",
    "\n",
    "plt.xlabel('s (J/(kg K))')\n",
    "plt.ylabel('T (K)')\n",
    "# plt.savefig('carbonDioxideRefrigerationTS.png')\n",
    "\n",
    "plt.plot([s5, s6], [T5_K, T6_K], 'r-', lw=4) # Path 5 to 6\n",
    "\n",
    "S67 = np.linspace(s6, s7)\n",
    "T67 = [PropsSI('T','P',p6,'S',s,fluid2) for s in S67]\n",
    "plt.plot(S67,T67, 'r-', lw=4)\n",
    "\n",
    "plt.plot([s7, s8], [T7, T8], 'r-', lw=4) # path from 7 to 8\n",
    "\n",
    "S85 = np.linspace(s8, s5)\n",
    "T85 = [PropsSI('T','P',p5,'S',s,fluid2) for s in S85]\n",
    "plt.plot(S85,T85, 'r-', lw=4)"
   ]
  }
 ],
 "metadata": {
  "kernelspec": {
   "display_name": "Python 3 (ipykernel)",
   "language": "python",
   "name": "python3"
  },
  "language_info": {
   "codemirror_mode": {
    "name": "ipython",
    "version": 3
   },
   "file_extension": ".py",
   "mimetype": "text/x-python",
   "name": "python",
   "nbconvert_exporter": "python",
   "pygments_lexer": "ipython3",
   "version": "3.11.11"
  }
 },
 "nbformat": 4,
 "nbformat_minor": 5
}
