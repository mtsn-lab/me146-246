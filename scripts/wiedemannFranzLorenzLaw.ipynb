{
 "cells": [
  {
   "cell_type": "markdown",
   "id": "5d110abd-ccdd-4b42-ab0f-0989d888166a",
   "metadata": {},
   "source": [
    "In 1853 it was observed that the ratio of thermal conductivity to electrical conductivity was essentially constant: $$\\lambda / \\sigma $$. Therefore, thermal conductivity could be inferred from electrical conductivity. \n",
    "\n",
    "Consider a one-dimensional gas along which there is a temperature gradient. Consider a point at the origin of the coordinates where there is no mass flow:\n",
    "\n",
    "$$n_1 v_1 + n_2 v_2 = 0 $$\n",
    "\n",
    "The mean free path is $l$. The molecules that cross this point from the left side originate on average from a point at $-l/2$ and their kinetic energy is $U(-l/2$. Those on the right side have an energy $U(l/2)$. Half the molecules move to the left and half to the right. The net energy flux or power density is:\n",
    "\n",
    "$$P = \\frac{n v}{2}\\left[U\\left(-l/2\\right) - U\\left(l/2\\right) \\right] $$\n",
    "\n",
    "$$P = -\\frac{n v}{2}\\frac{\\partial U}{\\partial x}l [=] \\text{W m}^2 $$"
   ]
  },
  {
   "cell_type": "markdown",
   "id": "44a9e3d4-3c98-4d4d-89a3-35b6a52cd654",
   "metadata": {},
   "source": [
    "The energy of each molecule is $(1/2) k_B T$. Therefore: \n",
    "\n",
    "$$P = -\\frac{n v}{2} l k_B \\frac{\\partial T}{\\partial x} = -\\frac{n v}{2} l k_B \\frac{\\partial T}{\\partial x}$$\n",
    "\n",
    "Recall the definition of thermal conductivity:\n",
    "\n",
    "$$\\lambda = (1/2) n k_B v_\\text{ave} l $$\n",
    "\n",
    "$$P = - \\lambda \\frac{\\partial T}{\\partial x}$$"
   ]
  },
  {
   "cell_type": "markdown",
   "id": "fd092daa-ab53-4f3d-9720-db7443ffe8a0",
   "metadata": {},
   "source": [
    "If we assume that electrons are the only conveyers of heat in a metal they are essentially a gas with each elecgtron carrying $(3/2) k_B T$ units of energy. Therefore, $\\lambda$ should be:\n",
    "\n",
    "$$\\lambda = (3/4) n v_\\text{ave} l k_B$$"
   ]
  },
  {
   "cell_type": "markdown",
   "id": "b818510c-723c-4372-95c4-3910e12a671f",
   "metadata": {},
   "source": [
    "Now we can look at electrical conductivity, $\\sigma$:\n",
    "\n",
    "$$\\sigma = q n \\mu $$\n",
    "\n",
    "where $\\mu$ is mobility, which is the velocity a carrier (mobile charge) attains under the influence of a unit of electric field. It is defined as the ratio of the drift velocity to the electric field: \n",
    "\n",
    "$$\\mu = \\frac{v_d}{E}$$. \n",
    "\n",
    "The average drift velocity of an electron is the acceleration, $q E / m$ times the mean free time, $l/v$. Therefore:\n",
    "\n",
    "$$\\mu = \\frac{(q E / m)t}{2 E} = \\frac{(q E / m) (l/v)}{2 E} = \\frac{q l}{2 v m }$$\n",
    "\n",
    "and\n",
    "\n",
    "$$\\sigma = \\frac{q^2 n l}{2 m v} $$. The ratio of $\\lambda/\\sigma$ becomes:\n",
    "\n",
    "$$\\frac{\\lambda}{\\sigma} = \\frac{(3/4) n v_\\text{ave} l k_B}{\\frac{q^2 n l}{2 m v}} $$"
   ]
  },
  {
   "cell_type": "markdown",
   "id": "9687d70a-877b-4a7f-bf15-bfd6719fdc9e",
   "metadata": {},
   "source": [
    "$$\\frac{\\lambda}{\\sigma} = \\frac{3 v_\\text{ave}^2 k_B m}{2 q^2} = \\frac{3 k_B^2 T}{2 q^2}  = L T$$\n",
    "\n",
    "where $L$ is a constant called the Lorenz number. \n",
    "\n"
   ]
  },
  {
   "cell_type": "code",
   "execution_count": null,
   "id": "e6815ee8-29d1-4656-902f-b712b6b9e81a",
   "metadata": {},
   "outputs": [],
   "source": []
  }
 ],
 "metadata": {
  "kernelspec": {
   "display_name": "Python 3 (ipykernel)",
   "language": "python",
   "name": "python3"
  },
  "language_info": {
   "codemirror_mode": {
    "name": "ipython",
    "version": 3
   },
   "file_extension": ".py",
   "mimetype": "text/x-python",
   "name": "python",
   "nbconvert_exporter": "python",
   "pygments_lexer": "ipython3",
   "version": "3.11.11"
  }
 },
 "nbformat": 4,
 "nbformat_minor": 5
}
