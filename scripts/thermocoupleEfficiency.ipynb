{
 "cells": [
  {
   "cell_type": "markdown",
   "id": "95fb8665-1d14-4198-9488-b37b818eb184",
   "metadata": {},
   "source": [
    "A battery of thermocouples delivers 5 kW 24.0 V to a load. The thermocouples were designed to operate at maximum efficiency under the above conditions.\n",
    "    \n",
    "The hot side of the battery is maintained at $T_H$ and the cold side, at $T_C$. \n",
    "    \n",
    "The figure of merit of each individual thermocouple cell is 0.0015 1/K.\n",
    "    \n",
    "What is the efficiency of the system?\n",
    "    "
   ]
  },
  {
   "cell_type": "code",
   "execution_count": 3,
   "id": "9fd31c6c-71b1-42b3-9858-b190873dbfef",
   "metadata": {},
   "outputs": [],
   "source": [
    "import math\n",
    "import numpy as np"
   ]
  },
  {
   "cell_type": "code",
   "execution_count": 4,
   "id": "dca1271f-0d19-4d98-80d6-20fa0afa5b52",
   "metadata": {},
   "outputs": [
    {
     "name": "stdout",
     "output_type": "stream",
     "text": [
      "0.18228916163277353\n"
     ]
    }
   ],
   "source": [
    "V_V = 24\n",
    "P_W = 5000\n",
    "\n",
    "T_h_K = 1000\n",
    "T_c_K = 300\n",
    "Z_perK = 0.0015\n",
    "\n",
    "T_avg_K = 0.5*(1100+400)\n",
    "m = np.sqrt(1+Z_perK*T_avg_K)\n",
    "\n",
    "R_L_Ohms = V_V**2/P_W\n",
    "\n",
    "R_battery = R_L_Ohms/m\n",
    "\n",
    "efficiency = ((T_h_K-T_c_K)/T_h_K)*((m-1)/(m+(T_c_K/T_h_K))); print(efficiency)"
   ]
  },
  {
   "cell_type": "code",
   "execution_count": null,
   "id": "693de653-b584-47ae-963b-73b41e25abd3",
   "metadata": {},
   "outputs": [],
   "source": []
  }
 ],
 "metadata": {
  "kernelspec": {
   "display_name": "Python 3 (ipykernel)",
   "language": "python",
   "name": "python3"
  },
  "language_info": {
   "codemirror_mode": {
    "name": "ipython",
    "version": 3
   },
   "file_extension": ".py",
   "mimetype": "text/x-python",
   "name": "python",
   "nbconvert_exporter": "python",
   "pygments_lexer": "ipython3",
   "version": "3.11.11"
  }
 },
 "nbformat": 4,
 "nbformat_minor": 5
}
