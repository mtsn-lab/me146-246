{
 "cells": [
  {
   "cell_type": "markdown",
   "id": "629f20e7-9a2a-4678-9f2e-380c2a846e6f",
   "metadata": {},
   "source": [
    "# Problem 2\n",
    "\n",
    "## Statement:\n",
    "\n",
    "An electrolytic cell having **100% current efficiency** operates at a voltage of **1.9 V** when the current is **20 kA**. Its operating temperature is **86°C**. The cell is completely heat insulated, so heat can only be removed by the flow of reactants and products and by water flowing through a built-in cooling system. Both the feed water and the cooling water enter the system at **25°C**. The cooling water leaves at **80°C**. The gases leave at **85°C**. Assume that the enthalpy change of the reaction is independent of temperature and is **285.9 kJ per kmol of water**.\n",
    "\n",
    "1. What is the hydrogen production rate in kg/hour?\n",
    "2. What is the feed water consumption rate?\n",
    "3. What is the flow rate of the cooling water?\n",
    "4. A consultant improved the anode catalyst, lowering the operating voltage (still at 20 kA) to **1.475 V**. Cooling water can now be shut off. What is the new operating temperature?\n"
   ]
  },
  {
   "cell_type": "markdown",
   "id": "75d8cdf8-cb36-483f-a7a3-6ca48e854ec1",
   "metadata": {},
   "source": [
    "## Solution:\n",
    "\n",
    "### (1) Hydrogen production rate (kg/hour)\n",
    "\n",
    "**Given:**\n",
    "\n",
    "- **Current:** $ I = 20 \\text{kA} = 20,000 \\text{A} $\n",
    "- **Faraday's Law:**\n",
    "\n",
    "  The electrolysis of water is:\n",
    "  $$ 2H_2O \\rightarrow 2H_2 + O_2 $$\n",
    "\n",
    "  To produce 1 mol of $ H_2 $, we need **2 Faradays** of charge $ (2F \\approx 2 \\times 96485 = 1.93 \\times 10^5 \\text{C}) $.\n",
    "\n",
    "  In 1 second, the charge passed is:\n",
    "  $$ I = 20 kA =2 \\times 10^4 \\text{C/s} $$\n",
    "\n",
    "  Hence, the moles of $ H_2 $ produced per second is:\n",
    "  $$ \\dot{N}_{H_2} = \\frac{I}{2F} = \\frac{2 \\times 10^4}{1.93 \\times 10^5} \\approx 0.103 \\text{mol/s} $$\n",
    "\n",
    "  Over one hour (3600 s):\n",
    "  $$ 0.103 \\times 3600 \\approx 371 \\text{mol/h} $$\n",
    "\n",
    "  Since 1 mol of $ H_2 $ has a mass of **2 g**:\n",
    "  $$ \\dot{m}_{H_2} = 371 \\times 2 = 742 \\text{g/h} = 0.742 \\text{kg/h} $$\n",
    "\n",
    "**Answer:** $ \\mathbf{0.742 \\text{ kg H}_2 / \\text{hour}} $"
   ]
  },
  {
   "cell_type": "code",
   "execution_count": 2,
   "id": "e62591d3-9100-4260-bd8c-7e8cb1bb4eef",
   "metadata": {},
   "outputs": [
    {
     "name": "stdout",
     "output_type": "stream",
     "text": [
      "0.10364305332435093\n"
     ]
    },
    {
     "data": {
      "text/plain": [
       "0.7462299839353267"
      ]
     },
     "execution_count": 2,
     "metadata": {},
     "output_type": "execute_result"
    }
   ],
   "source": [
    "# Import necessary libraries\n",
    "#import numpy as np\n",
    "\n",
    "# Given data\n",
    "V_initial_V = 1.9  # Initial voltage in volts\n",
    "I_A = 20000  # Current in amperes\n",
    "T_cell_C = 86  # Operating temperature in Celsius\n",
    "T_feed_C = 25  # Feed water inlet temperature in Celsius\n",
    "T_cw_in_C = 25  # Cooling water inlet temperature in Celsius\n",
    "T_cw_out_C = 80  # Cooling water outlet temperature in Celsius\n",
    "T_gas_out_C = 85  # Gas outlet temperature in Celsius\n",
    "delta_H_react_kJ_per_kmol = 285.9  # Enthalpy change per kmol H2O\n",
    "cp_kJ_per_kgK = 4.18  # Specific heat capacity of water\n",
    "\n",
    "# Faraday constant\n",
    "F_C_per_mol = 96485  # C/mol\n",
    "\n",
    "# (1) Hydrogen production rate (kg/hour)\n",
    "H2_molar_mass_kg_per_mol = 2 / 1000  # Convert grams to kg\n",
    "\n",
    "# Moles of H2 produced per second\n",
    "Ndot_H2_mol_per_s = I_A / (2 * F_C_per_mol)\n",
    "print(Ndot_H2_mol_per_s)\n",
    "# Convert to kg/hour\n",
    "mdot_H2_kg_per_hour = Ndot_H2_mol_per_s * 3600 * H2_molar_mass_kg_per_mol\n",
    "mdot_H2_kg_per_hour"
   ]
  },
  {
   "cell_type": "markdown",
   "id": "2995572d-6f8d-4d68-9493-a193d0691b39",
   "metadata": {},
   "source": [
    "### (2) Feed water consumption rate\n",
    "\n",
    "From the reaction:\n",
    "$$ 2H_2O \\rightarrow 2H_2 + O_2 $$\n",
    "\n",
    "1 mol of $ H_2 $ corresponds to **1 mol of $ H_2O $**, so:\n",
    "$$ \\dot{N}_{H_2O} = \\dot{N}_{H_2} = 0.103 \\text{ mol/s} $$\n",
    "\n",
    "By mass, water is **18 g/mol**, so:\n",
    "$$ \\dot{m}_{H_2O} = 0.103 \\times 3600 \\times 18 \\approx 6.674 \\text{ kg/h} $$\n",
    "\n",
    "**Answer:** $ \\mathbf{6.716 \\text{ kg/h}} $"
   ]
  },
  {
   "cell_type": "code",
   "execution_count": 3,
   "id": "d8e87907-d23a-43e2-9700-6f5b247fd8bc",
   "metadata": {},
   "outputs": [
    {
     "data": {
      "text/plain": [
       "6.71606985541794"
      ]
     },
     "execution_count": 3,
     "metadata": {},
     "output_type": "execute_result"
    }
   ],
   "source": [
    "# (2) Feed water consumption rate (kg/hour)\n",
    "H2O_molar_mass_kg_per_mol = 18 / 1000  # Convert grams to kg\n",
    "\n",
    "# Water consumption follows H2 production stoichiometry (1:1 molar ratio)\n",
    "mdot_H2O_kg_per_hour = Ndot_H2_mol_per_s * 3600 * H2O_molar_mass_kg_per_mol\n",
    "mdot_H2O_kg_per_hour"
   ]
  },
  {
   "cell_type": "markdown",
   "id": "f9124d61-b6ae-4a7e-991a-401f242a1b27",
   "metadata": {},
   "source": [
    "### (3) Flow rate of cooling water\n",
    "\n",
    "Let $ \\dot{Q} $ be the rate of heat to be removed. Using:\n",
    "$$ \\dot{Q} = \\dot{m}_{cw} c_p \\Delta T_{cw} $$\n",
    "\n",
    "where $ c_p \\approx 4.18 \\text{kJ/(kg K)} $ for water and $ \\Delta T_{cw} = 80 - 25 = 55 \\text{K} $.\n",
    "\n",
    "One approach:\n",
    "$$ \\dot{Q} = \\Delta G_{electrical} - \\Delta H_{react} - \\dot{Q}_{H_2O} $$\n",
    "\n",
    "- **Electrical Energy Input:**\n",
    "  $$ \\Delta G_{electrical} = VI = 1.9 \\times 20,000 = 38 \\text{kW} = 136,800 \\text{kJ/h} $$\n",
    "\n",
    "- **Reaction Enthalpy:**\n",
    "  $$ \\Delta H_{react} = \\dot{N}_{H_2O} \\times \\Delta H^0_{H_2O} = 371 \\times 286 \\approx 106,106 \\text{kJ/h} $$\n",
    "\n",
    "- **Sensible Heat:**\n",
    "  $$ \\dot{Q}_{H_2O} = \\dot{m}_{H_2O} \\times c_p \\times \\Delta T_{H_2O} $$\n",
    "  $$ = 6.674 \\times 4.18 \\times (85 - 25) \\approx 1,674 \\text{kJ/h} $$\n",
    "\n",
    "Thus:\n",
    "$$ \\dot{m}_{cw} = \\frac{136800 - 106106 - 1674}{4.18 \\times 55} \\approx 124 \\text{ kg/h} $$\n",
    "\n",
    "**Answer:** $ \\mathbf{124 \\text{ kg/h}} $"
   ]
  },
  {
   "cell_type": "code",
   "execution_count": 32,
   "id": "73ccdd64-91b2-447a-b490-9268d74fed1a",
   "metadata": {},
   "outputs": [
    {
     "data": {
      "text/plain": [
       "123.71480416140166"
      ]
     },
     "execution_count": 32,
     "metadata": {},
     "output_type": "execute_result"
    }
   ],
   "source": [
    "# (3) Flow rate of cooling water (kg/hour)\n",
    "# Heat to be removed:\n",
    "# Q̇ = ΔG_electrical - ΔH_react - ΔH_sensible\n",
    "\n",
    "# Electrical energy input\n",
    "Delta_G_elec_kJ_per_hour = V_initial_V * I_A * 3600 / 1000\n",
    "\n",
    "# Reaction enthalpy energy\n",
    "Delta_H_react_kJ_per_hour = Ndot_H2_mol_per_s * 3600 * delta_H_react_kJ_per_kmol\n",
    "\n",
    "# Sensible heat of water\n",
    "Qdot_H2O_kJ_per_hour = mdot_H2O_kg_per_hour * cp_kJ_per_kgK * (T_gas_out_C - T_feed_C)\n",
    "\n",
    "# Heat to be removed by cooling water\n",
    "Qdot_kJ_per_hour = Delta_G_elec_kJ_per_hour - Delta_H_react_kJ_per_hour - Qdot_H2O_kJ_per_hour\n",
    "\n",
    "# Cooling water flow rate\n",
    "mdot_cw_kg_per_hour = Qdot_kJ_per_hour / (cp_kJ_per_kgK * (T_cw_out_C - T_cw_in_C))\n",
    "mdot_cw_kg_per_hour"
   ]
  },
  {
   "cell_type": "markdown",
   "id": "cec550fe-d60e-4c1a-8990-b7366d2d3887",
   "metadata": {},
   "source": [
    "### (4) New operating temperature after voltage is 1.475 V (no cooling)\n",
    "\n",
    "- **cooling water can now be shut off:**\n",
    "$$ \\dot{Q} = \\Delta G_{electrical,new} - \\Delta H_{react} - \\Delta H_{sensible,new} = 0 $$\n",
    "\n",
    "- **Lowering the voltage reduces net heat generation, 1.475 V < 1.484 V, so the heat is absorbed from feeding water:**\n",
    "$$ \\dot{Q}_{H_2O,new} = (V_\\text{new} - V_H)I= (1.475-1.484) \\times 20000 = -180W $$\n",
    "\n",
    "\n",
    "\n",
    "- **New Sensible Heat:**\n",
    "  $$ \\dot{Q}_{H_2O,new} = \\dot{m}_{H_2O} \\times c_p \\times \\Delta T_{H_2O,new} $$\n",
    "  $$ \\Delta T_{H_2O,new} = T_\\text{operation,new} - T_{H_2O} = \\frac{-180}{4180 \\times 6.674/3600} \\approx -23\\text{°C} $$\n",
    "\n",
    "Thus:\n",
    "$$ T_{operation,new} = 25 - 23 = \\mathbf{2 \\text{°C}} $$\n"
   ]
  },
  {
   "cell_type": "code",
   "execution_count": 4,
   "id": "97cfe7f9-5d24-4b5d-84b9-a0f72f0f70f2",
   "metadata": {},
   "outputs": [
    {
     "data": {
      "text/plain": [
       "1.9174641148327964"
      ]
     },
     "execution_count": 4,
     "metadata": {},
     "output_type": "execute_result"
    }
   ],
   "source": [
    "# (4) New operating temperature after voltage reduction to 1.475V\n",
    "V_new_V = 1.475  # New voltage\n",
    "mdot_H2O_kg_per_s = mdot_H2O_kg_per_hour / 3600  # Convert kg/h to kg/s\n",
    "cp_J_per_kgK = cp_kJ_per_kgK*1000 # Convert kJ/kgK to J/kgK\n",
    "\n",
    "# Sensible heat required for new operating temperature\n",
    "qdot_H2Onew_W = (V_new_V - 1.484) * I_A\n",
    "Delta_T_H2O_new_K = qdot_H2Onew_W / mdot_H2O_kg_per_s / cp_J_per_kgK\n",
    "T_new_operation_C = T_feed_C + Delta_T_H2O_new_K\n",
    "T_new_operation_C"
   ]
  }
 ],
 "metadata": {
  "kernelspec": {
   "display_name": "Python 3 (ipykernel)",
   "language": "python",
   "name": "python3"
  },
  "language_info": {
   "codemirror_mode": {
    "name": "ipython",
    "version": 3
   },
   "file_extension": ".py",
   "mimetype": "text/x-python",
   "name": "python",
   "nbconvert_exporter": "python",
   "pygments_lexer": "ipython3",
   "version": "3.11.0"
  }
 },
 "nbformat": 4,
 "nbformat_minor": 5
}
