{
 "cells": [
  {
   "cell_type": "markdown",
   "id": "3807e075-6beb-48c2-a4e1-2505dad2a620",
   "metadata": {},
   "source": [
    "### Defining the partition function of an ideal gas\n",
    "\n",
    "For a monatonic ideal gas where Maxwell-Boltzmann statistics apply, the translational energies are:\n",
    "$$\\epsilon = \\frac{1}{2}m\\left(v_x^2 + v_y^2 + v_z^2 \\right) = \\frac{1}{2}m \\mathbf{v}^2 $$"
   ]
  },
  {
   "cell_type": "markdown",
   "id": "41bfae2a-11e8-4229-8514-3d7d0cb8fe3b",
   "metadata": {},
   "source": [
    "Consider a volume element:\n",
    "\n",
    "$$dx dy dz dp_x dp_y dp_z $$\n",
    "\n",
    "where\n",
    "\n",
    "$$\\mathbf{p} = m \\mathbf{v}  $$"
   ]
  },
  {
   "cell_type": "markdown",
   "id": "0376375c-01ca-4b0d-9698-deb09f1f1a97",
   "metadata": {},
   "source": [
    "The accuracy of specifying the displcement and momentum is limited by:\n",
    "\n",
    "$$\\Delta x \\Delta p_x \\sim h $$\n",
    "\n",
    "which is given by the uncertainty principle. The degeneracy, which is the number of quantum states (boxes of size $h^3$) in a volume element of the phase space is:\n",
    "\n",
    "$$dg = \\frac{dx dy dz dp_x dp_y dp_z }{h^3} = \\frac{m^3}{h^3}dxdydzdv_xdv_ydv_z$$"
   ]
  },
  {
   "cell_type": "markdown",
   "id": "c811d3cb-007c-4b06-993c-620b9da51b00",
   "metadata": {},
   "source": [
    "When the space between energy levels are close, the partition function can be expressed as an integral: \n",
    "\n",
    "$$Z_t = \\int \\exp \\left(\\frac{\\epsilon}{k_B T}\\right)dg $$\n",
    "\n",
    "$$Z_t = \\int\\int\\int dx dy dz \\int\\int\\int \\frac{m^3}{h^3} \\exp \\left[-\\frac{m}{2 k_B T} \\left(v_x^2 +v_y^2 +v_z^2 \\right)\\right] dv_x dv_y dv_z $$\n",
    "\n",
    "The space integration yields volume, $V$. The velocity integration can be done via:\n",
    "\n",
    "$$\\int_{-\\infty}^{\\infty} \\exp \\left(-\\frac{m v_x^2}{2 k_B T} \\right) dv_x = \\sqrt{\\frac{2 \\pi k_B T}{m}} $$"
   ]
  },
  {
   "cell_type": "markdown",
   "id": "8b5b9275-590b-49e7-a94d-b3c297e7984f",
   "metadata": {},
   "source": [
    "Therefore:\n",
    "\n",
    "$$Z_t = V \\left( \\frac{2 \\pi m k_B T}{h^2} \\right)^{3/2} $$"
   ]
  },
  {
   "cell_type": "code",
   "execution_count": null,
   "id": "32f8410f-0b4b-498f-a685-626da34110f7",
   "metadata": {},
   "outputs": [],
   "source": []
  }
 ],
 "metadata": {
  "kernelspec": {
   "display_name": "Python 3 (ipykernel)",
   "language": "python",
   "name": "python3"
  },
  "language_info": {
   "codemirror_mode": {
    "name": "ipython",
    "version": 3
   },
   "file_extension": ".py",
   "mimetype": "text/x-python",
   "name": "python",
   "nbconvert_exporter": "python",
   "pygments_lexer": "ipython3",
   "version": "3.11.11"
  }
 },
 "nbformat": 4,
 "nbformat_minor": 5
}
