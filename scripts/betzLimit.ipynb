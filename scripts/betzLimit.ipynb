{
 "cells": [
  {
   "cell_type": "markdown",
   "id": "a2f548d9-22dd-40d4-8fc7-b67aac40a248",
   "metadata": {},
   "source": [
    "### Deriving the Betz limit. \n",
    "\n",
    "Consider a horizontal axis turbine (rotor, aka, a normal wind turbine) whose blades have a swept area, which is a veritical disk normal to the flow of the horizontal wind. The wind blows upwind with an undisturbed velocity $v_1$ and downwind with a velocity of $v_3$. The rotors are on obstacle. \n",
    "\n",
    "Let's assume that at the disk, the velocity $v_2$ is the average of the upstream and downstream velocities:\n",
    "\n",
    "$$v_2 = \\frac{v_1+v_3}{2} $$\n",
    "\n",
    "The rate that mass enters the swept area, $A$, is:\n",
    "\n",
    "$$\\dot{m} = \\rho A v_2 = \\rho A \\frac{v_1+v_3}{2}  $$\n",
    "\n",
    "The power carried into the disk is:\n",
    "\n",
    "$$P_1 = \\frac{1}{2} \\dot{m} v_1^2 $$\n",
    "\n",
    "and out of the disk is:\n",
    "\n",
    "$$P_3 = \\frac{1}{2} \\dot{m} v_3^2 $$\n",
    "\n",
    "The disk removed from the wind a power:\n",
    "\n",
    "$$P_2 = \\frac{1}{2}\\dot{m} \\left(v_1^2 - v_3^2 \\right) = \\frac{1}{2}\\rho A \\frac{v_1+v_3}{2} \\left(v_1^2 - v_3^2 \\right)$$\n",
    "\n",
    "Let's compare this with the power of the wind:\n",
    "\n",
    "$$P_W = \\frac{1}{2} \\rho A v_1^3 $$\n",
    "\n",
    "$$\\frac{P_2}{P_W} = \\frac{\\frac{1}{4}\\rho A (v_1+v_3) \\left(v_1^2 - v_3^2 \\right)}{\\frac{1}{2} \\rho A v_1^3 } $$\n",
    "\n",
    "$$\\frac{P_2}{P_W} = \\frac{\\frac{1}{2} (v_1+v_3) \\left(v_1^2 - v_3^2 \\right)}{v_1^3 } = \\frac{1}{2} \\left[1 + \\frac{v_3}{v_1} \\right] \\left[1 - \\left( \\frac{v_3}{v_1} \\right)^2 \\right] $$\n",
    "\n",
    "If $x = v_3/v_1$, then:\n",
    "\n",
    "$$\\frac{P_2}{P_W} = \\frac{1}{2} \\left[1 + x \\right] \\left[1 - x ^2 \\right] $$\n",
    "\n",
    "Maximize $\\frac{P_2}{P_W}$:\n",
    "\n",
    "$$\\frac{d \\left(\\frac{P_2}{P_W}\\right)}{d x} = 0 $$"
   ]
  },
  {
   "cell_type": "code",
   "execution_count": 1,
   "id": "0d14a9ca-e432-496c-a9bb-0b97b7e6f531",
   "metadata": {},
   "outputs": [],
   "source": [
    "import numpy as np\n",
    "from matplotlib import pyplot as plt"
   ]
  },
  {
   "cell_type": "code",
   "execution_count": 8,
   "id": "ba145fed-fe7f-409c-ba60-ec6d272e92b0",
   "metadata": {},
   "outputs": [
    {
     "data": {
      "text/plain": [
       "Text(0, 0.5, 'P_2/P_W (-)')"
      ]
     },
     "execution_count": 8,
     "metadata": {},
     "output_type": "execute_result"
    },
    {
     "data": {
      "image/png": "[encoded data removed]",
      "text/plain": [
       "<Figure size 640x480 with 1 Axes>"
      ]
     },
     "metadata": {},
     "output_type": "display_data"
    }
   ],
   "source": [
    "X = np.linspace(0.1,1,100)\n",
    "\n",
    "P2_PW = [(1/2)*(1+x)*(1-((x)**2)) for x in X]\n",
    "\n",
    "plt.plot(x,P2_PW)\n",
    "plt.xlabel('x (-)')\n",
    "plt.ylabel('P_2/P_W (-)')"
   ]
  },
  {
   "cell_type": "markdown",
   "id": "1d1a7073-8d91-48cc-8df9-ee5df05f66e2",
   "metadata": {},
   "source": [
    "The maximum value is at 1/3. \n",
    "\n",
    "We can confirm this with our above formula:\n",
    "\n",
    "$$\\frac{P_2}{P_W} = \\frac{1}{2} \\left[1 + x \\right] \\left[1 - x ^2 \\right] $$\n",
    "\n",
    "Maximize $\\frac{P_2}{P_W}$:\n",
    "\n"
   ]
  },
  {
   "cell_type": "markdown",
   "id": "17d0d9b9-c7d8-4241-91b2-124cd392b17b",
   "metadata": {},
   "source": [
    "$$\\frac{d \\left(\\frac{P_2}{P_W}\\right)}{d x} = \\frac{1}{2}\\left[- 3x^2 - 2x + 1 \\right] =0 $$\n",
    "\n",
    "$$- 3x^2 - 2x + 1 =0 $$\n",
    "\n",
    "This is satisfied when $x = 1/3$. "
   ]
  },
  {
   "cell_type": "markdown",
   "id": "fad5cfbb-90ef-4d97-81c2-1c937fcda947",
   "metadata": {},
   "source": [
    "Therefore,\n",
    "\n",
    "$$\\left( \\frac{P_2}{P_W} \\right)_\\text{max} = \\frac{1}{2} \\left[1 + \\left(\\frac{1}{3}\\right) \\right] \\left[1 - \\left(\\frac{1}{3}\\right) ^2 \\right] $$\n",
    "\n",
    "(1/2)(4/3)(8/9) = (32/54) = (16/27)\n",
    "\n",
    "$$\\left( \\frac{P_2}{P_W} \\right)_\\text{max} = \\frac{16}{27} $$\n",
    "\n",
    "which is the Betz limit."
   ]
  },
  {
   "cell_type": "code",
   "execution_count": null,
   "id": "9be9edf5-bf6a-45e7-9acf-576c19c81b1d",
   "metadata": {},
   "outputs": [],
   "source": []
  }
 ],
 "metadata": {
  "kernelspec": {
   "display_name": "Python 3 (ipykernel)",
   "language": "python",
   "name": "python3"
  },
  "language_info": {
   "codemirror_mode": {
    "name": "ipython",
    "version": 3
   },
   "file_extension": ".py",
   "mimetype": "text/x-python",
   "name": "python",
   "nbconvert_exporter": "python",
   "pygments_lexer": "ipython3",
   "version": "3.11.11"
  }
 },
 "nbformat": 4,
 "nbformat_minor": 5
}
