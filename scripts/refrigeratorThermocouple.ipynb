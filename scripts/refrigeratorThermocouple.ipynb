{
 "cells": [
  {
   "cell_type": "markdown",
   "id": "6e7de53f-8575-419d-84fa-fa3059447456",
   "metadata": {},
   "source": [
    "Cooling power for a single thermocouple: \n",
    "\n",
    "$$P_C = - \\Lambda \\Delta T + \\alpha T_C I - (1/2) R I^2 $$\n",
    "\n",
    "Electrical power required to do this pumping:\n",
    "\n",
    "$$P_E = \\alpha \\Delta T I + R I^2 $$\n",
    "\n",
    "The ratio between the pumped heat and required electric power is COP. \n",
    "\n",
    "$$COP = \\frac{- \\Lambda \\Delta T + \\alpha T_C I - (1/2) R I^2}{\\alpha \\Delta T I + R I^2} $$ \n",
    "\n",
    "If it is lossless then the COP is $T_C / \\Delta T $, which is the Carnot efficiency. "
   ]
  },
  {
   "cell_type": "markdown",
   "id": "7637cc44-6563-4a90-b9ee-5b8810d48b3f",
   "metadata": {},
   "source": [
    "The current for maximum heat pumping is:\n",
    "\n",
    "$$\\frac{dP_C}{dI} = \\alpha T_C R I = 0$$\n",
    "\n",
    "$$I_\\text{max} = \\frac{\\alpha T_C}{R} $$\n",
    "\n",
    "The max cooling is then:\n",
    "\n",
    "$$P_C = - \\Lambda \\Delta T + \\alpha T_C \\left( \\frac{\\alpha T_C}{R}\\right) - (1/2) R \\left( \\frac{\\alpha T_C}{R} \\right)^2 $$"
   ]
  },
  {
   "cell_type": "markdown",
   "id": "84a10f82-0f7a-489d-ad04-747d20f5d92b",
   "metadata": {},
   "source": [
    "We can define beta as:\n",
    "\n",
    "$$\\beta = \\Lambda R = \\left[\\sqrt{\\lambda_A \\rho_A} + \\sqrt{\\lambda_B \\rho_B} \\right]^2 $$\n",
    "\n",
    "Therefore:\n",
    "\n",
    "$$P_C = - (\\beta / R) \\Delta T + \\alpha T_C I - (1/2) R I^2 $$\n",
    "\n",
    "Solve for $I$:\n",
    "\n",
    "$$I = \\frac{\\alpha T_C - \\sqrt{\\alpha^2T_C^2 - 2 \\beta \\Delta T - 2P_CR}}{R} $$"
   ]
  },
  {
   "cell_type": "markdown",
   "id": "9a759dad-55c1-4f7e-a335-1167ff3bfb4f",
   "metadata": {},
   "source": [
    "If a given cooling power is desired, what is the value of $R$ that maximizes the COP? \n",
    "\n",
    "$$COP = \\frac{P_C}{P_E} = \\frac{P_C}{\\alpha \\Delta T I + R I^2 } $$\n",
    "\n",
    "Substituting our equation for current $I$:\n",
    "\n",
    "$$COP = \\frac{P_C}{P_E} = \\frac{P_C}{\\alpha \\Delta T \\left[\\frac{\\alpha T_C - \\sqrt{\\alpha^2T_C^2 - 2 \\beta \\Delta T - 2P_CR}}{R} \\right] + R \\left[ \\frac{\\alpha T_C - \\sqrt{\\alpha^2T_C^2 - 2 \\beta \\Delta T - 2P_CR}}{R}\\right]^2 } $$\n",
    "\n",
    "Take the derivative, $\\frac{d COP}{dR}$, set to zero, solve for $R$:\n",
    "\n",
    "$$R = \\frac{-2 \\Delta T^2 \\beta (2 \\beta + \\alpha^2T_A) + B(\\alpha^2 \\beta^{1/2}\\Delta T T_C T_A - 2 \\beta^{3/2} \\Delta T ^2)}{\\alpha^2 T_A^2 P_C} $$\n",
    "\n",
    "where  \n",
    "\n",
    "$$T_A = \\Delta T 2 T_C $$\n",
    "\n",
    "$$ B = \\sqrt{4 \\beta + 2 \\alpha^2 T_A} $$"
   ]
  },
  {
   "cell_type": "code",
   "execution_count": 13,
   "id": "cdf124e4-6e16-4dcf-a911-304b12dd38fe",
   "metadata": {},
   "outputs": [],
   "source": [
    "PC_W = 10\n",
    "TC_K = -15+273.15\n",
    "TH_K = 40+273.15\n",
    "\n",
    "alpha_VperK = 0.0006\n",
    "lambdaA_WperCmPerK = 0.015\n",
    "rhoA_OhmCm = 0.002\n",
    "\n",
    "lambdaB_WperCmPerK = 0.010\n",
    "rhoB_OhmCm = 0.003"
   ]
  },
  {
   "cell_type": "code",
   "execution_count": 14,
   "id": "b56cb9f2-41b7-4e58-9700-14e136cc7207",
   "metadata": {},
   "outputs": [
    {
     "name": "stdout",
     "output_type": "stream",
     "text": [
      "0.00012\n"
     ]
    }
   ],
   "source": [
    "lambdaArhoA_V2perK = lambdaA_WperCmPerK*rhoA_OhmCm\n",
    "lambdaArhoB_V2perK = lambdaB_WperCmPerK*rhoB_OhmCm\n",
    "\n",
    "LambdaR_V2perK = ((lambdaArhoA_V2perK)**.5+(lambdaArhoB_V2perK)**.5)**2; print(LambdaR_V2perK)\n",
    "\n",
    "beta = LambdaR_V2perK"
   ]
  },
  {
   "cell_type": "code",
   "execution_count": 15,
   "id": "f35f1ab7-0a53-413b-8089-7207e6ff0c5e",
   "metadata": {},
   "outputs": [
    {
     "name": "stdout",
     "output_type": "stream",
     "text": [
      "571.3\n"
     ]
    }
   ],
   "source": [
    "TA_K = (TH_K - TC_K) + 2*TC_K; print(TA_K)"
   ]
  },
  {
   "cell_type": "code",
   "execution_count": 17,
   "id": "c6b60ba6-be58-4881-addd-c45c0bfa8b3d",
   "metadata": {},
   "outputs": [
    {
     "name": "stdout",
     "output_type": "stream",
     "text": [
      "0.02985525079445825\n"
     ]
    }
   ],
   "source": [
    "B_VperKhalf = (4 *beta + 2*(alpha_VperK**2)*TA_K )**.5; print(B_VperKhalf)"
   ]
  },
  {
   "cell_type": "markdown",
   "id": "783cfa84-43eb-4ac4-bf9c-8d067b84ae4b",
   "metadata": {},
   "source": [
    "If we use a single thermocouple, the current will be too high and the voltage too low. Let's use 100 thermocouples. Then our required power per thermocouple will be:"
   ]
  },
  {
   "cell_type": "code",
   "execution_count": 18,
   "id": "7b10a2c6-ed09-4c3a-a984-cdc7fb03436e",
   "metadata": {},
   "outputs": [],
   "source": [
    "PC_1_W = PC_W /100"
   ]
  },
  {
   "cell_type": "code",
   "execution_count": 21,
   "id": "a3b88854-2710-4e12-860b-9b488b823c4a",
   "metadata": {},
   "outputs": [
    {
     "name": "stdout",
     "output_type": "stream",
     "text": [
      "0.0035783580157766706\n"
     ]
    }
   ],
   "source": [
    "Lambda_WperK = beta/R_Ohm; print(Lambda_WperK)"
   ]
  },
  {
   "cell_type": "markdown",
   "id": "ac7198c6-4085-45bf-a5d2-f8b07e4a4021",
   "metadata": {},
   "source": [
    "Our resistance is then:"
   ]
  },
  {
   "cell_type": "code",
   "execution_count": 20,
   "id": "8c75416b-915d-48ce-9073-becb48393059",
   "metadata": {},
   "outputs": [
    {
     "name": "stdout",
     "output_type": "stream",
     "text": [
      "0.03353493403145532\n"
     ]
    }
   ],
   "source": [
    "DeltaT = TH_K - TC_K\n",
    "\n",
    "alpha = alpha_VperK\n",
    "\n",
    "TA = TA_K\n",
    "\n",
    "B = B_VperKhalf\n",
    "\n",
    "R_Ohm = (-2*(DeltaT**2)*beta*(2*beta+alpha**2*TA) + B*((alpha**2)*(beta**.5)*DeltaT*TC_K*TA-2*(beta**(3/2))*(DeltaT**2)))/((alpha**2)*(TA**2)*PC_1_W); print(R_Ohm)\n",
    "\n"
   ]
  },
  {
   "cell_type": "markdown",
   "id": "51a56b43-093c-42ec-9147-813d350259f3",
   "metadata": {},
   "source": [
    "$$I = \\frac{\\alpha T_C - \\sqrt{\\alpha^2T_C^2 - 2 \\beta \\Delta T - 2P_CR}}{R} $$"
   ]
  },
  {
   "cell_type": "code",
   "execution_count": 22,
   "id": "936219f0-da34-4df6-b07e-a8839cf82f47",
   "metadata": {},
   "outputs": [
    {
     "name": "stdout",
     "output_type": "stream",
     "text": [
      "2.71312307286416\n"
     ]
    }
   ],
   "source": [
    "I_A = (alpha*TC_K - ((alpha**2)*(TC_K**2) - 2*beta*DeltaT - 2*PC_1_W*R_Ohm)**.5)/(R_Ohm); print(I_A)"
   ]
  },
  {
   "cell_type": "markdown",
   "id": "5593bac6-5514-4c19-bcc5-bf4b9759db68",
   "metadata": {},
   "source": [
    "$$P_E = \\alpha \\Delta T I + R I^2 $$"
   ]
  },
  {
   "cell_type": "code",
   "execution_count": 23,
   "id": "38d284c5-c044-4754-8f57-ee2309fdac1d",
   "metadata": {},
   "outputs": [
    {
     "name": "stdout",
     "output_type": "stream",
     "text": [
      "0.3363849451809428\n"
     ]
    }
   ],
   "source": [
    "PE_W = alpha*DeltaT*I_A + R_Ohm*(I_A**2); print(PE_W)"
   ]
  },
  {
   "cell_type": "code",
   "execution_count": 24,
   "id": "d12cc6e1-5231-4134-8350-be98eb61cfee",
   "metadata": {},
   "outputs": [
    {
     "name": "stdout",
     "output_type": "stream",
     "text": [
      "0.29727846454665086\n"
     ]
    }
   ],
   "source": [
    "COP = PC_1_W/PE_W; print(COP)"
   ]
  },
  {
   "cell_type": "code",
   "execution_count": null,
   "id": "8409fc45-1dcf-47f3-9ef6-871e335d5b90",
   "metadata": {},
   "outputs": [],
   "source": []
  }
 ],
 "metadata": {
  "kernelspec": {
   "display_name": "Python 3 (ipykernel)",
   "language": "python",
   "name": "python3"
  },
  "language_info": {
   "codemirror_mode": {
    "name": "ipython",
    "version": 3
   },
   "file_extension": ".py",
   "mimetype": "text/x-python",
   "name": "python",
   "nbconvert_exporter": "python",
   "pygments_lexer": "ipython3",
   "version": "3.11.11"
  }
 },
 "nbformat": 4,
 "nbformat_minor": 5
}
