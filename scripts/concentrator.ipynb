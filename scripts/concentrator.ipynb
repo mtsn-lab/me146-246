{
 "cells": [
  {
   "cell_type": "markdown",
   "id": "aff319c0-495d-4dde-a646-f72c25343638",
   "metadata": {},
   "source": [
    "### Concentrator\n",
    "\n",
    "The optical concentration, $C_\\text{opt}$, is defined as:\n",
    "\n",
    "$$C_\\text{opt} = \\frac{\\text{Average flux over the receiver}}{\\text{Flux over the aperture (insolation)}} $$"
   ]
  },
  {
   "cell_type": "markdown",
   "id": "7b9e70c0-a9af-4b1e-b8e5-b78c342ca9c9",
   "metadata": {},
   "source": [
    "At thermal equilibrium, the incident radiation has to match the emitted radiation:\n",
    "\n",
    "$$ P_\\text{r} = P_\\text{in}$$"
   ]
  },
  {
   "cell_type": "code",
   "execution_count": 1,
   "id": "363ded24-8037-4a87-830d-a5a810e3b6c0",
   "metadata": {},
   "outputs": [],
   "source": [
    "d_km = 150e6\n",
    "d_m = d_km*1000\n",
    "\n",
    "e1 = 0.9\n",
    "e2_low = 0.8\n",
    "e2_high = 0.4\n",
    "\n",
    "T_inf_K = 4\n",
    "T_sun_K = 5800\n",
    "\n",
    "R_m = 6.957e8\n",
    "\n",
    "sigma_WperM2perK4 = 5.67e-8"
   ]
  },
  {
   "cell_type": "markdown",
   "id": "7bc04c85-6f7e-451f-8bf9-ce00c858152f",
   "metadata": {},
   "source": [
    "$$L = 4 \\pi R^2 \\sigma T_\\text{sun}^4  $$"
   ]
  },
  {
   "cell_type": "code",
   "execution_count": 3,
   "id": "2ef5aea7-41ac-4e60-a63e-de5ef727dbf4",
   "metadata": {},
   "outputs": [
    {
     "name": "stdout",
     "output_type": "stream",
     "text": [
      "3.902438748562452e+26\n"
     ]
    }
   ],
   "source": [
    "L_W = 4*3.1415*(R_m**2)*sigma_WperM2perK4*(T_sun_K**4)\n",
    "print(L_W)"
   ]
  },
  {
   "cell_type": "markdown",
   "id": "761be8ff-479f-4701-b3a7-b0680e304d57",
   "metadata": {},
   "source": [
    "The solar irradiance at a distance $d$ from the sun is then by definition:"
   ]
  },
  {
   "cell_type": "markdown",
   "id": "1acfbfed-8b86-4b93-a013-76cf467961b3",
   "metadata": {},
   "source": [
    "$$P_\\text{in} = \\frac{L}{4 \\pi d^2} $$"
   ]
  },
  {
   "cell_type": "code",
   "execution_count": 6,
   "id": "578979ef-abf7-4d07-a93a-d7f10f24a2ee",
   "metadata": {},
   "outputs": [
    {
     "name": "stdout",
     "output_type": "stream",
     "text": [
      "1380.246077974942\n"
     ]
    }
   ],
   "source": [
    "Pin_WperM2 = L_W/(4*3.1415*(d_m**2))\n",
    "print(Pin_WperM2)"
   ]
  },
  {
   "cell_type": "markdown",
   "id": "ff5c4d7d-b74a-4196-a9d0-897e897ae09e",
   "metadata": {},
   "source": [
    "The \"insolation\" is the power density of the solar radiation. This is what you have just determined. The textbook reports it as 1360 W/m$^2$.\n",
    "\n",
    "The average insolation in San Francisco is 246 W/m$^2$. "
   ]
  },
  {
   "cell_type": "markdown",
   "id": "725dd35d-a4bb-42d9-b5ed-ea32cd5a570b",
   "metadata": {},
   "source": [
    "If we do not concentrate the solar radiation, then at thermal equilibrium we can balance $P_\\text{in}$ with $\\epsilon \\sigma T^4$:\n",
    "\n",
    "$$ P_\\text{in} = \\epsilon \\sigma T^4 $$ where $\\epsilon$ is the emissivity of the receiver. We can estimate the maximum temperature achievable without concentrating light as:\n",
    "\n",
    "$$T_\\text{max} = \\left( \\frac{P_\\text{in}}{\\epsilon \\sigma}\\right)^{1/4} $$\n",
    "\n",
    "If $\\epsilon$ is close to unity, then we see that $T_\\text{max}$ is:"
   ]
  },
  {
   "cell_type": "code",
   "execution_count": 8,
   "id": "a5b9e180-ad2f-4496-87a0-6f8602dbb466",
   "metadata": {},
   "outputs": [
    {
     "name": "stdout",
     "output_type": "stream",
     "text": [
      "394.99660758036896\n",
      "121.84660758036898\n"
     ]
    }
   ],
   "source": [
    "epsilon = 1\n",
    "Tmax_K = (Pin_WperM2/(epsilon*sigma_WperM2perK4))**(0.25)\n",
    "print(Tmax_K)\n",
    "\n",
    "Tmax_C = Tmax_K-273.15\n",
    "print(Tmax_C)"
   ]
  },
  {
   "cell_type": "markdown",
   "id": "7f0194fb-7010-493c-a2fc-02a1249aaf46",
   "metadata": {},
   "source": [
    "We can also determine the maximum value of $C_\\text{opt}$ by setting $T_\\text{max}$ equal to that of the sun and solving for $P_\\text{in}$:"
   ]
  },
  {
   "cell_type": "code",
   "execution_count": 9,
   "id": "9a5d844e-093e-43a0-ba59-efd721922bad",
   "metadata": {},
   "outputs": [
    {
     "name": "stdout",
     "output_type": "stream",
     "text": [
      "64164532.32\n",
      "46487.74833987602\n"
     ]
    }
   ],
   "source": [
    "PinMax_WperM2 = epsilon*sigma_WperM2perK4*(T_sun_K**4); print(PinMax_WperM2)\n",
    "\n",
    "Copt_Max = PinMax_WperM2/Pin_WperM2; print(Copt_Max)"
   ]
  },
  {
   "cell_type": "markdown",
   "id": "2581fd09-4ae3-42c2-8ca8-91e20d0cd4a5",
   "metadata": {},
   "source": [
    "We see that the maximum value of $C_\\text{opt}$ allowed by the second law of thermodynamics is close to 45,000. "
   ]
  },
  {
   "cell_type": "code",
   "execution_count": null,
   "id": "711e2a2a-8ed7-44c0-9d06-4f8c67103fdf",
   "metadata": {},
   "outputs": [],
   "source": []
  }
 ],
 "metadata": {
  "kernelspec": {
   "display_name": "Python 3 (ipykernel)",
   "language": "python",
   "name": "python3"
  },
  "language_info": {
   "codemirror_mode": {
    "name": "ipython",
    "version": 3
   },
   "file_extension": ".py",
   "mimetype": "text/x-python",
   "name": "python",
   "nbconvert_exporter": "python",
   "pygments_lexer": "ipython3",
   "version": "3.11.11"
  }
 },
 "nbformat": 4,
 "nbformat_minor": 5
}
