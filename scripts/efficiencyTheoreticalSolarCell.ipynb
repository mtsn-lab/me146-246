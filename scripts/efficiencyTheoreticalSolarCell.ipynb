{
 "cells": [
  {
   "cell_type": "markdown",
   "id": "6b6d7a76-6c32-4c32-9f5a-9dfc251c1b8f",
   "metadata": {},
   "source": [
    "Here we will derive the theoretical efficiency of photocells. We assume that the cells perform the functions of carrier generation and carrier separation. The below is based on the text from da Rosa, Chapter 14, Photovoltaic Converters.\n",
    "\n",
    "We assume:\n",
    "- Carrier separation function is carried out without any losses.\n",
    "- One electron-hole pair is create for every incident photon that has an energy $h f > W_\\text{g} $ where $W_\\text{g}$ is the band-gap energy.\n",
    "- The material is transparent to photons with $h f < W_\\text{g}$ and therefore do not interact with the photo-sensitive material and therefore have no photoelectric effect.\n",
    "- All photons with energy above the band-gap contribute to the load an amount of electrical energy exaclty equal to $W_\\text{g}$.\n",
    "- All excess energy $h f - W_\\text{g}$ is transformed into heat and is a loss.\n",
    "\n",
    "If a photovoltaic cell is exposed to monochromatic light, it can theoretically achieve 100\\% efficiency converting radiation into electricity. However, most of the time these cells are exposed to broad-band radiation, i.e., a stream of photons with different energies. One such source is the sun. "
   ]
  },
  {
   "cell_type": "markdown",
   "id": "561c4a04-8313-4c56-b3b7-ac68522e2d02",
   "metadata": {},
   "source": [
    "The efficiency is defined as the ratio of the power delivered to the load to the power of the incident radiation:\n",
    "\n",
    "$$\\eta = \\frac{P_\\text{L}}{P_\\text{in}} = \\frac{P''_\\text{L}}{P''_\\text{in}}$$\n",
    "\n",
    "where $P''$ is the power density. The broad-band radiation can be described by specifying a differential power density $d P''$ of the radiation within a given frequency interval, $d f$. The incident power density due to radiation is:\n",
    "\n",
    "$$P''_\\text{in} = \\int_0^\\infty \\frac{\\partial P''}{\\partial f} df$$\n",
    "\n",
    "For a black-body, Planck's equation is:\n",
    "\n",
    "$$ \\frac{\\partial P''}{\\partial f} = A \\frac{f^3}{\\exp \\left(\\frac{h f}{k_\\text{B} T}\\right) -1} $$\n",
    "\n",
    "where $k_\\text{B}$ is Boltzmann's constant and $A$ is a constant and is:\n",
    "\n",
    "$$A = \\frac{2 \\pi h n^2}{c^2} $$\n",
    "\n",
    "where $n$ is the refractive index of the medium around the blackbody (ratio of the light speec in vacuum, $c$, to the light speed in the medium), $c$ is the speed of light, and $h$ is Planck's constant. "
   ]
  },
  {
   "cell_type": "markdown",
   "id": "6fc6c3e8-a5cf-4159-91b6-47d9d11c8f24",
   "metadata": {},
   "source": [
    "If we set\n",
    "$$x = \\frac{h f}{k_\\text{B} T}$$ \n",
    "\n",
    "Then:\n",
    "\n",
    "$$ df = \\frac{k_\\text{B} T}{h} dx$$\n",
    "\n",
    "$$ f^3 = \\left( \\frac{k_\\text{B} T}{h}\\right)^3 x^3$$\n",
    "\n",
    "Therefore:\n",
    "\n",
    "$$P''_\\text{in} = \\int_0^\\infty A \\frac{\\left(\\left( \\frac{k_\\text{B} T}{h}\\right)^3 x^3\\right)}{\\exp \\left(x\\right) -1} \\frac{k_\\text{B} T}{h} dx$$"
   ]
  },
  {
   "cell_type": "markdown",
   "id": "4233f532-5a61-4abd-a99a-d75c0919d393",
   "metadata": {},
   "source": [
    "$$P''_\\text{in} = A\\left( \\frac{k_\\text{B} T}{h}\\right)^4 \\int_0^\\infty  \\frac{x^3}{\\exp \\left(x\\right) -1}  dx$$\n",
    "\n",
    "The definite integral of $\\int_0^\\infty  \\frac{x^3}{\\exp \\left(x\\right) -1}  dx$ has a value of $\\pi^4/15$. Therefore:\n",
    "\n",
    "$$P''_\\text{in} = A\\left( \\frac{k_\\text{B} T}{h}\\right)^4 \\frac{\\pi^4}{15} = a T^4$$\n",
    "\n",
    "where\n",
    "\n",
    "$a$ ($[=]$ W m$^{-2}$ K$^{-4}$) is a constant:\n",
    "\n",
    "$$a = n^2\\frac{2\\pi^5 k_\\text{B}^4}{15 c^2 h^3} = n^2 \\sigma$$\n",
    "\n",
    "where $\\sigma$ is the Stefan-Boltzmann constant. $n$ is usually taken as 1. "
   ]
  },
  {
   "cell_type": "markdown",
   "id": "357e0954-2403-4291-bcdd-e6063e6eff52",
   "metadata": {},
   "source": [
    "Let us now turn our attention to $P''_\\text{L}$. If a semiconductor with a band-gap energy, $W_\\text{g} = h f_g$, is irradiated with broad-band radiation, the photons with frequency $f < f_\\text{g}$ will not create carriers. A fraction of the total radiation power density, will be lost:\n",
    "\n",
    "$$\\frac{1}{P''} \\int^{f_g}_0 \\frac{\\partial P''}{\\partial f} df$$\n",
    "\n",
    "Let $\\phi_g$ be the total flux of photons with $f>f_g$. Each photon generates a single electron-hole pair with energy $hf$. However, energy in excess of that is lost to heat. The useful electric energy will be:\n",
    "\n",
    "$$P_\\text{L}'' = \\phi_g W_g [=] \\text{W m}^{-2} $$ "
   ]
  },
  {
   "cell_type": "markdown",
   "id": "c36dcfad-36fc-4397-a77e-e9954d32a021",
   "metadata": {},
   "source": [
    "It can be shown that the flux of photons with energy larger than $hf_g$ is:\n",
    "\n",
    "$$\\phi_g = \\frac{1}{h} \\int^{\\infty}_{f_g} \\frac{1}{f} \\frac{\\partial P''}{\\partial f} df$$\n",
    "\n",
    "Therefore, the useful power is:\n",
    "\n",
    "$$P_\\text{L}'' = \\phi_g W_g = \\phi_g h f_g $$\n",
    "\n",
    "$$P_\\text{L}'' =  f_g \\int^{\\infty}_{f_g} \\frac{1}{f} \\frac{\\partial P''}{\\partial f} df$$"
   ]
  },
  {
   "cell_type": "markdown",
   "id": "0f9b945e-b6d5-44bf-93e0-2b681c88a2ec",
   "metadata": {},
   "source": [
    "Recall that for a black-body, Planck's equation is:\n",
    "\n",
    "$$ \\frac{\\partial P''}{\\partial f} = A \\frac{f^3}{\\exp \\left(\\frac{h f}{k_\\text{B} T}\\right) -1} $$\n",
    "\n",
    "Therefore:\n",
    "\n",
    "$$\\phi_g = \\frac{1}{h} \\int^{\\infty}_{f_g} \\frac{1}{f} A \\frac{f^3}{\\exp \\left(\\frac{h f}{k_\\text{B} T}\\right) -1} df$$\n",
    "\n",
    "$$\\implies \\phi_g = \\frac{A}{h} \\int^{\\infty}_{f_g} \\frac{f^2}{\\exp \\left(\\frac{h f}{k_\\text{B} T}\\right) -1} df$$\n",
    "\n",
    "Recalling:\n",
    "\n",
    "$$x = \\frac{h f}{k_\\text{B} T}$$ \n",
    "\n",
    "$$ df = \\frac{k_\\text{B} T}{h} dx$$\n",
    "\n",
    "$$ f = \\left( \\frac{k_\\text{B} T}{h}\\right) x$$\n",
    "\n",
    "Then:\n",
    "\n",
    "$$\\phi_g = \\frac{A}{h} \\int^{\\infty}_{X} \\frac{(\\left( \\frac{k_\\text{B} T}{h}\\right) x)^2}{\\exp \\left(x\\right) -1} \\frac{k_\\text{B} T}{h} dx$$\n",
    "\n",
    "$$\\phi_g = \\frac{A}{h} \\left( \\frac{k_\\text{B} T}{h}\\right)^3 \\int^{\\infty}_{X} \\frac{x^2}{\\exp \\left(x\\right) -1}  dx$$"
   ]
  },
  {
   "cell_type": "markdown",
   "id": "c1189edc-95af-40d3-8d89-0dee3327d5cc",
   "metadata": {},
   "source": [
    "where $X = (h f_g)/(k_\\text{b} T) = q V_g/(k_\\text{B} T)$"
   ]
  },
  {
   "cell_type": "markdown",
   "id": "4f479728-8a6a-4a88-8abe-57722fd18a86",
   "metadata": {},
   "source": [
    "$$\\eta = \\frac{P''_\\text{L}}{P''_\\text{in}} =  \\frac{W_g \\phi_g}{P''_\\text{in}} = \\frac{h f_g \\phi_g}{P''_\\text{in}}$$\n",
    "\n",
    "Recall:\n",
    "\n",
    "$$P''_\\text{in} = A\\left( \\frac{k_\\text{B} T}{h}\\right)^4 \\frac{\\pi^4}{15} $$\n",
    "\n",
    "Substituting into the above formula along with the integral for $\\phi_g$:\n",
    "\n",
    "$$\\eta = \\frac{P''_\\text{L}}{P''_\\text{in}} =  \\frac{h f_g \\left(\\frac{A}{h} \\left( \\frac{k_\\text{B} T}{h}\\right)^3 \\int^{\\infty}_{X} \\frac{x^2}{\\exp \\left(x\\right) -1}  dx\\right)}{A\\left( \\frac{k_\\text{B} T}{h}\\right)^4 \\frac{\\pi^4}{15}}$$"
   ]
  },
  {
   "cell_type": "markdown",
   "id": "0ec372d4-b806-4856-aeee-82da5b0eac98",
   "metadata": {},
   "source": [
    "$$\\eta = \\frac{15}{\\pi^4} \\left( \\frac{f_g h}{k_\\text{B} T}\\right)  \\int^{\\infty}_{X} \\frac{x^2}{\\exp \\left(x\\right) -1}  dx$$\n",
    "\n",
    "$$\\eta = \\frac{15}{\\pi^4} X \\int^{\\infty}_{X} \\frac{x^2}{\\exp \\left(x\\right) -1}  dx$$"
   ]
  },
  {
   "cell_type": "markdown",
   "id": "a887ded2-d90d-4c97-8654-dfc346af2a2a",
   "metadata": {},
   "source": [
    "Consider now a blackbody at 6000 K irradiating silicon. What is the maximum theoretical efficiency if it were a photovoltaic device? The band-gap is $V_g = 1.1$ V.\n",
    "\n",
    "$$X = (h f_g)/(k_\\text{b} T) = (q V_g)/(k_\\text{B} T)$$"
   ]
  },
  {
   "cell_type": "code",
   "execution_count": 4,
   "id": "0a532acb-a9d6-4f02-8932-c749762a7bf8",
   "metadata": {},
   "outputs": [
    {
     "name": "stdout",
     "output_type": "stream",
     "text": [
      "2.127509065712534\n"
     ]
    }
   ],
   "source": [
    "q_C = 1.6022e-19\n",
    "Vg_V = 1.1\n",
    "T_K = 6000\n",
    "kB_JperK = 1.38066e-23\n",
    "\n",
    "X = (q_C*Vg_V)/(T_K*kB_JperK); print(X)"
   ]
  },
  {
   "cell_type": "code",
   "execution_count": 5,
   "id": "922f597a-df09-4d9f-9cc7-6cf5724681b1",
   "metadata": {},
   "outputs": [
    {
     "name": "stdout",
     "output_type": "stream",
     "text": [
      "Eta for X=2.127509065712534: 43.86681500150036%\n"
     ]
    },
    {
     "name": "stderr",
     "output_type": "stream",
     "text": [
      "/tmp/ipykernel_184/741638295.py:9: RuntimeWarning: overflow encountered in exp\n",
      "  integrand = lambda x: (x**2) / (np.exp(x) - 1)\n"
     ]
    }
   ],
   "source": [
    "import numpy as np\n",
    "from scipy.integrate import quad\n",
    "\n",
    "def compute_eta(X):\n",
    "    \"\"\"\n",
    "    Compute the value of eta based on the given integral formula.\n",
    "    \"\"\"\n",
    "    # Define the integrand function\n",
    "    integrand = lambda x: (x**2) / (np.exp(x) - 1)\n",
    "    \n",
    "    # Compute the integral from X to infinity\n",
    "    integral_value, _ = quad(integrand, X, np.inf)\n",
    "    \n",
    "    # Compute eta\n",
    "    eta = (15 / np.pi**4) * X * integral_value\n",
    "    return eta\n",
    "\n",
    "# Example usage\n",
    "# X = 2  # Example value for X\n",
    "eta_value = compute_eta(X)\n",
    "print(f\"Eta for X={X}: {eta_value*100}%\")"
   ]
  },
  {
   "cell_type": "code",
   "execution_count": null,
   "id": "18b63680-7f8b-4f24-96f4-d39c72c8e24d",
   "metadata": {},
   "outputs": [],
   "source": []
  }
 ],
 "metadata": {
  "kernelspec": {
   "display_name": "Python 3 (ipykernel)",
   "language": "python",
   "name": "python3"
  },
  "language_info": {
   "codemirror_mode": {
    "name": "ipython",
    "version": 3
   },
   "file_extension": ".py",
   "mimetype": "text/x-python",
   "name": "python",
   "nbconvert_exporter": "python",
   "pygments_lexer": "ipython3",
   "version": "3.11.11"
  }
 },
 "nbformat": 4,
 "nbformat_minor": 5
}
