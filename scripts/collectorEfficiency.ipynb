{
 "cells": [
  {
   "cell_type": "markdown",
   "id": "eb4d063b-18f6-4ba4-98fe-3aa5b2e9ba57",
   "metadata": {},
   "source": [
    "### Second law efficiency of a solar energy collection process \n",
    "\n",
    "You are designing a solar energy collection system capable of collecting 10 MW of solar energy. This energy can be used for heating or for generating electricity with a steam power cycle, e.g., Rankine (states 1 to 4). The system consists of the following:\n",
    "- pump (states 5 to 6)\n",
    "- heat transfer fluid ([DowTherm Q Heat Transfer Fluid](https://www.dow.com/en-us/pdp.dowtherm-q-heat-transfer-fluid.11233z.html#overview))\n",
    "- parabolic mirrors\n",
    "- receivers (fluid enters at state 6 and exits at state 7)\n",
    "- heat exchanger (e.g., boiler; fluid enters at state 7 and exits at state 8)\n",
    "- storage tank (fluid enters at state 8 and exits at state 5)\n",
    "\n",
    "The temperature of the heat transfer fluid when it exits the receiver is 360 C and its pressure is 5 bar. You are told to neglect the work transfer from the pump in this analysis. Assume an insolation value of 250 W/m$^2$. \n",
    "\n",
    "Please define:\n",
    "- (a) Assuming thermal equilibrium, what is the minimum value of $C_\\text{opt}$ (optical concentration) required to heat the receiver to the exit temperature mentioned above? \n",
    "- (b) Please define the second law efficiency of the solar collector as a function of the inlet heat transfer fluid temperature to the reciever, which is varied between 25 C and 350 C. This temperature would be expected to be close to the tank temperature.\n",
    "- (c) Please define the rate of exergy destruction in the heat exchanger. For this, please assume that the heat exchanger is a boiler, which generates steam at a pressure of 100 bar and temperature of 300 C and that the surface condenser operates at a pressure of 75 kPa. "
   ]
  },
  {
   "cell_type": "markdown",
   "id": "4b0f43c1-a570-4ca5-a643-537e40c87fed",
   "metadata": {},
   "source": [
    "#### Part (a)\n",
    "At thermal equilibrium, the absorbed (insolation) and emitted radiation ($\\dot{P}_\\text{receiver}$) must be equal. The value for insolation is given above. The value for the radiation emitted is then:\n",
    "\n",
    "$$\\dot{P}_\\text{receiver} = \\epsilon \\sigma T_\\text{outlet}^4 $$"
   ]
  },
  {
   "cell_type": "code",
   "execution_count": 7,
   "id": "6d13a823-04bd-4751-8857-1444eb2a9e40",
   "metadata": {},
   "outputs": [
    {
     "name": "stdout",
     "output_type": "stream",
     "text": [
      "The minimum value for C_opt is: 36.45\n"
     ]
    }
   ],
   "source": [
    "epsilon = 1\n",
    "sigma_WperM2perK4 = 5.67e-8\n",
    "Toutlet_K = 273.15+360\n",
    "\n",
    "Preceiver_WperM2 = epsilon*sigma_WperM2perK4*(Toutlet_K**4)\n",
    "Pinsolation_WperM2 = 250\n",
    "\n",
    "Copt = Preceiver_WperM2/Pinsolation_WperM2\n",
    "\n",
    "print('The minimum value for C_opt is: {0:1.2f}'.format(Copt))"
   ]
  },
  {
   "cell_type": "markdown",
   "id": "b421ad5c-3288-4734-9287-b8cc415bc6eb",
   "metadata": {},
   "source": [
    "#### Part (b)\n",
    "\n",
    "Second law efficiency can be defined as:\n",
    "$$\\eta_\\text{II} = \\frac{\\text{Exergy recovered}}{\\text{Exergy expended}} $$\n",
    "\n",
    "For our problem here, the rate that exergy is expended is: \n",
    "\n",
    "$$ \\dot{X}_\\text{expended} = \\left(1 - \\frac{T_0}{T_\\text{sun}} \\right) \\dot{Q}_\\text{sun} + \\dot{X}_\\text{pump} + \\dot{X}_\\text{inlet}$$\n",
    "\n",
    "The rate that exergy is recovered is:\n",
    "\n",
    "$$\\dot{X}_\\text{recovered} = \\dot{X}_\\text{outlet} $$\n",
    "\n",
    "The second law efficiency is then:\n",
    "\n",
    "$$\\eta_\\text{II} = \\frac{\\dot{X}_\\text{recovered}}{\\dot{X}_\\text{expended}} = \\frac{\\dot{X}_\\text{outlet}}{\\left(1 - \\frac{T_0}{T_\\text{sun}} \\right) \\dot{Q}_\\text{sun} + \\dot{X}_\\text{pump} + \\dot{X}_\\text{inlet}}$$\n",
    "\n",
    "The inlet and outlet exergy terms are:\n",
    "\n",
    "$$ \\dot{X}_\\text{inlet} = \\dot{m}\\left[ \n",
    "\\left(h_\\text{inlet} - h_0\\right) - T_0 \\left( s_\\text{inlet} - s_0 \\right) \\right]$$\n",
    "\n",
    "$$ \\dot{X}_\\text{outlet} = \\dot{m}\\left[ \n",
    "\\left(h_\\text{outlet} - h_0\\right) - T_0 \\left( s_\\text{outlet} - s_0 \\right) \\right]$$"
   ]
  },
  {
   "cell_type": "markdown",
   "id": "6f52247f-2a24-4389-ba8f-ea6564090c24",
   "metadata": {},
   "source": [
    "To analyze this, we can make a choice about the system. We can assume that there is a reservoir that contains the heat transfer fluid prior to entering the inlet of the receiver. "
   ]
  },
  {
   "cell_type": "code",
   "execution_count": 8,
   "id": "2451af24-189d-4205-ae4f-0060a1405ba4",
   "metadata": {},
   "outputs": [
    {
     "name": "stdout",
     "output_type": "stream",
     "text": [
      "Requirement already satisfied: CoolProp in /srv/conda/lib/python3.11/site-packages (6.6.0)\n"
     ]
    }
   ],
   "source": [
    "!pip install CoolProp"
   ]
  },
  {
   "cell_type": "code",
   "execution_count": 9,
   "id": "9da1ae48-eae4-448b-aaef-3e5d986df01c",
   "metadata": {},
   "outputs": [],
   "source": [
    "from CoolProp.CoolProp import PropsSI"
   ]
  },
  {
   "cell_type": "code",
   "execution_count": 10,
   "id": "20e9fa2a-4670-4a9c-b8fb-6e621c3616e8",
   "metadata": {},
   "outputs": [],
   "source": [
    "# here you have to write INCOMP:: before the fluid name, in this case\n",
    "# DowQ in order to call the fluid. It is an incompressible fluid. \n",
    "fluidHeatTransfer = 'INCOMP::DowQ'"
   ]
  },
  {
   "cell_type": "code",
   "execution_count": 11,
   "id": "074dff88-3ca4-4c18-a175-3fe13c5ade8c",
   "metadata": {},
   "outputs": [],
   "source": [
    "# Temperature units are in Kelvin\n",
    "# Pressure units are in Pascals\n",
    "# Enthalpy units are in J/kg\n",
    "# Entropy units are in J/kg/K\n",
    "# Density units are in kg/m3"
   ]
  },
  {
   "cell_type": "code",
   "execution_count": 12,
   "id": "53d6ae48-52af-4350-af60-181ab98b7854",
   "metadata": {},
   "outputs": [],
   "source": [
    "# State 5, exiting the tank and entering the pump\n",
    "T5 = 200+273.15\n",
    "p5 = 5e5\n",
    "\n",
    "h5 = PropsSI('H','T',T5,'P',p5,fluidHeatTransfer)\n",
    "s5 = PropsSI('S','T',T5,'P',p5,fluidHeatTransfer)"
   ]
  },
  {
   "cell_type": "code",
   "execution_count": 13,
   "id": "afb36945-ae7d-4a79-8742-3e8db1a2e034",
   "metadata": {},
   "outputs": [],
   "source": [
    "# State 8, we assume that the storage tank is adiabatic and no major pressure changes\n",
    "T8 = T5\n",
    "p8 = p5 # we assume no pressure drop across the storage tank\n",
    "\n",
    "h8 = PropsSI('H','T',T8,'P',p8,fluidHeatTransfer)\n",
    "s8 = PropsSI('S','T',T8,'P',p8,fluidHeatTransfer)"
   ]
  },
  {
   "cell_type": "code",
   "execution_count": 14,
   "id": "c1616750-0a78-4ced-94e0-2b9a22c72901",
   "metadata": {},
   "outputs": [],
   "source": [
    "# State 7\n",
    "T7 = 360+273.15\n",
    "p7 = p8 # no pressure drop across a heat exchanger\n",
    "\n",
    "h7 = PropsSI('H','T',T7,'P',p7,fluidHeatTransfer)\n",
    "s7 = PropsSI('S','T',T7,'P',p7,fluidHeatTransfer)"
   ]
  },
  {
   "cell_type": "code",
   "execution_count": 15,
   "id": "2ab55381-a7e5-40c4-b622-47df7a01d949",
   "metadata": {},
   "outputs": [],
   "source": [
    "# State 6, we are neglecting any work transfer from the pump\n",
    "# so the properties will be the sae as state 5\n",
    "T6 = T5\n",
    "p6 = p5\n",
    "\n",
    "h6 = PropsSI('H','T',T6,'P',p6,fluidHeatTransfer)\n",
    "s6 = PropsSI('S','T',T6,'P',p6,fluidHeatTransfer)"
   ]
  },
  {
   "cell_type": "code",
   "execution_count": 16,
   "id": "982c042d-9cf3-42bd-86d6-2a729af1402f",
   "metadata": {},
   "outputs": [
    {
     "name": "stdout",
     "output_type": "stream",
     "text": [
      "25.595087166313462\n"
     ]
    }
   ],
   "source": [
    "QdotIn_W = 10e6\n",
    "\n",
    "mdot_kgPerS = QdotIn_W/(h7 - h6); print(mdot_kgPerS)"
   ]
  },
  {
   "cell_type": "code",
   "execution_count": 17,
   "id": "cc460e11-ac22-4091-b678-88771abc8007",
   "metadata": {},
   "outputs": [],
   "source": [
    "# The dead state properties:\n",
    "T0 = 25+273.15\n",
    "p0 = 101325\n",
    "\n",
    "h0 = PropsSI('H','T',T0,'P',p0,fluidHeatTransfer)\n",
    "s0 = PropsSI('S','T',T0,'P',p0,fluidHeatTransfer)"
   ]
  },
  {
   "cell_type": "code",
   "execution_count": 18,
   "id": "0dbe1e05-514b-42cd-bc42-33f6081f6b59",
   "metadata": {},
   "outputs": [
    {
     "name": "stdout",
     "output_type": "stream",
     "text": [
      "6533960.503396098\n"
     ]
    }
   ],
   "source": [
    "# Exergy recovered\n",
    "XdotOutlet_W = mdot_kgPerS*((h7 - h0) - T0*(s7 - s0)); print(XdotOutlet_W)"
   ]
  },
  {
   "cell_type": "code",
   "execution_count": 19,
   "id": "1497680e-d7ef-4c39-810e-43158b90eb2e",
   "metadata": {},
   "outputs": [
    {
     "name": "stdout",
     "output_type": "stream",
     "text": [
      "1937087.0055465845\n",
      "9483454.60845461\n"
     ]
    }
   ],
   "source": [
    "# Exergy expended\n",
    "XdotInlet_W = mdot_kgPerS*((h6 - h0) - T0*(s6 - s0)); print(XdotInlet_W)\n",
    "XdotPump_W = 0\n",
    "QdotSun_W = QdotIn_W\n",
    "\n",
    "Tsun_K = 5772\n",
    "XdotSun_W = QdotSun_W*(1 - (T0/Tsun_K)); print(XdotSun_W)"
   ]
  },
  {
   "cell_type": "code",
   "execution_count": 20,
   "id": "cca94be5-948d-4fa7-887d-c51523360781",
   "metadata": {},
   "outputs": [
    {
     "name": "stdout",
     "output_type": "stream",
     "text": [
      "0.572123523054781\n"
     ]
    }
   ],
   "source": [
    "eta_II = XdotOutlet_W/(XdotInlet_W+XdotPump_W+XdotSun_W); print(eta_II)"
   ]
  },
  {
   "cell_type": "markdown",
   "id": "b4317570-74d7-41c4-864d-ff21994e9ebf",
   "metadata": {},
   "source": [
    "#### Part (c)\n",
    "\n",
    "In order to analyze the exergy destruction in the heat exchanger, we make the following assumptions:\n",
    "- the heat exchanger is adiabatic with respect to the surroundings.\n",
    "- the water exits the condenser (state 1) with a quality of zero. "
   ]
  },
  {
   "cell_type": "code",
   "execution_count": 32,
   "id": "3b476b5b-529d-4dbc-b147-9979ed6d3307",
   "metadata": {},
   "outputs": [],
   "source": [
    "# state 1\n",
    "x1 = 0\n",
    "p1_kPa = 75\n",
    "p1_MPa = p1_kPa/1000\n",
    "\n",
    "# state 3\n",
    "p3_MPa = 10\n",
    "T3_K = 300+273.15"
   ]
  },
  {
   "cell_type": "code",
   "execution_count": 33,
   "id": "19858c7d-6e50-4657-9625-6b1412446fe8",
   "metadata": {},
   "outputs": [
    {
     "name": "stdout",
     "output_type": "stream",
     "text": [
      "Requirement already satisfied: iapws in /srv/conda/lib/python3.11/site-packages (1.5.4)\n",
      "Requirement already satisfied: scipy>=1.2 in /srv/conda/lib/python3.11/site-packages (from iapws) (1.14.1)\n",
      "Requirement already satisfied: numpy<2.3,>=1.23.5 in /srv/conda/lib/python3.11/site-packages (from scipy>=1.2->iapws) (2.2.2)\n"
     ]
    }
   ],
   "source": [
    "!pip install iapws"
   ]
  },
  {
   "cell_type": "code",
   "execution_count": 34,
   "id": "491f674c-e767-455e-94a9-6c1c67cadbd8",
   "metadata": {},
   "outputs": [],
   "source": [
    "from iapws import IAPWS97"
   ]
  },
  {
   "cell_type": "code",
   "execution_count": 35,
   "id": "297744c6-0bec-4d25-aabe-71899ebe36b2",
   "metadata": {},
   "outputs": [],
   "source": [
    "# exit of condenser\n",
    "state1 = IAPWS97(P=p1_MPa, x=x1)"
   ]
  },
  {
   "cell_type": "code",
   "execution_count": 36,
   "id": "df1d098e-625f-4928-b811-b383b5e8c965",
   "metadata": {},
   "outputs": [],
   "source": [
    "# exit of pump\n",
    "p2_MPa = p3_MPa\n",
    "\n",
    "state2 = IAPWS97(P=p2_MPa, s=state1.s)"
   ]
  },
  {
   "cell_type": "code",
   "execution_count": 62,
   "id": "972d0206-9924-449c-ab04-413cd00e875b",
   "metadata": {},
   "outputs": [
    {
     "name": "stdout",
     "output_type": "stream",
     "text": [
      "10000000.0\n",
      "10.543423837604657\n"
     ]
    }
   ],
   "source": [
    "# exit of heat exchanger, aka boiiler\n",
    "state3 = IAPWS97(P=p3_MPa, T=T3_K)\n",
    "\n",
    "Qdot23_W = mdot_kgPerS*(h7-h8); print(Qdot23_W)\n",
    "Qdot23_kW = Qdot23_W/1e3\n",
    "\n",
    "mdotWater_kgPerS = Qdot23_kW/(state3.h - state2.h); print(mdotWater_kgPerS)"
   ]
  },
  {
   "cell_type": "markdown",
   "id": "75298173-b2a4-4b85-8748-71e55e31fc81",
   "metadata": {},
   "source": [
    "The rate of exergy destruction at steady state for two streams entering an adiabatic control volume with no work interaction at state 2 and 7 and exiting at state 3 and 8 are defined as:\n",
    "\n",
    "$$\\dot{X}_\\text{destroyed} = \\dot{m}_\\text{water}(\\psi_2 - \\psi_3) + \\dot{m}_\\text{htf}(\\psi_7 - \\psi_8) $$\n",
    "\n",
    "where (neglecting kinetic and potential energy effects)\n",
    "\n",
    "$$\\psi_2 - \\psi_3 = (h_2 - h_3) - T_0(s_2 - s_3)$$"
   ]
  },
  {
   "cell_type": "code",
   "execution_count": 65,
   "id": "9e3f2f7b-4105-4acd-9b00-73f88b66381b",
   "metadata": {},
   "outputs": [
    {
     "name": "stdout",
     "output_type": "stream",
     "text": [
      "(c) The rate of exergy destruction in the heat exchanger is: 995.21 kW.\n"
     ]
    }
   ],
   "source": [
    "Xdestroyed_kW = mdotWater_kgPerS*((state2.h - state3.h) - T0*(state2.s - state3.s)) + mdot_kgPerS*(((h7 - h8 )/1000) - (T0*(s7 - s8)/1000) )\n",
    "\n",
    "print('(c) The rate of exergy destruction in the heat exchanger is: {0:1.2f} kW.'.format(Xdestroyed_kW))"
   ]
  },
  {
   "cell_type": "code",
   "execution_count": 66,
   "id": "6d48048b-d329-476a-9ce0-56401a715378",
   "metadata": {},
   "outputs": [
    {
     "name": "stdout",
     "output_type": "stream",
     "text": [
      "(c) The second law efficiency of the heat exchanger is: 78.35 %.\n"
     ]
    }
   ],
   "source": [
    "cold = mdotWater_kgPerS*((state3.h - state2.h) - T0*(state3.s - state2.s)) # 3 minus 2\n",
    "hot = mdot_kgPerS*(((h7 - h8 )/1000) - (T0*(s7 - s8)/1000) )  # 7 minus 8\n",
    "\n",
    "eta_II_HX = cold/hot\n",
    "\n",
    "print('(c) The second law efficiency of the heat exchanger is: {0:1.2f} %.'.format(eta_II_HX*100))"
   ]
  },
  {
   "cell_type": "code",
   "execution_count": 67,
   "id": "7ccfd5cc-84e1-49a1-9f3d-a9f2dcc76b03",
   "metadata": {},
   "outputs": [],
   "source": [
    "import numpy as np\n",
    "import matplotlib.pyplot as plt"
   ]
  },
  {
   "cell_type": "code",
   "execution_count": 68,
   "id": "aef75065-bbd6-45b0-8cd6-13cc1101c112",
   "metadata": {},
   "outputs": [
    {
     "data": {
      "image/png": "[encoded data removed]",
      "text/plain": [
       "<Figure size 640x480 with 1 Axes>"
      ]
     },
     "metadata": {},
     "output_type": "display_data"
    }
   ],
   "source": [
    "plt.figure()\n",
    "plt.clf()\n",
    "steps = 100\n",
    "\n",
    "Tmax_K = 359+273.15\n",
    "h0_kJperKg = PropsSI('H','T',T0,'P',p0,fluidHeatTransfer)\n",
    "T0_K = T0\n",
    "s0_kJperKgperK = s0\n",
    "\n",
    "T_ = np.linspace(25+273.15, Tmax_K, steps) # range of temperatures\n",
    "h0_ = np.linspace(h0_kJperKg, h0_kJperKg, steps) \n",
    "T0_ = np.linspace(T0_K, T0_K, steps)\n",
    "s0_ = np.linspace(s0_kJperKgperK, s0_kJperKgperK, steps)\n",
    "Xsun_ = np.linspace(XdotSun_W, XdotSun_W, steps)\n",
    "\n",
    "T6_ = T_\n",
    "s6_ = [PropsSI('S','T',t,'P',p6,fluidHeatTransfer) for t in T_]\n",
    "h6_ = [PropsSI('H','T',t,'P',p6,fluidHeatTransfer) for t in T_]\n",
    "\n",
    "s7_ = np.linspace(s7, s7, steps)\n",
    "h7_ = np.linspace(h7, h7, steps)\n",
    "T7_ = np.linspace(T7, T7, steps)\n",
    "QdotIn_W_ = np.linspace(QdotIn_W, QdotIn_W, steps)\n",
    "XdotSun_W_ = np.linspace(XdotSun_W,XdotSun_W,steps)\n",
    "\n",
    "mdot_ = QdotIn_W_/(h7_ - h6_)\n",
    "\n",
    "XdotInlet_W_ = mdot_*((h6_ - h0_) - T0_*(s6_ - s0_))\n",
    "XdotOutlet_W_ = mdot_*((h7_ - h0_) - T0_*(s7_ - s0_))\n",
    "\n",
    "DeltaT76_ = T7_ - T_\n",
    "\n",
    "eta_II_ = XdotOutlet_W_/(XdotInlet_W_ + XdotSun_W_)\n",
    "\n",
    "plt.plot(T_, eta_II_, 'k-')\n",
    "\n",
    "plt.xlabel('$T_{6}$ (K))')\n",
    "plt.ylabel('$\\eta_{II}$ (-)')\n",
    "plt.savefig('eta-Tin.png')"
   ]
  },
  {
   "cell_type": "code",
   "execution_count": 69,
   "id": "76acb3e1-d9a8-4982-9628-20fe31541915",
   "metadata": {},
   "outputs": [
    {
     "data": {
      "image/png": "[encoded data removed]",
      "text/plain": [
       "<Figure size 640x480 with 1 Axes>"
      ]
     },
     "metadata": {},
     "output_type": "display_data"
    }
   ],
   "source": [
    "plt.plot(DeltaT76_, eta_II_, 'k-')\n",
    "\n",
    "plt.xlabel('$T_{7} - T_{6}$ (K))')\n",
    "plt.ylabel('$\\eta_{II}$ (-)')\n",
    "plt.savefig('eta-deltatT.png')"
   ]
  },
  {
   "cell_type": "code",
   "execution_count": 70,
   "id": "f9f10fa4-9cf1-424c-8c76-9ef1170b63ea",
   "metadata": {},
   "outputs": [
    {
     "data": {
      "image/png": "[encoded data removed]",
      "text/plain": [
       "<Figure size 640x480 with 1 Axes>"
      ]
     },
     "metadata": {},
     "output_type": "display_data"
    }
   ],
   "source": [
    "plt.figure()\n",
    "plt.clf()\n",
    "\n",
    "plt.plot(T_, mdot_, 'k-')\n",
    "\n",
    "plt.xlabel('$T_{6}$ (K))')\n",
    "plt.ylabel('$\\dot{m}$ (-)')\n",
    "plt.savefig('eta-mdot.png')"
   ]
  },
  {
   "cell_type": "code",
   "execution_count": 71,
   "id": "cfa3d296-d31d-4bea-b215-bb3a67e51981",
   "metadata": {},
   "outputs": [
    {
     "data": {
      "image/png": "[encoded data removed]",
      "text/plain": [
       "<Figure size 640x480 with 1 Axes>"
      ]
     },
     "metadata": {},
     "output_type": "display_data"
    }
   ],
   "source": [
    "plt.figure()\n",
    "plt.clf()\n",
    "\n",
    "# Xrecovered_W_ = XdotOutlet_W_\n",
    "\n",
    "Xdest_W__ = XdotSun_W_ + XdotInlet_W_ - XdotOutlet_W_\n",
    "\n",
    "plt.plot(DeltaT76_, Xdest_W__, 'k-')\n",
    "\n",
    "plt.xlabel('$T_{7} - T_{6}$ (K))')\n",
    "plt.ylabel('$X_{destruction}$ (W)')\n",
    "plt.savefig('eta-Xdestruction_2.png')"
   ]
  },
  {
   "cell_type": "code",
   "execution_count": null,
   "id": "c4325ae2-d9c3-4264-8292-c27cc1ee675e",
   "metadata": {},
   "outputs": [],
   "source": []
  },
  {
   "cell_type": "code",
   "execution_count": null,
   "id": "8d281dda-eaa1-474c-ad02-00a44eadf637",
   "metadata": {},
   "outputs": [],
   "source": []
  }
 ],
 "metadata": {
  "kernelspec": {
   "display_name": "Python 3 (ipykernel)",
   "language": "python",
   "name": "python3"
  },
  "language_info": {
   "codemirror_mode": {
    "name": "ipython",
    "version": 3
   },
   "file_extension": ".py",
   "mimetype": "text/x-python",
   "name": "python",
   "nbconvert_exporter": "python",
   "pygments_lexer": "ipython3",
   "version": "3.11.11"
  }
 },
 "nbformat": 4,
 "nbformat_minor": 5
}
